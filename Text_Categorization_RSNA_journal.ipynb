{
  "cells": [
    {
      "cell_type": "markdown",
      "source": [
        "# Dataset creation\n",
        "\n",
        "The required dataset is created from [RSNA Journal](https://pubs.rsna.org)  scraping with beautifulsoup4\n",
        "\n",
        "\n"
      ],
      "metadata": {
        "id": "i08qn_7Sliwh"
      }
    },
    {
      "cell_type": "code",
      "execution_count": null,
      "metadata": {
        "colab": {
          "base_uri": "https://localhost:8080/"
        },
        "id": "7gyJTEvPG-fi",
        "outputId": "3287aafb-629a-4e7d-bd84-54cf7b484ef5"
      },
      "outputs": [
        {
          "name": "stdout",
          "output_type": "stream",
          "text": [
            "Looking in indexes: https://pypi.org/simple, https://us-python.pkg.dev/colab-wheels/public/simple/\n",
            "Requirement already satisfied: requests in /usr/local/lib/python3.7/dist-packages (2.23.0)\n",
            "Requirement already satisfied: urllib3!=1.25.0,!=1.25.1,<1.26,>=1.21.1 in /usr/local/lib/python3.7/dist-packages (from requests) (1.24.3)\n",
            "Requirement already satisfied: idna<3,>=2.5 in /usr/local/lib/python3.7/dist-packages (from requests) (2.10)\n",
            "Requirement already satisfied: certifi>=2017.4.17 in /usr/local/lib/python3.7/dist-packages (from requests) (2022.9.24)\n",
            "Requirement already satisfied: chardet<4,>=3.0.2 in /usr/local/lib/python3.7/dist-packages (from requests) (3.0.4)\n",
            "Looking in indexes: https://pypi.org/simple, https://us-python.pkg.dev/colab-wheels/public/simple/\n",
            "Requirement already satisfied: beautifulsoup4 in /usr/local/lib/python3.7/dist-packages (4.6.3)\n"
          ]
        }
      ],
      "source": [
        "!pip install requests\n",
        "!pip install beautifulsoup4"
      ]
    },
    {
      "cell_type": "code",
      "execution_count": null,
      "metadata": {
        "colab": {
          "base_uri": "https://localhost:8080/"
        },
        "id": "OGDdA5tkGtFo",
        "outputId": "50f07bca-b43c-4639-b0e2-1a2903a02ac7"
      },
      "outputs": [
        {
          "name": "stdout",
          "output_type": "stream",
          "text": [
            "span_parent <li class=\"menu-parent\"><a href=\"#\"><span>Browse by</span></a>\n",
            "        <ul>\n",
            "            <li><a href=\"/topic/subspecialty/bq?SeriesKey=radiology&amp;sortBy=Ppub\">Biomarkers/Quantitative Imaging</a></li>\n",
            "            <li><a href=\"/topic/subspecialty/br?SeriesKey=radiology&amp;sortBy=Ppub\">Breast Imaging</a></li>\n",
            "            <li><a href=\"/topic/subspecialty/ca?SeriesKey=radiology&amp;sortBy=Ppub\">Cardiac Radiology</a></li>\n",
            "            <li><a href=\"/topic/subspecialty/ch?SeriesKey=radiology&amp;sortBy=Ppub\">Chest Radiology</a></li>\n",
            "            <li><a href=\"/topic/subspecialty/ct?SeriesKey=radiology&amp;sortBy=Ppub\">Computed Tomography</a></li>\n",
            "            <li><a href=\"/topic/subspecialty/ed?SeriesKey=radiology&amp;sortBy=Ppub\">Education</a></li>\n",
            "            <li><a href=\"/topic/subspecialty/er?SeriesKey=radiology&amp;sortBy=Ppub\">Emergency Radiology</a></li>\n",
            "            <li><a href=\"/topic/subspecialty/gi?SeriesKey=radiology&amp;sortBy=Ppub\">Gastrointestinal Radiology</a></li>\n",
            "            <li><a href=\"/topic/subspecialty/gn?SeriesKey=radiology&amp;sortBy=Ppub\">General/Multisystem Radiology</a></li>\n",
            "            <li><a href=\"/topic/subspecialty/gu?SeriesKey=radiology&amp;sortBy=Ppub\">Genitourinary Radiology</a></li>\n",
            "            <li><a href=\"/topic/subspecialty/hn?SeriesKey=radiology&amp;sortBy=Ppub\">Head and Neck</a></li>\n",
            "            <li><a href=\"/topic/subspecialty/hp?SeriesKey=radiology&amp;sortBy=Ppub\">Health Policy</a></li>\n",
            "            <li><a href=\"/topic/subspecialty/in?SeriesKey=radiology&amp;sortBy=Ppub\">Informatics</a></li>\n",
            "            <li><a href=\"/topic/subspecialty/ir?SeriesKey=radiology&amp;sortBy=Ppub\">Interventional Radiology</a></li>\n",
            "            <li><a href=\"/topic/subspecialty/lm?SeriesKey=radiology&amp;sortBy=Ppub\">Leadership &amp; Management</a></li>\n",
            "            <li><a href=\"/topic/subspecialty/mr?SeriesKey=radiology&amp;sortBy=Ppub\">Magnetic Resonance Imaging</a></li>\n",
            "            <li><a href=\"/topic/subspecialty/mi?SeriesKey=radiology&amp;sortBy=Ppub\">Molecular Imaging</a></li>\n",
            "            <li><a href=\"/topic/subspecialty/mk?SeriesKey=radiology&amp;sortBy=Ppub\">Musculoskeletal Radiology</a></li>\n",
            "            <li><a href=\"/topic/subspecialty/nr?SeriesKey=radiology&amp;sortBy=Ppub\">Neuroradiology</a></li>\n",
            "            <li><a href=\"/topic/subspecialty/nm?SeriesKey=radiology&amp;sortBy=Ppub\">Nuclear Medicine</a></li>\n",
            "            <li><a href=\"/topic/subspecialty/ob?SeriesKey=radiology&amp;sortBy=Ppub\">Obstetric/Gynecologic Radiology</a></li>\n",
            "            <li><a href=\"/topic/subspecialty/oi?SeriesKey=radiology&amp;sortBy=Ppub\">Oncologic Imaging</a></li>\n",
            "            <li><a href=\"/topic/subspecialty/ot?SeriesKey=radiology&amp;sortBy=Ppub\">Other</a></li>\n",
            "            <li><a href=\"/topic/subspecialty/pd?SeriesKey=radiology&amp;sortBy=Ppub\">Pediatric Radiology</a></li>\n",
            "            <li><a href=\"/topic/subspecialty/ph?SeriesKey=radiology&amp;sortBy=Ppub\">Physics and Basic Science</a></li>\n",
            "            <li><a href=\"/topic/subspecialty/pr?SeriesKey=radiology&amp;sortBy=Ppub\">Professionalism</a></li>\n",
            "            <li><a href=\"/topic/subspecialty/ro?SeriesKey=radiology&amp;sortBy=Ppub\">Radiation Oncology</a></li>\n",
            "            <li><a href=\"/topic/subspecialty/rs?SeriesKey=radiology&amp;sortBy=Ppub\">Research and Statistical Methods</a></li>\n",
            "            <li><a href=\"/topic/subspecialty/sq?SeriesKey=radiology&amp;sortBy=Ppub\">Safety and Quality</a></li>\n",
            "            <li><a href=\"/topic/subspecialty/us?SeriesKey=radiology&amp;sortBy=Ppub\">Ultrasound</a></li>\n",
            "            <li><a href=\"/topic/subspecialty/va?SeriesKey=radiology&amp;sortBy=Ppub\">Vascular Radiology</a></li>\n",
            "        </ul>\n",
            "</li>\n",
            "links [<a href=\"#\"><span>Browse by</span></a>, <a href=\"/topic/subspecialty/bq?SeriesKey=radiology&amp;sortBy=Ppub\">Biomarkers/Quantitative Imaging</a>, <a href=\"/topic/subspecialty/br?SeriesKey=radiology&amp;sortBy=Ppub\">Breast Imaging</a>, <a href=\"/topic/subspecialty/ca?SeriesKey=radiology&amp;sortBy=Ppub\">Cardiac Radiology</a>, <a href=\"/topic/subspecialty/ch?SeriesKey=radiology&amp;sortBy=Ppub\">Chest Radiology</a>, <a href=\"/topic/subspecialty/ct?SeriesKey=radiology&amp;sortBy=Ppub\">Computed Tomography</a>, <a href=\"/topic/subspecialty/ed?SeriesKey=radiology&amp;sortBy=Ppub\">Education</a>, <a href=\"/topic/subspecialty/er?SeriesKey=radiology&amp;sortBy=Ppub\">Emergency Radiology</a>, <a href=\"/topic/subspecialty/gi?SeriesKey=radiology&amp;sortBy=Ppub\">Gastrointestinal Radiology</a>, <a href=\"/topic/subspecialty/gn?SeriesKey=radiology&amp;sortBy=Ppub\">General/Multisystem Radiology</a>, <a href=\"/topic/subspecialty/gu?SeriesKey=radiology&amp;sortBy=Ppub\">Genitourinary Radiology</a>, <a href=\"/topic/subspecialty/hn?SeriesKey=radiology&amp;sortBy=Ppub\">Head and Neck</a>, <a href=\"/topic/subspecialty/hp?SeriesKey=radiology&amp;sortBy=Ppub\">Health Policy</a>, <a href=\"/topic/subspecialty/in?SeriesKey=radiology&amp;sortBy=Ppub\">Informatics</a>, <a href=\"/topic/subspecialty/ir?SeriesKey=radiology&amp;sortBy=Ppub\">Interventional Radiology</a>, <a href=\"/topic/subspecialty/lm?SeriesKey=radiology&amp;sortBy=Ppub\">Leadership &amp; Management</a>, <a href=\"/topic/subspecialty/mr?SeriesKey=radiology&amp;sortBy=Ppub\">Magnetic Resonance Imaging</a>, <a href=\"/topic/subspecialty/mi?SeriesKey=radiology&amp;sortBy=Ppub\">Molecular Imaging</a>, <a href=\"/topic/subspecialty/mk?SeriesKey=radiology&amp;sortBy=Ppub\">Musculoskeletal Radiology</a>, <a href=\"/topic/subspecialty/nr?SeriesKey=radiology&amp;sortBy=Ppub\">Neuroradiology</a>, <a href=\"/topic/subspecialty/nm?SeriesKey=radiology&amp;sortBy=Ppub\">Nuclear Medicine</a>, <a href=\"/topic/subspecialty/ob?SeriesKey=radiology&amp;sortBy=Ppub\">Obstetric/Gynecologic Radiology</a>, <a href=\"/topic/subspecialty/oi?SeriesKey=radiology&amp;sortBy=Ppub\">Oncologic Imaging</a>, <a href=\"/topic/subspecialty/ot?SeriesKey=radiology&amp;sortBy=Ppub\">Other</a>, <a href=\"/topic/subspecialty/pd?SeriesKey=radiology&amp;sortBy=Ppub\">Pediatric Radiology</a>, <a href=\"/topic/subspecialty/ph?SeriesKey=radiology&amp;sortBy=Ppub\">Physics and Basic Science</a>, <a href=\"/topic/subspecialty/pr?SeriesKey=radiology&amp;sortBy=Ppub\">Professionalism</a>, <a href=\"/topic/subspecialty/ro?SeriesKey=radiology&amp;sortBy=Ppub\">Radiation Oncology</a>, <a href=\"/topic/subspecialty/rs?SeriesKey=radiology&amp;sortBy=Ppub\">Research and Statistical Methods</a>, <a href=\"/topic/subspecialty/sq?SeriesKey=radiology&amp;sortBy=Ppub\">Safety and Quality</a>, <a href=\"/topic/subspecialty/us?SeriesKey=radiology&amp;sortBy=Ppub\">Ultrasound</a>, <a href=\"/topic/subspecialty/va?SeriesKey=radiology&amp;sortBy=Ppub\">Vascular Radiology</a>]\n"
          ]
        }
      ],
      "source": [
        "import requests\n",
        "from bs4 import BeautifulSoup\n",
        "import time\n",
        "BASE_URL = \"https://pubs.rsna.org\"\n",
        "URL = \"https://pubs.rsna.org/journal/radiology\"\n",
        "r = requests.get(URL)\n",
        "\n",
        "\n",
        "soup = BeautifulSoup(r.content, 'html5lib') # If this line causes an error, run 'pip install html5lib' or install html5lib\n",
        "# print(soup.prettify())\n",
        "all_spans = soup.find_all(\"span\")\n",
        "\n",
        "span_parent = None\n",
        "for span in all_spans:\n",
        "\n",
        "    if span.text == 'Browse by':\n",
        "        span_parent = span.parent.parent\n",
        "        print('span_parent',span_parent)\n",
        "\n",
        "\n",
        "links = span_parent.find_all(\"a\")\n",
        "print('links',links)\n",
        "links_to_scrape = []\n",
        "for link in links[1:]:\n",
        "    page = requests.get(BASE_URL + link['href'])\n",
        "    page_soup = BeautifulSoup(page.content, 'html5lib')\n",
        "    journal_count = page_soup.find('span', class_='result__count')\n",
        "\n",
        "    if int(journal_count.text) > 100:\n",
        "        item = {'topic':link.text, 'url':BASE_URL + link['href']}\n",
        "        links_to_scrape.append(item)\n",
        "    time.sleep(2)\n",
        "\n",
        "\n",
        "\n"
      ]
    },
    {
      "cell_type": "code",
      "execution_count": null,
      "metadata": {
        "colab": {
          "base_uri": "https://localhost:8080/"
        },
        "id": "FEvYmbqrpvfY",
        "outputId": "f1292865-2136-47a0-a9fc-025edc4702cc"
      },
      "outputs": [
        {
          "name": "stdout",
          "output_type": "stream",
          "text": [
            "[{'topic': 'Breast Imaging', 'url': 'https://pubs.rsna.org/topic/subspecialty/br?SeriesKey=radiology&sortBy=Ppub'}, {'topic': 'Cardiac Radiology', 'url': 'https://pubs.rsna.org/topic/subspecialty/ca?SeriesKey=radiology&sortBy=Ppub'}, {'topic': 'Chest Radiology', 'url': 'https://pubs.rsna.org/topic/subspecialty/ch?SeriesKey=radiology&sortBy=Ppub'}, {'topic': 'Computed Tomography', 'url': 'https://pubs.rsna.org/topic/subspecialty/ct?SeriesKey=radiology&sortBy=Ppub'}, {'topic': 'Gastrointestinal Radiology', 'url': 'https://pubs.rsna.org/topic/subspecialty/gi?SeriesKey=radiology&sortBy=Ppub'}, {'topic': 'Genitourinary Radiology', 'url': 'https://pubs.rsna.org/topic/subspecialty/gu?SeriesKey=radiology&sortBy=Ppub'}, {'topic': 'Head and Neck', 'url': 'https://pubs.rsna.org/topic/subspecialty/hn?SeriesKey=radiology&sortBy=Ppub'}, {'topic': 'Health Policy', 'url': 'https://pubs.rsna.org/topic/subspecialty/hp?SeriesKey=radiology&sortBy=Ppub'}, {'topic': 'Informatics', 'url': 'https://pubs.rsna.org/topic/subspecialty/in?SeriesKey=radiology&sortBy=Ppub'}, {'topic': 'Interventional Radiology', 'url': 'https://pubs.rsna.org/topic/subspecialty/ir?SeriesKey=radiology&sortBy=Ppub'}, {'topic': 'Magnetic Resonance Imaging', 'url': 'https://pubs.rsna.org/topic/subspecialty/mr?SeriesKey=radiology&sortBy=Ppub'}, {'topic': 'Molecular Imaging', 'url': 'https://pubs.rsna.org/topic/subspecialty/mi?SeriesKey=radiology&sortBy=Ppub'}, {'topic': 'Musculoskeletal Radiology', 'url': 'https://pubs.rsna.org/topic/subspecialty/mk?SeriesKey=radiology&sortBy=Ppub'}, {'topic': 'Neuroradiology', 'url': 'https://pubs.rsna.org/topic/subspecialty/nr?SeriesKey=radiology&sortBy=Ppub'}, {'topic': 'Oncologic Imaging', 'url': 'https://pubs.rsna.org/topic/subspecialty/oi?SeriesKey=radiology&sortBy=Ppub'}, {'topic': 'Pediatric Radiology', 'url': 'https://pubs.rsna.org/topic/subspecialty/pd?SeriesKey=radiology&sortBy=Ppub'}, {'topic': 'Ultrasound', 'url': 'https://pubs.rsna.org/topic/subspecialty/us?SeriesKey=radiology&sortBy=Ppub'}, {'topic': 'Vascular Radiology', 'url': 'https://pubs.rsna.org/topic/subspecialty/va?SeriesKey=radiology&sortBy=Ppub'}]\n"
          ]
        }
      ],
      "source": [
        "# links_to_scrape = links_to_scrape[1:]\n",
        "print(links_to_scrape)"
      ]
    },
    {
      "cell_type": "code",
      "execution_count": null,
      "metadata": {
        "colab": {
          "base_uri": "https://localhost:8080/"
        },
        "id": "7A4VVTrOS0CK",
        "outputId": "4e408dc1-b920-4941-8442-677f0f66df8a"
      },
      "outputs": [
        {
          "name": "stdout",
          "output_type": "stream",
          "text": [
            "[{'topic': 'Breast Imaging', 'url': 'https://pubs.rsna.org/topic/subspecialty/br?SeriesKey=radiology&sortBy=Ppub', 'count': 0}, {'topic': 'Cardiac Radiology', 'url': 'https://pubs.rsna.org/topic/subspecialty/ca?SeriesKey=radiology&sortBy=Ppub', 'count': 0}, {'topic': 'Chest Radiology', 'url': 'https://pubs.rsna.org/topic/subspecialty/ch?SeriesKey=radiology&sortBy=Ppub', 'count': 0}, {'topic': 'Computed Tomography', 'url': 'https://pubs.rsna.org/topic/subspecialty/ct?SeriesKey=radiology&sortBy=Ppub', 'count': 0}, {'topic': 'Gastrointestinal Radiology', 'url': 'https://pubs.rsna.org/topic/subspecialty/gi?SeriesKey=radiology&sortBy=Ppub', 'count': 0}, {'topic': 'Genitourinary Radiology', 'url': 'https://pubs.rsna.org/topic/subspecialty/gu?SeriesKey=radiology&sortBy=Ppub', 'count': 0}, {'topic': 'Head and Neck', 'url': 'https://pubs.rsna.org/topic/subspecialty/hn?SeriesKey=radiology&sortBy=Ppub', 'count': 0}, {'topic': 'Health Policy', 'url': 'https://pubs.rsna.org/topic/subspecialty/hp?SeriesKey=radiology&sortBy=Ppub', 'count': 0}, {'topic': 'Informatics', 'url': 'https://pubs.rsna.org/topic/subspecialty/in?SeriesKey=radiology&sortBy=Ppub', 'count': 0}, {'topic': 'Interventional Radiology', 'url': 'https://pubs.rsna.org/topic/subspecialty/ir?SeriesKey=radiology&sortBy=Ppub', 'count': 0}, {'topic': 'Magnetic Resonance Imaging', 'url': 'https://pubs.rsna.org/topic/subspecialty/mr?SeriesKey=radiology&sortBy=Ppub', 'count': 0}, {'topic': 'Molecular Imaging', 'url': 'https://pubs.rsna.org/topic/subspecialty/mi?SeriesKey=radiology&sortBy=Ppub', 'count': 0}, {'topic': 'Musculoskeletal Radiology', 'url': 'https://pubs.rsna.org/topic/subspecialty/mk?SeriesKey=radiology&sortBy=Ppub', 'count': 0}, {'topic': 'Neuroradiology', 'url': 'https://pubs.rsna.org/topic/subspecialty/nr?SeriesKey=radiology&sortBy=Ppub', 'count': 0}, {'topic': 'Oncologic Imaging', 'url': 'https://pubs.rsna.org/topic/subspecialty/oi?SeriesKey=radiology&sortBy=Ppub', 'count': 0}, {'topic': 'Pediatric Radiology', 'url': 'https://pubs.rsna.org/topic/subspecialty/pd?SeriesKey=radiology&sortBy=Ppub', 'count': 0}, {'topic': 'Ultrasound', 'url': 'https://pubs.rsna.org/topic/subspecialty/us?SeriesKey=radiology&sortBy=Ppub', 'count': 0}, {'topic': 'Vascular Radiology', 'url': 'https://pubs.rsna.org/topic/subspecialty/va?SeriesKey=radiology&sortBy=Ppub', 'count': 0}]\n"
          ]
        }
      ],
      "source": [
        "for link in links_to_scrape:\n",
        "  link['count']=0\n",
        "\n",
        "print(links_to_scrape)"
      ]
    },
    {
      "cell_type": "code",
      "execution_count": null,
      "metadata": {
        "colab": {
          "base_uri": "https://localhost:8080/"
        },
        "id": "sn_nvEXZH_v2",
        "outputId": "3b254f40-442f-45f0-8609-ddd4d41a4d45"
      },
      "outputs": [
        {
          "data": {
            "text/plain": [
              "['https://pubs.rsna.org/topic/subspecialty/br?SeriesKey=radiology&sortBy=Earliest',\n",
              " 'https://pubs.rsna.org/topic/subspecialty/ca?SeriesKey=radiology&sortBy=Earliest',\n",
              " 'https://pubs.rsna.org/topic/subspecialty/ch?SeriesKey=radiology&sortBy=Earliest',\n",
              " 'https://pubs.rsna.org/topic/subspecialty/ct?SeriesKey=radiology&sortBy=Earliest',\n",
              " 'https://pubs.rsna.org/topic/subspecialty/gi?SeriesKey=radiology&sortBy=Earliest',\n",
              " 'https://pubs.rsna.org/topic/subspecialty/gu?SeriesKey=radiology&sortBy=Earliest',\n",
              " 'https://pubs.rsna.org/topic/subspecialty/hn?SeriesKey=radiology&sortBy=Earliest',\n",
              " 'https://pubs.rsna.org/topic/subspecialty/hp?SeriesKey=radiology&sortBy=Earliest',\n",
              " 'https://pubs.rsna.org/topic/subspecialty/in?SeriesKey=radiology&sortBy=Earliest',\n",
              " 'https://pubs.rsna.org/topic/subspecialty/ir?SeriesKey=radiology&sortBy=Earliest',\n",
              " 'https://pubs.rsna.org/topic/subspecialty/mr?SeriesKey=radiology&sortBy=Earliest',\n",
              " 'https://pubs.rsna.org/topic/subspecialty/mi?SeriesKey=radiology&sortBy=Earliest',\n",
              " 'https://pubs.rsna.org/topic/subspecialty/mk?SeriesKey=radiology&sortBy=Earliest',\n",
              " 'https://pubs.rsna.org/topic/subspecialty/nr?SeriesKey=radiology&sortBy=Earliest',\n",
              " 'https://pubs.rsna.org/topic/subspecialty/oi?SeriesKey=radiology&sortBy=Earliest',\n",
              " 'https://pubs.rsna.org/topic/subspecialty/pd?SeriesKey=radiology&sortBy=Earliest',\n",
              " 'https://pubs.rsna.org/topic/subspecialty/us?SeriesKey=radiology&sortBy=Earliest',\n",
              " 'https://pubs.rsna.org/topic/subspecialty/va?SeriesKey=radiology&sortBy=Earliest']"
            ]
          },
          "execution_count": 7,
          "metadata": {},
          "output_type": "execute_result"
        }
      ],
      "source": [
        "scrape_links = [w['url'].replace('Ppub', 'Earliest') for w in links_to_scrape]\n",
        "scrape_links"
      ]
    },
    {
      "cell_type": "code",
      "execution_count": null,
      "metadata": {
        "colab": {
          "base_uri": "https://localhost:8080/",
          "height": 1000
        },
        "id": "1v4GxfsbIpVY",
        "outputId": "7c5c3e53-f628-4bee-8a50-b8da5bcd3523"
      },
      "outputs": [
        {
          "name": "stdout",
          "output_type": "stream",
          "text": [
            "scraping link https://pubs.rsna.org/topic/subspecialty/br?SeriesKey=radiology&sortBy=Ppub\n",
            "page 0\n",
            "per page 8\n",
            "scraping Breast Imaging count 0\n",
            "scraping Breast Imaging count 0\n",
            "scraping Breast Imaging count 0\n",
            "scraping Breast Imaging count 0\n",
            "scraping Breast Imaging count 0\n",
            "scraping Breast Imaging count 0\n",
            "scraping Breast Imaging count 1\n",
            "scraping Breast Imaging count 2\n",
            "page 1\n",
            "per page 8\n",
            "scraping Breast Imaging count 2\n",
            "scraping Breast Imaging count 3\n",
            "scraping Breast Imaging count 4\n",
            "scraping Breast Imaging count 5\n",
            "scraping Breast Imaging count 6\n",
            "scraping Breast Imaging count 7\n",
            "scraping Breast Imaging count 8\n",
            "scraping Breast Imaging count 9\n",
            "page 2\n",
            "per page 8\n",
            "scraping Breast Imaging count 10\n",
            "scraping Breast Imaging count 11\n",
            "scraping Breast Imaging count 12\n",
            "scraping Breast Imaging count 13\n",
            "scraping Breast Imaging count 14\n",
            "scraping Breast Imaging count 15\n",
            "scraping Breast Imaging count 16\n",
            "scraping Breast Imaging count 17\n",
            "page 3\n",
            "per page 8\n",
            "scraping Breast Imaging count 18\n",
            "scraping Breast Imaging count 19\n",
            "scraping Breast Imaging count 20\n",
            "scraping Breast Imaging count 21\n",
            "scraping Breast Imaging count 22\n",
            "scraping Breast Imaging count 23\n",
            "scraping Breast Imaging count 24\n",
            "scraping Breast Imaging count 25\n",
            "page 4\n",
            "per page 8\n",
            "scraping Breast Imaging count 26\n",
            "scraping Breast Imaging count 27\n",
            "scraping Breast Imaging count 28\n",
            "scraping Breast Imaging count 29\n",
            "scraping Breast Imaging count 30\n",
            "scraping Breast Imaging count 31\n",
            "scraping Breast Imaging count 32\n",
            "scraping Breast Imaging count 33\n",
            "page 5\n",
            "per page 8\n",
            "scraping Breast Imaging count 34\n",
            "scraping Breast Imaging count 34\n",
            "scraping Breast Imaging count 35\n",
            "scraping Breast Imaging count 36\n",
            "scraping Breast Imaging count 36\n",
            "scraping Breast Imaging count 37\n",
            "scraping Breast Imaging count 38\n",
            "scraping Breast Imaging count 39\n",
            "page 6\n",
            "per page 8\n",
            "scraping Breast Imaging count 40\n",
            "scraping Breast Imaging count 41\n",
            "scraping Breast Imaging count 42\n",
            "scraping Breast Imaging count 43\n",
            "scraping Breast Imaging count 44\n",
            "scraping Breast Imaging count 45\n",
            "scraping Breast Imaging count 46\n",
            "scraping Breast Imaging count 47\n",
            "page 7\n",
            "per page 8\n",
            "scraping Breast Imaging count 48\n",
            "scraping Breast Imaging count 49\n",
            "scraping Breast Imaging count 50\n",
            "scraping Breast Imaging count 51\n",
            "scraping Breast Imaging count 52\n",
            "scraping Breast Imaging count 53\n",
            "scraping Breast Imaging count 54\n",
            "scraping Breast Imaging count 55\n",
            "page 8\n",
            "per page 8\n",
            "scraping Breast Imaging count 56\n",
            "scraping Breast Imaging count 57\n",
            "scraping Breast Imaging count 58\n",
            "scraping Breast Imaging count 59\n",
            "scraping Breast Imaging count 60\n",
            "scraping Breast Imaging count 61\n",
            "scraping Breast Imaging count 62\n",
            "scraping Breast Imaging count 63\n",
            "page 9\n",
            "per page 8\n",
            "scraping Breast Imaging count 64\n",
            "scraping Breast Imaging count 65\n",
            "scraping Breast Imaging count 66\n",
            "scraping Breast Imaging count 67\n",
            "scraping Breast Imaging count 68\n",
            "scraping Breast Imaging count 69\n",
            "scraping Breast Imaging count 70\n",
            "scraping Breast Imaging count 71\n",
            "page 10\n",
            "per page 8\n",
            "scraping Breast Imaging count 72\n",
            "scraping Breast Imaging count 73\n",
            "scraping Breast Imaging count 74\n",
            "scraping Breast Imaging count 75\n",
            "scraping Breast Imaging count 76\n",
            "scraping Breast Imaging count 77\n",
            "scraping Breast Imaging count 78\n",
            "scraping Breast Imaging count 79\n",
            "page 11\n",
            "per page 8\n",
            "scraping Breast Imaging count 80\n",
            "scraping Breast Imaging count 81\n",
            "scraping Breast Imaging count 82\n",
            "scraping Breast Imaging count 83\n",
            "scraping Breast Imaging count 84\n",
            "scraping Breast Imaging count 85\n",
            "scraping Breast Imaging count 86\n",
            "scraping Breast Imaging count 87\n",
            "page 12\n",
            "per page 8\n",
            "scraping Breast Imaging count 88\n",
            "scraping Breast Imaging count 89\n",
            "scraping Breast Imaging count 90\n",
            "scraping Breast Imaging count 90\n",
            "scraping Breast Imaging count 91\n",
            "scraping Breast Imaging count 92\n",
            "scraping Breast Imaging count 93\n",
            "scraping Breast Imaging count 94\n",
            "page 13\n",
            "per page 8\n",
            "scraping Breast Imaging count 95\n",
            "scraping Breast Imaging count 95\n",
            "scraping Breast Imaging count 96\n",
            "scraping Breast Imaging count 96\n",
            "scraping Breast Imaging count 96\n",
            "scraping Breast Imaging count 96\n",
            "scraping Breast Imaging count 96\n",
            "scraping Breast Imaging count 97\n",
            "page 14\n",
            "per page 8\n",
            "scraping Breast Imaging count 97\n",
            "scraping Breast Imaging count 97\n",
            "scraping Breast Imaging count 97\n",
            "scraping Breast Imaging count 97\n",
            "scraping Breast Imaging count 97\n",
            "scraping Breast Imaging count 97\n",
            "scraping Breast Imaging count 97\n",
            "scraping Breast Imaging count 98\n",
            "page 15\n",
            "per page 8\n",
            "scraping Breast Imaging count 98\n",
            "scraping Breast Imaging count 98\n",
            "scraping Breast Imaging count 98\n",
            "scraping Breast Imaging count 98\n",
            "scraping Breast Imaging count 98\n",
            "scraping Breast Imaging count 98\n",
            "scraping Breast Imaging count 98\n",
            "scraping Breast Imaging count 98\n",
            "page 16\n",
            "per page 8\n",
            "scraping Breast Imaging count 98\n",
            "scraping Breast Imaging count 98\n",
            "scraping Breast Imaging count 98\n",
            "scraping Breast Imaging count 98\n",
            "scraping Breast Imaging count 98\n",
            "scraping Breast Imaging count 98\n",
            "scraping Breast Imaging count 98\n",
            "scraping Breast Imaging count 98\n",
            "page 17\n",
            "per page 8\n",
            "scraping Breast Imaging count 98\n",
            "scraping Breast Imaging count 98\n",
            "scraping Breast Imaging count 98\n",
            "scraping Breast Imaging count 98\n",
            "scraping Breast Imaging count 98\n",
            "scraping Breast Imaging count 98\n",
            "scraping Breast Imaging count 98\n",
            "scraping Breast Imaging count 98\n",
            "page 18\n",
            "per page 8\n",
            "scraping Breast Imaging count 98\n",
            "scraping Breast Imaging count 98\n",
            "scraping Breast Imaging count 98\n",
            "scraping Breast Imaging count 98\n",
            "scraping Breast Imaging count 98\n",
            "scraping Breast Imaging count 98\n",
            "scraping Breast Imaging count 98\n",
            "scraping Breast Imaging count 98\n",
            "page 19\n",
            "per page 8\n",
            "scraping Breast Imaging count 98\n",
            "scraping Breast Imaging count 98\n",
            "scraping Breast Imaging count 98\n",
            "scraping Breast Imaging count 98\n",
            "scraping Breast Imaging count 98\n",
            "scraping Breast Imaging count 98\n",
            "scraping Breast Imaging count 98\n",
            "scraping Breast Imaging count 98\n",
            "page 20\n",
            "per page 8\n",
            "scraping Breast Imaging count 98\n",
            "scraping Breast Imaging count 98\n",
            "scraping Breast Imaging count 98\n",
            "scraping Breast Imaging count 98\n",
            "scraping Breast Imaging count 98\n",
            "scraping Breast Imaging count 98\n",
            "scraping Breast Imaging count 98\n",
            "scraping Breast Imaging count 98\n",
            "page 21\n",
            "per page 8\n",
            "scraping Breast Imaging count 98\n",
            "scraping Breast Imaging count 98\n",
            "scraping Breast Imaging count 98\n",
            "scraping Breast Imaging count 98\n",
            "scraping Breast Imaging count 98\n",
            "scraping Breast Imaging count 98\n",
            "scraping Breast Imaging count 98\n",
            "scraping Breast Imaging count 98\n",
            "page 22\n",
            "per page 8\n",
            "scraping Breast Imaging count 98\n",
            "scraping Breast Imaging count 98\n",
            "scraping Breast Imaging count 98\n",
            "scraping Breast Imaging count 98\n",
            "scraping Breast Imaging count 98\n",
            "scraping Breast Imaging count 98\n",
            "scraping Breast Imaging count 98\n",
            "scraping Breast Imaging count 98\n",
            "page 23\n",
            "per page 8\n",
            "scraping Breast Imaging count 98\n",
            "scraping Breast Imaging count 98\n",
            "scraping Breast Imaging count 98\n",
            "scraping Breast Imaging count 98\n",
            "scraping Breast Imaging count 98\n",
            "scraping Breast Imaging count 98\n",
            "scraping Breast Imaging count 98\n",
            "scraping Breast Imaging count 98\n",
            "page 24\n",
            "per page 8\n",
            "scraping Breast Imaging count 98\n",
            "scraping Breast Imaging count 98\n",
            "scraping Breast Imaging count 98\n",
            "scraping Breast Imaging count 98\n",
            "scraping Breast Imaging count 98\n",
            "scraping Breast Imaging count 98\n",
            "scraping Breast Imaging count 99\n",
            "scraping Breast Imaging count 99\n",
            "page 25\n",
            "per page 8\n",
            "scraping Breast Imaging count 99\n",
            "scraping Breast Imaging count 99\n",
            "scraping Breast Imaging count 99\n",
            "scraping Breast Imaging count 100\n",
            "scraping Breast Imaging count 100\n",
            "scraping Breast Imaging count 100\n",
            "scraping Breast Imaging count 100\n",
            "scraping Breast Imaging count 100\n",
            "scraping link https://pubs.rsna.org/topic/subspecialty/ca?SeriesKey=radiology&sortBy=Ppub\n",
            "page 0\n",
            "per page 10\n",
            "scraping Cardiac Radiology count 0\n",
            "scraping Cardiac Radiology count 0\n",
            "scraping Cardiac Radiology count 1\n",
            "scraping Cardiac Radiology count 2\n",
            "scraping Cardiac Radiology count 3\n",
            "scraping Cardiac Radiology count 4\n",
            "scraping Cardiac Radiology count 5\n",
            "scraping Cardiac Radiology count 5\n",
            "scraping Cardiac Radiology count 6\n",
            "scraping Cardiac Radiology count 7\n",
            "page 1\n",
            "per page 10\n",
            "scraping Cardiac Radiology count 8\n",
            "scraping Cardiac Radiology count 9\n",
            "scraping Cardiac Radiology count 10\n",
            "scraping Cardiac Radiology count 11\n",
            "scraping Cardiac Radiology count 12\n",
            "scraping Cardiac Radiology count 13\n",
            "scraping Cardiac Radiology count 14\n",
            "scraping Cardiac Radiology count 15\n",
            "scraping Cardiac Radiology count 16\n",
            "scraping Cardiac Radiology count 17\n",
            "page 2\n",
            "per page 10\n",
            "scraping Cardiac Radiology count 18\n",
            "scraping Cardiac Radiology count 19\n",
            "scraping Cardiac Radiology count 20\n",
            "scraping Cardiac Radiology count 21\n",
            "scraping Cardiac Radiology count 22\n",
            "scraping Cardiac Radiology count 23\n",
            "scraping Cardiac Radiology count 24\n",
            "scraping Cardiac Radiology count 25\n",
            "scraping Cardiac Radiology count 26\n",
            "scraping Cardiac Radiology count 27\n",
            "page 3\n",
            "per page 10\n",
            "scraping Cardiac Radiology count 28\n",
            "scraping Cardiac Radiology count 29\n",
            "scraping Cardiac Radiology count 30\n",
            "scraping Cardiac Radiology count 31\n",
            "scraping Cardiac Radiology count 32\n",
            "scraping Cardiac Radiology count 33\n",
            "scraping Cardiac Radiology count 34\n",
            "scraping Cardiac Radiology count 35\n",
            "scraping Cardiac Radiology count 36\n",
            "scraping Cardiac Radiology count 37\n",
            "page 4\n",
            "per page 10\n",
            "scraping Cardiac Radiology count 38\n",
            "scraping Cardiac Radiology count 39\n",
            "scraping Cardiac Radiology count 40\n",
            "scraping Cardiac Radiology count 41\n",
            "scraping Cardiac Radiology count 42\n",
            "scraping Cardiac Radiology count 43\n",
            "scraping Cardiac Radiology count 44\n",
            "scraping Cardiac Radiology count 45\n",
            "scraping Cardiac Radiology count 46\n",
            "scraping Cardiac Radiology count 47\n",
            "page 5\n",
            "per page 10\n",
            "scraping Cardiac Radiology count 48\n",
            "scraping Cardiac Radiology count 49\n",
            "scraping Cardiac Radiology count 50\n",
            "scraping Cardiac Radiology count 51\n",
            "scraping Cardiac Radiology count 52\n",
            "scraping Cardiac Radiology count 53\n",
            "scraping Cardiac Radiology count 54\n",
            "scraping Cardiac Radiology count 55\n",
            "scraping Cardiac Radiology count 56\n",
            "scraping Cardiac Radiology count 57\n",
            "page 6\n",
            "per page 10\n",
            "scraping Cardiac Radiology count 58\n",
            "scraping Cardiac Radiology count 59\n",
            "scraping Cardiac Radiology count 60\n",
            "scraping Cardiac Radiology count 61\n",
            "scraping Cardiac Radiology count 62\n",
            "scraping Cardiac Radiology count 63\n",
            "scraping Cardiac Radiology count 64\n",
            "scraping Cardiac Radiology count 65\n",
            "scraping Cardiac Radiology count 66\n",
            "scraping Cardiac Radiology count 67\n",
            "page 7\n",
            "per page 10\n",
            "scraping Cardiac Radiology count 68\n",
            "scraping Cardiac Radiology count 69\n",
            "scraping Cardiac Radiology count 70\n",
            "scraping Cardiac Radiology count 71\n",
            "scraping Cardiac Radiology count 72\n",
            "scraping Cardiac Radiology count 73\n",
            "scraping Cardiac Radiology count 74\n",
            "scraping Cardiac Radiology count 75\n",
            "scraping Cardiac Radiology count 76\n",
            "scraping Cardiac Radiology count 77\n",
            "page 8\n",
            "per page 10\n",
            "scraping Cardiac Radiology count 78\n",
            "scraping Cardiac Radiology count 79\n",
            "scraping Cardiac Radiology count 80\n",
            "scraping Cardiac Radiology count 81\n",
            "scraping Cardiac Radiology count 81\n",
            "scraping Cardiac Radiology count 82\n",
            "scraping Cardiac Radiology count 83\n",
            "scraping Cardiac Radiology count 84\n",
            "scraping Cardiac Radiology count 85\n",
            "scraping Cardiac Radiology count 86\n",
            "page 9\n",
            "per page 10\n",
            "scraping Cardiac Radiology count 87\n",
            "scraping Cardiac Radiology count 88\n",
            "scraping Cardiac Radiology count 89\n",
            "scraping Cardiac Radiology count 90\n",
            "scraping Cardiac Radiology count 91\n",
            "scraping Cardiac Radiology count 92\n",
            "scraping Cardiac Radiology count 93\n",
            "scraping Cardiac Radiology count 94\n",
            "scraping Cardiac Radiology count 95\n",
            "scraping Cardiac Radiology count 96\n",
            "page 10\n",
            "per page 10\n",
            "scraping Cardiac Radiology count 97\n",
            "scraping Cardiac Radiology count 98\n",
            "scraping Cardiac Radiology count 99\n",
            "scraping Cardiac Radiology count 100\n",
            "scraping Cardiac Radiology count 101\n",
            "scraping Cardiac Radiology count 101\n",
            "scraping Cardiac Radiology count 102\n",
            "scraping Cardiac Radiology count 103\n",
            "scraping Cardiac Radiology count 104\n",
            "scraping Cardiac Radiology count 105\n",
            "scraping link https://pubs.rsna.org/topic/subspecialty/ch?SeriesKey=radiology&sortBy=Ppub\n",
            "page 0\n",
            "per page 7\n",
            "scraping Chest Radiology count 0\n",
            "scraping Chest Radiology count 1\n",
            "scraping Chest Radiology count 2\n",
            "scraping Chest Radiology count 3\n",
            "scraping Chest Radiology count 4\n",
            "scraping Chest Radiology count 5\n",
            "scraping Chest Radiology count 6\n",
            "page 1\n",
            "per page 7\n",
            "scraping Chest Radiology count 6\n",
            "scraping Chest Radiology count 7\n",
            "scraping Chest Radiology count 8\n",
            "scraping Chest Radiology count 9\n",
            "scraping Chest Radiology count 10\n",
            "scraping Chest Radiology count 11\n",
            "scraping Chest Radiology count 12\n",
            "page 2\n",
            "per page 7\n",
            "scraping Chest Radiology count 13\n",
            "scraping Chest Radiology count 14\n",
            "scraping Chest Radiology count 15\n",
            "scraping Chest Radiology count 16\n",
            "scraping Chest Radiology count 17\n",
            "scraping Chest Radiology count 18\n",
            "scraping Chest Radiology count 19\n",
            "page 3\n",
            "per page 7\n",
            "scraping Chest Radiology count 20\n",
            "scraping Chest Radiology count 21\n",
            "scraping Chest Radiology count 22\n",
            "scraping Chest Radiology count 23\n",
            "scraping Chest Radiology count 24\n",
            "scraping Chest Radiology count 25\n",
            "scraping Chest Radiology count 26\n",
            "page 4\n",
            "per page 7\n",
            "scraping Chest Radiology count 27\n",
            "scraping Chest Radiology count 28\n",
            "scraping Chest Radiology count 29\n",
            "scraping Chest Radiology count 30\n",
            "scraping Chest Radiology count 31\n",
            "scraping Chest Radiology count 31\n",
            "scraping Chest Radiology count 32\n",
            "page 5\n",
            "per page 7\n",
            "scraping Chest Radiology count 33\n",
            "scraping Chest Radiology count 33\n",
            "scraping Chest Radiology count 34\n",
            "scraping Chest Radiology count 35\n",
            "scraping Chest Radiology count 36\n",
            "scraping Chest Radiology count 37\n",
            "scraping Chest Radiology count 38\n",
            "page 6\n",
            "per page 7\n",
            "scraping Chest Radiology count 38\n",
            "scraping Chest Radiology count 39\n",
            "scraping Chest Radiology count 40\n",
            "scraping Chest Radiology count 41\n",
            "scraping Chest Radiology count 42\n",
            "scraping Chest Radiology count 43\n",
            "scraping Chest Radiology count 43\n",
            "page 7\n",
            "per page 7\n",
            "scraping Chest Radiology count 44\n",
            "scraping Chest Radiology count 45\n",
            "scraping Chest Radiology count 46\n",
            "scraping Chest Radiology count 47\n",
            "scraping Chest Radiology count 48\n",
            "scraping Chest Radiology count 49\n",
            "scraping Chest Radiology count 50\n",
            "page 8\n",
            "per page 7\n",
            "scraping Chest Radiology count 50\n",
            "scraping Chest Radiology count 51\n",
            "scraping Chest Radiology count 52\n",
            "scraping Chest Radiology count 53\n",
            "scraping Chest Radiology count 54\n",
            "scraping Chest Radiology count 55\n",
            "scraping Chest Radiology count 55\n",
            "page 9\n",
            "per page 7\n",
            "scraping Chest Radiology count 56\n",
            "scraping Chest Radiology count 57\n",
            "scraping Chest Radiology count 58\n",
            "scraping Chest Radiology count 59\n",
            "scraping Chest Radiology count 60\n",
            "scraping Chest Radiology count 61\n",
            "scraping Chest Radiology count 62\n",
            "page 10\n",
            "per page 7\n",
            "scraping Chest Radiology count 62\n",
            "scraping Chest Radiology count 63\n",
            "scraping Chest Radiology count 64\n",
            "scraping Chest Radiology count 65\n",
            "scraping Chest Radiology count 66\n",
            "scraping Chest Radiology count 67\n",
            "scraping Chest Radiology count 68\n",
            "page 11\n",
            "per page 7\n",
            "scraping Chest Radiology count 69\n",
            "scraping Chest Radiology count 70\n",
            "scraping Chest Radiology count 71\n",
            "scraping Chest Radiology count 72\n",
            "scraping Chest Radiology count 73\n",
            "scraping Chest Radiology count 74\n",
            "scraping Chest Radiology count 75\n",
            "page 12\n",
            "per page 7\n",
            "scraping Chest Radiology count 76\n",
            "scraping Chest Radiology count 77\n",
            "scraping Chest Radiology count 78\n",
            "scraping Chest Radiology count 78\n",
            "scraping Chest Radiology count 79\n",
            "scraping Chest Radiology count 80\n",
            "scraping Chest Radiology count 81\n",
            "page 13\n",
            "per page 7\n",
            "scraping Chest Radiology count 82\n",
            "scraping Chest Radiology count 82\n",
            "scraping Chest Radiology count 82\n",
            "scraping Chest Radiology count 82\n",
            "scraping Chest Radiology count 83\n",
            "scraping Chest Radiology count 83\n",
            "scraping Chest Radiology count 83\n",
            "page 14\n",
            "per page 7\n",
            "scraping Chest Radiology count 83\n",
            "scraping Chest Radiology count 83\n",
            "scraping Chest Radiology count 83\n",
            "scraping Chest Radiology count 83\n",
            "scraping Chest Radiology count 83\n",
            "scraping Chest Radiology count 83\n",
            "scraping Chest Radiology count 83\n",
            "page 15\n",
            "per page 7\n",
            "scraping Chest Radiology count 83\n",
            "scraping Chest Radiology count 83\n",
            "scraping Chest Radiology count 83\n",
            "scraping Chest Radiology count 83\n",
            "scraping Chest Radiology count 83\n",
            "scraping Chest Radiology count 83\n",
            "scraping Chest Radiology count 83\n",
            "page 16\n",
            "per page 7\n",
            "scraping Chest Radiology count 83\n",
            "scraping Chest Radiology count 83\n",
            "scraping Chest Radiology count 83\n",
            "scraping Chest Radiology count 83\n",
            "scraping Chest Radiology count 83\n",
            "scraping Chest Radiology count 83\n",
            "scraping Chest Radiology count 83\n",
            "page 17\n",
            "per page 7\n",
            "scraping Chest Radiology count 83\n",
            "error list index out of range\n",
            "scraping Chest Radiology count 83\n",
            "error list index out of range\n",
            "scraping Chest Radiology count 83\n",
            "error list index out of range\n",
            "scraping Chest Radiology count 83\n",
            "error list index out of range\n",
            "scraping Chest Radiology count 83\n",
            "error list index out of range\n",
            "scraping Chest Radiology count 83\n",
            "error list index out of range\n",
            "scraping Chest Radiology count 83\n",
            "error list index out of range\n",
            "page 18\n",
            "per page 7\n",
            "scraping Chest Radiology count 83\n",
            "error list index out of range\n",
            "scraping Chest Radiology count 83\n",
            "error list index out of range\n",
            "scraping Chest Radiology count 83\n",
            "error list index out of range\n",
            "scraping Chest Radiology count 83\n",
            "error list index out of range\n",
            "scraping Chest Radiology count 83\n",
            "error list index out of range\n",
            "scraping Chest Radiology count 83\n",
            "error list index out of range\n",
            "scraping Chest Radiology count 83\n",
            "error list index out of range\n",
            "page 19\n",
            "per page 7\n",
            "scraping Chest Radiology count 83\n",
            "error list index out of range\n",
            "scraping Chest Radiology count 83\n",
            "error list index out of range\n",
            "scraping Chest Radiology count 83\n",
            "error list index out of range\n",
            "scraping Chest Radiology count 83\n",
            "error list index out of range\n",
            "scraping Chest Radiology count 83\n",
            "error list index out of range\n",
            "scraping Chest Radiology count 83\n",
            "error list index out of range\n",
            "scraping Chest Radiology count 83\n",
            "error list index out of range\n",
            "page 20\n",
            "per page 7\n",
            "scraping Chest Radiology count 83\n",
            "error list index out of range\n",
            "scraping Chest Radiology count 83\n",
            "error list index out of range\n",
            "scraping Chest Radiology count 83\n",
            "error list index out of range\n",
            "scraping Chest Radiology count 83\n",
            "error list index out of range\n",
            "scraping Chest Radiology count 83\n",
            "error list index out of range\n",
            "scraping Chest Radiology count 83\n",
            "error list index out of range\n",
            "scraping Chest Radiology count 83\n",
            "error list index out of range\n",
            "page 21\n",
            "per page 7\n",
            "scraping Chest Radiology count 83\n",
            "error list index out of range\n",
            "scraping Chest Radiology count 83\n",
            "error list index out of range\n",
            "scraping Chest Radiology count 83\n",
            "error list index out of range\n",
            "scraping Chest Radiology count 83\n",
            "error list index out of range\n",
            "scraping Chest Radiology count 83\n",
            "error list index out of range\n",
            "scraping Chest Radiology count 83\n",
            "error list index out of range\n",
            "scraping Chest Radiology count 83\n",
            "error list index out of range\n",
            "page 22\n",
            "per page 7\n",
            "scraping Chest Radiology count 83\n",
            "error list index out of range\n",
            "scraping Chest Radiology count 83\n",
            "error list index out of range\n",
            "scraping Chest Radiology count 83\n",
            "error list index out of range\n",
            "scraping Chest Radiology count 83\n",
            "error list index out of range\n",
            "scraping Chest Radiology count 83\n",
            "error list index out of range\n",
            "scraping Chest Radiology count 83\n",
            "error list index out of range\n",
            "scraping Chest Radiology count 83\n",
            "error list index out of range\n",
            "page 23\n",
            "per page 7\n",
            "scraping Chest Radiology count 83\n",
            "error list index out of range\n",
            "scraping Chest Radiology count 83\n",
            "error list index out of range\n",
            "scraping Chest Radiology count 83\n",
            "error list index out of range\n",
            "scraping Chest Radiology count 83\n",
            "error list index out of range\n",
            "scraping Chest Radiology count 83\n",
            "error list index out of range\n",
            "scraping Chest Radiology count 83\n",
            "error list index out of range\n",
            "scraping Chest Radiology count 83\n",
            "error list index out of range\n",
            "page 24\n",
            "per page 7\n",
            "scraping Chest Radiology count 83\n",
            "error list index out of range\n",
            "scraping Chest Radiology count 83\n",
            "error list index out of range\n",
            "scraping Chest Radiology count 83\n",
            "error list index out of range\n",
            "scraping Chest Radiology count 83\n",
            "error list index out of range\n",
            "scraping Chest Radiology count 83\n",
            "error list index out of range\n",
            "scraping Chest Radiology count 83\n",
            "error list index out of range\n",
            "scraping Chest Radiology count 83\n",
            "error list index out of range\n",
            "page 25\n",
            "per page 7\n",
            "scraping Chest Radiology count 83\n",
            "error list index out of range\n",
            "scraping Chest Radiology count 83\n",
            "error list index out of range\n",
            "scraping Chest Radiology count 83\n",
            "error list index out of range\n",
            "scraping Chest Radiology count 83\n",
            "error list index out of range\n",
            "scraping Chest Radiology count 83\n",
            "error list index out of range\n",
            "scraping Chest Radiology count 83\n",
            "error list index out of range\n",
            "scraping Chest Radiology count 83\n",
            "error list index out of range\n",
            "page 26\n",
            "per page 7\n",
            "scraping Chest Radiology count 83\n",
            "error list index out of range\n",
            "scraping Chest Radiology count 83\n",
            "error list index out of range\n",
            "scraping Chest Radiology count 83\n",
            "error list index out of range\n",
            "scraping Chest Radiology count 83\n",
            "error list index out of range\n",
            "scraping Chest Radiology count 83\n",
            "error list index out of range\n",
            "scraping Chest Radiology count 83\n",
            "error list index out of range\n",
            "scraping Chest Radiology count 83\n",
            "error list index out of range\n",
            "page 27\n",
            "per page 7\n",
            "scraping Chest Radiology count 83\n",
            "error list index out of range\n",
            "scraping Chest Radiology count 83\n",
            "error list index out of range\n",
            "scraping Chest Radiology count 83\n",
            "error list index out of range\n",
            "scraping Chest Radiology count 83\n",
            "error list index out of range\n",
            "scraping Chest Radiology count 83\n",
            "error list index out of range\n",
            "scraping Chest Radiology count 83\n",
            "error list index out of range\n",
            "scraping Chest Radiology count 83\n",
            "error list index out of range\n",
            "page 28\n",
            "per page 7\n",
            "scraping Chest Radiology count 83\n",
            "error list index out of range\n",
            "scraping Chest Radiology count 83\n",
            "error list index out of range\n",
            "scraping Chest Radiology count 83\n",
            "error list index out of range\n",
            "scraping Chest Radiology count 83\n",
            "error list index out of range\n",
            "scraping Chest Radiology count 83\n",
            "error list index out of range\n",
            "scraping Chest Radiology count 83\n",
            "error list index out of range\n",
            "scraping Chest Radiology count 83\n",
            "error list index out of range\n",
            "scraping link https://pubs.rsna.org/topic/subspecialty/ct?SeriesKey=radiology&sortBy=Ppub\n"
          ]
        },
        {
          "ename": "AttributeError",
          "evalue": "ignored",
          "output_type": "error",
          "traceback": [
            "\u001b[0;31m---------------------------------------------------------------------------\u001b[0m",
            "\u001b[0;31mAttributeError\u001b[0m                            Traceback (most recent call last)",
            "\u001b[0;32m<ipython-input-8-6d857b1da5ac>\u001b[0m in \u001b[0;36m<module>\u001b[0;34m\u001b[0m\n\u001b[1;32m      9\u001b[0m   \u001b[0mpage\u001b[0m \u001b[0;34m=\u001b[0m \u001b[0mrequests\u001b[0m\u001b[0;34m.\u001b[0m\u001b[0mget\u001b[0m\u001b[0;34m(\u001b[0m\u001b[0mlink\u001b[0m\u001b[0;34m[\u001b[0m\u001b[0;34m'url'\u001b[0m\u001b[0;34m]\u001b[0m\u001b[0;34m)\u001b[0m\u001b[0;34m\u001b[0m\u001b[0;34m\u001b[0m\u001b[0m\n\u001b[1;32m     10\u001b[0m   \u001b[0mpage_soup\u001b[0m \u001b[0;34m=\u001b[0m \u001b[0mBeautifulSoup\u001b[0m\u001b[0;34m(\u001b[0m\u001b[0mpage\u001b[0m\u001b[0;34m.\u001b[0m\u001b[0mcontent\u001b[0m\u001b[0;34m,\u001b[0m \u001b[0;34m'html5lib'\u001b[0m\u001b[0;34m)\u001b[0m\u001b[0;34m\u001b[0m\u001b[0;34m\u001b[0m\u001b[0m\n\u001b[0;32m---> 11\u001b[0;31m   \u001b[0mjournal_count\u001b[0m \u001b[0;34m=\u001b[0m \u001b[0mint\u001b[0m\u001b[0;34m(\u001b[0m\u001b[0mpage_soup\u001b[0m\u001b[0;34m.\u001b[0m\u001b[0mfind\u001b[0m\u001b[0;34m(\u001b[0m\u001b[0;34m'span'\u001b[0m\u001b[0;34m,\u001b[0m \u001b[0mclass_\u001b[0m\u001b[0;34m=\u001b[0m\u001b[0;34m'result__count'\u001b[0m\u001b[0;34m)\u001b[0m\u001b[0;34m.\u001b[0m\u001b[0mtext\u001b[0m\u001b[0;34m)\u001b[0m\u001b[0;34m\u001b[0m\u001b[0;34m\u001b[0m\u001b[0m\n\u001b[0m\u001b[1;32m     12\u001b[0m   \u001b[0mpage_count\u001b[0m \u001b[0;34m=\u001b[0m \u001b[0mjournal_count\u001b[0m\u001b[0;34m//\u001b[0m\u001b[0;36m20\u001b[0m\u001b[0;34m\u001b[0m\u001b[0;34m\u001b[0m\u001b[0m\n\u001b[1;32m     13\u001b[0m   \u001b[0mperpage\u001b[0m \u001b[0;34m=\u001b[0m \u001b[0mmath\u001b[0m\u001b[0;34m.\u001b[0m\u001b[0mceil\u001b[0m\u001b[0;34m(\u001b[0m\u001b[0;36m200\u001b[0m\u001b[0;34m/\u001b[0m\u001b[0mpage_count\u001b[0m\u001b[0;34m)\u001b[0m \u001b[0;32mif\u001b[0m \u001b[0mmath\u001b[0m\u001b[0;34m.\u001b[0m\u001b[0mceil\u001b[0m\u001b[0;34m(\u001b[0m\u001b[0;36m200\u001b[0m\u001b[0;34m/\u001b[0m\u001b[0mpage_count\u001b[0m\u001b[0;34m)\u001b[0m \u001b[0;34m<\u001b[0m \u001b[0;36m20\u001b[0m \u001b[0;32melse\u001b[0m \u001b[0;36m20\u001b[0m\u001b[0;34m\u001b[0m\u001b[0;34m\u001b[0m\u001b[0m\n",
            "\u001b[0;31mAttributeError\u001b[0m: 'NoneType' object has no attribute 'text'"
          ]
        }
      ],
      "source": [
        "import random\n",
        "import math\n",
        "article_links = []\n",
        "\n",
        "# with open('rsna_dataset.csv','w') as fw:\n",
        "#           fw.write('topic;title;authors;abstract')\n",
        "for link in links_to_scrape:\n",
        "  print('scraping link ' + str(link['url']))\n",
        "  page = requests.get(link['url'])\n",
        "  page_soup = BeautifulSoup(page.content, 'html5lib')\n",
        "  journal_count = int(page_soup.find('span', class_='result__count').text)\n",
        "  page_count = journal_count//20\n",
        "  perpage = math.ceil(200/page_count) if math.ceil(200/page_count) < 20 else 20\n",
        "  \n",
        "\n",
        "  for index in range(page_count):\n",
        "    if link['count'] >= 100:\n",
        "      break;\n",
        "    print('page ' + str(index))\n",
        "    print('per page ' + str(perpage))\n",
        "    articles = random.sample(range(20), perpage)\n",
        "    paginated_link = link['url'] + '&startPage={0}&pageSize=20'.format(index)\n",
        "    paginated_page = requests.get(paginated_link)\n",
        "    paginated_soup = BeautifulSoup(paginated_page.content, 'html5lib')\n",
        "    article_list = paginated_soup.find_all('li', class_='clearfix separator search__item')\n",
        "    for i in articles:\n",
        "      try:\n",
        "        print('scraping ' + link['topic'] +' count ' + str(link['count']))\n",
        "        title = article_list[i].find('h4', class_=\"meta__title meta__title__margin\").text\n",
        "        authors_list = article_list[i].find_all('span', class_=\"hlFld-ContribAuthor\")\n",
        "        authors_names = \" \".join([author.find('a').text for author in authors_list])\n",
        "        abstract_link = BASE_URL + article_list[i].find('a', title = 'Abstract')['href']\n",
        "        \n",
        "        abstract_page = requests.get(abstract_link)\n",
        "        abstract_soup = BeautifulSoup(abstract_page.content, 'html5lib')\n",
        "        abstract_heading = abstract_soup.find('div', class_='sectionInfo abstractSectionHeading')\n",
        "        if abstract_heading:\n",
        "          abstract = abstract_soup.find('div','hlFld-Abstract').select('p')[0].get_text().replace(';',' ')\n",
        "          with open('rsna_dataset.csv','a') as fw:\n",
        "            fw.write('\\n'+str(link['topic'])+';'+str(title)+';'+str(authors_names)+';'+str(abstract))\n",
        "            link['count'] += 1\n",
        "        time.sleep(4)\n",
        "      except Exception as e:\n",
        "        print('error ' + str(e))\n",
        "        continue\n",
        "    time.sleep(4)\n",
        "\n",
        " \n",
        "\n"
      ]
    },
    {
      "cell_type": "markdown",
      "metadata": {
        "id": "0NC1uAQ0OjkM"
      },
      "source": [
        "# Data Cleaning and pre-processing"
      ]
    },
    {
      "cell_type": "code",
      "execution_count": null,
      "metadata": {
        "id": "JJIp3VPuBq5F"
      },
      "outputs": [],
      "source": [
        "import numpy as np\n",
        "import pandas as pd\n",
        "import re\n",
        "import matplotlib.pyplot as plt"
      ]
    },
    {
      "cell_type": "code",
      "execution_count": null,
      "metadata": {
        "id": "PdVgCSF3rJUz"
      },
      "outputs": [],
      "source": [
        "data = pd.read_csv('rsna_dataset2.csv.xls', delimiter=\";\")\n",
        "data['title_abstract'] = data[['title','abstract']].agg(' '.join, axis=1)"
      ]
    },
    {
      "cell_type": "code",
      "execution_count": null,
      "metadata": {
        "colab": {
          "base_uri": "https://localhost:8080/",
          "height": 337
        },
        "id": "uR0s3X2nrtI_",
        "outputId": "9b977141-380a-4ba5-c8ad-e0f0a2b65f2f"
      },
      "outputs": [
        {
          "output_type": "execute_result",
          "data": {
            "text/plain": [
              "            topic                                              title  \\\n",
              "0  Breast Imaging  A Pilot Study to Assess the Performance of Pha...   \n",
              "1  Breast Imaging  The Digital Divide in Radiology: Computer Use ...   \n",
              "2  Breast Imaging  Association of Longitudinal Mammographic Breas...   \n",
              "3  Breast Imaging  Background Parenchymal Enhancement at Postoper...   \n",
              "4  Breast Imaging  Prospective Evaluation of Ultrafast Breast MRI...   \n",
              "\n",
              "                                             authors  \\\n",
              "0  Laurie L. Fajardo Stephen L. Hillis Bin Zheng ...   \n",
              "1  Peter Abraham Patricia Balthazar Nicholas Jame...   \n",
              "2  Thi Xuan Mai Tran Soyeoun Kim Huiyeon Song Eun...   \n",
              "3  Su Hyun Lee Myoung-jin Jang Heera Yoen Youkyou...   \n",
              "4  Toulsie Ramtohul Clara Tescher Pauline Vaflard...   \n",
              "\n",
              "                                            abstract  \\\n",
              "0  In this pilot study for an inline phase-sensit...   \n",
              "1  Reliance on digital patient portals and online...   \n",
              "2  In premenopausal and postmenopausal women unde...   \n",
              "3  Background parenchymal enhancement assessed at...   \n",
              "4  The wash-in slope derived from initial ultrafa...   \n",
              "\n",
              "                                      title_abstract  \n",
              "0  A Pilot Study to Assess the Performance of Pha...  \n",
              "1  The Digital Divide in Radiology: Computer Use ...  \n",
              "2  Association of Longitudinal Mammographic Breas...  \n",
              "3  Background Parenchymal Enhancement at Postoper...  \n",
              "4  Prospective Evaluation of Ultrafast Breast MRI...  "
            ],
            "text/html": [
              "\n",
              "  <div id=\"df-c4ef57b7-f912-4c33-9e6a-e166c41136dd\">\n",
              "    <div class=\"colab-df-container\">\n",
              "      <div>\n",
              "<style scoped>\n",
              "    .dataframe tbody tr th:only-of-type {\n",
              "        vertical-align: middle;\n",
              "    }\n",
              "\n",
              "    .dataframe tbody tr th {\n",
              "        vertical-align: top;\n",
              "    }\n",
              "\n",
              "    .dataframe thead th {\n",
              "        text-align: right;\n",
              "    }\n",
              "</style>\n",
              "<table border=\"1\" class=\"dataframe\">\n",
              "  <thead>\n",
              "    <tr style=\"text-align: right;\">\n",
              "      <th></th>\n",
              "      <th>topic</th>\n",
              "      <th>title</th>\n",
              "      <th>authors</th>\n",
              "      <th>abstract</th>\n",
              "      <th>title_abstract</th>\n",
              "    </tr>\n",
              "  </thead>\n",
              "  <tbody>\n",
              "    <tr>\n",
              "      <th>0</th>\n",
              "      <td>Breast Imaging</td>\n",
              "      <td>A Pilot Study to Assess the Performance of Pha...</td>\n",
              "      <td>Laurie L. Fajardo Stephen L. Hillis Bin Zheng ...</td>\n",
              "      <td>In this pilot study for an inline phase-sensit...</td>\n",
              "      <td>A Pilot Study to Assess the Performance of Pha...</td>\n",
              "    </tr>\n",
              "    <tr>\n",
              "      <th>1</th>\n",
              "      <td>Breast Imaging</td>\n",
              "      <td>The Digital Divide in Radiology: Computer Use ...</td>\n",
              "      <td>Peter Abraham Patricia Balthazar Nicholas Jame...</td>\n",
              "      <td>Reliance on digital patient portals and online...</td>\n",
              "      <td>The Digital Divide in Radiology: Computer Use ...</td>\n",
              "    </tr>\n",
              "    <tr>\n",
              "      <th>2</th>\n",
              "      <td>Breast Imaging</td>\n",
              "      <td>Association of Longitudinal Mammographic Breas...</td>\n",
              "      <td>Thi Xuan Mai Tran Soyeoun Kim Huiyeon Song Eun...</td>\n",
              "      <td>In premenopausal and postmenopausal women unde...</td>\n",
              "      <td>Association of Longitudinal Mammographic Breas...</td>\n",
              "    </tr>\n",
              "    <tr>\n",
              "      <th>3</th>\n",
              "      <td>Breast Imaging</td>\n",
              "      <td>Background Parenchymal Enhancement at Postoper...</td>\n",
              "      <td>Su Hyun Lee Myoung-jin Jang Heera Yoen Youkyou...</td>\n",
              "      <td>Background parenchymal enhancement assessed at...</td>\n",
              "      <td>Background Parenchymal Enhancement at Postoper...</td>\n",
              "    </tr>\n",
              "    <tr>\n",
              "      <th>4</th>\n",
              "      <td>Breast Imaging</td>\n",
              "      <td>Prospective Evaluation of Ultrafast Breast MRI...</td>\n",
              "      <td>Toulsie Ramtohul Clara Tescher Pauline Vaflard...</td>\n",
              "      <td>The wash-in slope derived from initial ultrafa...</td>\n",
              "      <td>Prospective Evaluation of Ultrafast Breast MRI...</td>\n",
              "    </tr>\n",
              "  </tbody>\n",
              "</table>\n",
              "</div>\n",
              "      <button class=\"colab-df-convert\" onclick=\"convertToInteractive('df-c4ef57b7-f912-4c33-9e6a-e166c41136dd')\"\n",
              "              title=\"Convert this dataframe to an interactive table.\"\n",
              "              style=\"display:none;\">\n",
              "        \n",
              "  <svg xmlns=\"http://www.w3.org/2000/svg\" height=\"24px\"viewBox=\"0 0 24 24\"\n",
              "       width=\"24px\">\n",
              "    <path d=\"M0 0h24v24H0V0z\" fill=\"none\"/>\n",
              "    <path d=\"M18.56 5.44l.94 2.06.94-2.06 2.06-.94-2.06-.94-.94-2.06-.94 2.06-2.06.94zm-11 1L8.5 8.5l.94-2.06 2.06-.94-2.06-.94L8.5 2.5l-.94 2.06-2.06.94zm10 10l.94 2.06.94-2.06 2.06-.94-2.06-.94-.94-2.06-.94 2.06-2.06.94z\"/><path d=\"M17.41 7.96l-1.37-1.37c-.4-.4-.92-.59-1.43-.59-.52 0-1.04.2-1.43.59L10.3 9.45l-7.72 7.72c-.78.78-.78 2.05 0 2.83L4 21.41c.39.39.9.59 1.41.59.51 0 1.02-.2 1.41-.59l7.78-7.78 2.81-2.81c.8-.78.8-2.07 0-2.86zM5.41 20L4 18.59l7.72-7.72 1.47 1.35L5.41 20z\"/>\n",
              "  </svg>\n",
              "      </button>\n",
              "      \n",
              "  <style>\n",
              "    .colab-df-container {\n",
              "      display:flex;\n",
              "      flex-wrap:wrap;\n",
              "      gap: 12px;\n",
              "    }\n",
              "\n",
              "    .colab-df-convert {\n",
              "      background-color: #E8F0FE;\n",
              "      border: none;\n",
              "      border-radius: 50%;\n",
              "      cursor: pointer;\n",
              "      display: none;\n",
              "      fill: #1967D2;\n",
              "      height: 32px;\n",
              "      padding: 0 0 0 0;\n",
              "      width: 32px;\n",
              "    }\n",
              "\n",
              "    .colab-df-convert:hover {\n",
              "      background-color: #E2EBFA;\n",
              "      box-shadow: 0px 1px 2px rgba(60, 64, 67, 0.3), 0px 1px 3px 1px rgba(60, 64, 67, 0.15);\n",
              "      fill: #174EA6;\n",
              "    }\n",
              "\n",
              "    [theme=dark] .colab-df-convert {\n",
              "      background-color: #3B4455;\n",
              "      fill: #D2E3FC;\n",
              "    }\n",
              "\n",
              "    [theme=dark] .colab-df-convert:hover {\n",
              "      background-color: #434B5C;\n",
              "      box-shadow: 0px 1px 3px 1px rgba(0, 0, 0, 0.15);\n",
              "      filter: drop-shadow(0px 1px 2px rgba(0, 0, 0, 0.3));\n",
              "      fill: #FFFFFF;\n",
              "    }\n",
              "  </style>\n",
              "\n",
              "      <script>\n",
              "        const buttonEl =\n",
              "          document.querySelector('#df-c4ef57b7-f912-4c33-9e6a-e166c41136dd button.colab-df-convert');\n",
              "        buttonEl.style.display =\n",
              "          google.colab.kernel.accessAllowed ? 'block' : 'none';\n",
              "\n",
              "        async function convertToInteractive(key) {\n",
              "          const element = document.querySelector('#df-c4ef57b7-f912-4c33-9e6a-e166c41136dd');\n",
              "          const dataTable =\n",
              "            await google.colab.kernel.invokeFunction('convertToInteractive',\n",
              "                                                     [key], {});\n",
              "          if (!dataTable) return;\n",
              "\n",
              "          const docLinkHtml = 'Like what you see? Visit the ' +\n",
              "            '<a target=\"_blank\" href=https://colab.research.google.com/notebooks/data_table.ipynb>data table notebook</a>'\n",
              "            + ' to learn more about interactive tables.';\n",
              "          element.innerHTML = '';\n",
              "          dataTable['output_type'] = 'display_data';\n",
              "          await google.colab.output.renderOutput(dataTable, element);\n",
              "          const docLink = document.createElement('div');\n",
              "          docLink.innerHTML = docLinkHtml;\n",
              "          element.appendChild(docLink);\n",
              "        }\n",
              "      </script>\n",
              "    </div>\n",
              "  </div>\n",
              "  "
            ]
          },
          "metadata": {},
          "execution_count": 3
        }
      ],
      "source": [
        "data.head(5)"
      ]
    },
    {
      "cell_type": "code",
      "execution_count": null,
      "metadata": {
        "id": "mGjaiS5PO3tM"
      },
      "outputs": [],
      "source": [
        "puncts = [',', '.', '\"', ':', ')', '(', '-', '!', '?', '|', ';', \"'\", '$', '&', '/', '[', ']', '>', '%', '=', '#', '*', '+', '\\\\', '•',  '~', '@', '£', \n",
        " '·', '_', '{', '}', '©', '^', '®', '`',  '<', '→', '°', '€', '™', '›',  '♥', '←', '×', '§', '″', '′', '█', '½', 'à', '…', \n",
        " '“', '★', '”', '–', '●', 'â', '►', '−', '¢', '²', '¬', '░', '¶', '↑', '±', '¿', '▾', '═', '¦', '║', '―', '¥', '▓', '—', '‹', '─', \n",
        " '▒', '：', '¼', '⊕', '▼', '▪', '†', '■', '’', '▀', '¨', '▄', '♫', '☆', 'é', '¯', '♦', '¤', '▲', 'è', '¸', '¾', 'Ã', '⋅', '‘', '∞', \n",
        " '∙', '）', '↓', '、', '│', '（', '»', '，', '♪', '╩', '╚', '³', '・', '╦', '╣', '╔', '╗', '▬', '❤', 'ï', 'Ø', '¹', '≤', '‡', '√', ]\n",
        "\n",
        "\n",
        "def clean_text_1(x): # this combines hyphenated words into single word, but in this context thats a better approach\n",
        "    x = str(x)\n",
        "    for punct in puncts:\n",
        "        if punct in x:\n",
        "            x = x.replace(punct, '')\n",
        "    return x\n",
        "\n",
        "def clean_text(x):\n",
        "    pattern = r'[^a-zA-Z\\s]'\n",
        "    text = re.sub(pattern, '', x)\n",
        "    return x"
      ]
    },
    {
      "cell_type": "code",
      "execution_count": null,
      "metadata": {
        "id": "PjPL898-sNnO"
      },
      "outputs": [],
      "source": [
        "def clean_numbers(x):\n",
        "    if bool(re.search(r'\\d', x)):\n",
        "        x = re.sub(\"^\\d+\\s|\\s\\d+\\s|\\s\\d+$\", \"\", x)\n",
        "    return x"
      ]
    },
    {
      "cell_type": "code",
      "execution_count": null,
      "metadata": {
        "id": "zr4lYVsSYCRA"
      },
      "outputs": [],
      "source": [
        "def convert_lowercase(x):\n",
        "    return x.lower()"
      ]
    },
    {
      "cell_type": "code",
      "execution_count": null,
      "metadata": {
        "id": "bjcQxG2UaERD"
      },
      "outputs": [],
      "source": [
        "from gensim.utils import tokenize\n",
        "\n",
        "def tokenize_input(x):\n",
        "  return np.array(list(tokenize(x)))\n"
      ]
    },
    {
      "cell_type": "code",
      "execution_count": null,
      "metadata": {
        "id": "AmkPCPNlpOGv"
      },
      "outputs": [],
      "source": [
        "from numpy import linalg as LA\n",
        "import gensim.downloader\n",
        "\n",
        "word2vec = gensim.downloader.load('word2vec-google-news-300')\n",
        "\n",
        "def get_word_vector(x):\n",
        "  try:\n",
        "    return word2vec[x]\n",
        "  except:\n",
        "    return np.zeros(300)\n",
        "\n",
        "\n",
        "\n",
        "def calculate_average_norm_vector(x):\n",
        "  word_vector = np.zeros(300)\n",
        "  size = len(x)\n",
        "  embedding_list = []\n",
        "  for word in x:\n",
        "    embedding_list.append(get_word_vector(word))\n",
        "    \n",
        "  embed_arr = np.array(embedding_list)\n",
        "  return np.mean(embed_arr, axis=0)\n"
      ]
    },
    {
      "cell_type": "code",
      "execution_count": null,
      "metadata": {
        "id": "QVzg5o43jyCQ"
      },
      "outputs": [],
      "source": [
        "from gensim.parsing.preprocessing import remove_stopwords\n",
        "\n",
        "def remove_stop_words(x):\n",
        "    x = remove_stopwords(x)\n",
        "    return x"
      ]
    },
    {
      "cell_type": "code",
      "execution_count": null,
      "metadata": {
        "id": "US0XqBohO12D"
      },
      "outputs": [],
      "source": [
        "data['topic_cleaned'] = data['topic'].apply(clean_text_1).apply(clean_numbers).apply(convert_lowercase)"
      ]
    },
    {
      "cell_type": "code",
      "execution_count": null,
      "metadata": {
        "id": "VxGxPpT-Zjwj"
      },
      "outputs": [],
      "source": [
        "data['abstract_cleaned'] = data['abstract'].apply(clean_text_1).apply(clean_numbers).apply(convert_lowercase).apply(remove_stop_words)"
      ]
    },
    {
      "cell_type": "code",
      "execution_count": null,
      "metadata": {
        "id": "l_YJXchqUDQm"
      },
      "outputs": [],
      "source": [
        "data['title_cleaned'] = data['title'].apply(clean_text_1).apply(clean_numbers).apply(convert_lowercase).apply(remove_stop_words)"
      ]
    },
    {
      "cell_type": "code",
      "execution_count": null,
      "metadata": {
        "id": "aIInP9LzXDeq"
      },
      "outputs": [],
      "source": [
        "data['title_cleaned'] = data['title'].apply(clean_text_1).apply(clean_numbers).apply(convert_lowercase).apply(remove_stop_words)"
      ]
    },
    {
      "cell_type": "code",
      "execution_count": null,
      "metadata": {
        "id": "yDftEmBnfv-5"
      },
      "outputs": [],
      "source": [
        "data['title_abstract_cleaned'] = data['title_abstract'].apply(clean_text_1).apply(clean_numbers).apply(convert_lowercase).apply(remove_stop_words)"
      ]
    },
    {
      "cell_type": "code",
      "execution_count": null,
      "metadata": {
        "colab": {
          "base_uri": "https://localhost:8080/"
        },
        "id": "HlXCijN05ZTb",
        "outputId": "e3cfe24d-67f6-4786-e1be-2a365036c7f4"
      },
      "outputs": [
        {
          "output_type": "stream",
          "name": "stdout",
          "text": [
            "['Breast Imaging' 'Cardiac Radiology' 'Chest Radiology'\n",
            " 'Computed Tomography' 'Gastrointestinal Radiology'\n",
            " 'Genitourinary Radiology' 'Head and Neck' 'Health Policy' 'Informatics'\n",
            " 'Interventional Radiology' 'Magnetic Resonance Imaging'\n",
            " 'Molecular Imaging' 'Musculoskeletal Radiology' 'Neuroradiology'\n",
            " 'Oncologic Imaging']\n"
          ]
        }
      ],
      "source": [
        "topics = data['topic'].unique()\n",
        "print(topics)"
      ]
    },
    {
      "cell_type": "markdown",
      "source": [
        "# 2) Edit distance (Levenshtein) calculation"
      ],
      "metadata": {
        "id": "lrTiBKKDpAMZ"
      }
    },
    {
      "cell_type": "code",
      "execution_count": null,
      "metadata": {
        "id": "iv3q-R0y5ZTr",
        "outputId": "8bcce466-482d-492e-ef7b-8b74147fb99c",
        "colab": {
          "base_uri": "https://localhost:8080/"
        }
      },
      "outputs": [
        {
          "output_type": "stream",
          "name": "stdout",
          "text": [
            "Looking in indexes: https://pypi.org/simple, https://us-python.pkg.dev/colab-wheels/public/simple/\n",
            "Collecting fuzzywuzzy\n",
            "  Downloading fuzzywuzzy-0.18.0-py2.py3-none-any.whl (18 kB)\n",
            "Installing collected packages: fuzzywuzzy\n",
            "Successfully installed fuzzywuzzy-0.18.0\n",
            "Looking in indexes: https://pypi.org/simple, https://us-python.pkg.dev/colab-wheels/public/simple/\n",
            "Collecting python-Levenshtein\n",
            "  Downloading python_Levenshtein-0.20.8-py3-none-any.whl (9.4 kB)\n",
            "Collecting Levenshtein==0.20.8\n",
            "  Downloading Levenshtein-0.20.8-cp37-cp37m-manylinux_2_17_x86_64.manylinux2014_x86_64.whl (175 kB)\n",
            "\u001b[K     |████████████████████████████████| 175 kB 7.2 MB/s \n",
            "\u001b[?25hCollecting rapidfuzz<3.0.0,>=2.3.0\n",
            "  Downloading rapidfuzz-2.13.2-cp37-cp37m-manylinux_2_17_x86_64.manylinux2014_x86_64.whl (2.2 MB)\n",
            "\u001b[K     |████████████████████████████████| 2.2 MB 39.7 MB/s \n",
            "\u001b[?25hInstalling collected packages: rapidfuzz, Levenshtein, python-Levenshtein\n",
            "Successfully installed Levenshtein-0.20.8 python-Levenshtein-0.20.8 rapidfuzz-2.13.2\n"
          ]
        }
      ],
      "source": [
        "!pip install fuzzywuzzy\n",
        "!pip install python-Levenshtein"
      ]
    },
    {
      "cell_type": "code",
      "execution_count": null,
      "metadata": {
        "id": "qe7uoXWS5ZTu",
        "outputId": "0f3b7dde-d605-4e82-db82-4abbf644259c",
        "colab": {
          "base_uri": "https://localhost:8080/"
        }
      },
      "outputs": [
        {
          "output_type": "stream",
          "name": "stdout",
          "text": [
            "{'Breast Imaging': {'x': [57, 67, 79, 105, 84, 61, 56, 108, 160, 36, 105, 53, 85, 111, 116, 87, 80, 75, 51, 37, 105, 100, 73, 92, 72, 94, 83, 31, 78, 102, 123, 76, 103, 83, 119, 80, 86, 72, 46, 134, 115, 132, 80, 107, 114, 129, 133, 156, 102, 45, 61, 103, 69, 65, 156, 96, 112, 98, 55, 158, 70, 125, 133, 60, 62, 63, 90, 33, 88, 86, 58, 101, 87, 121, 54, 79, 96, 101, 94, 75, 129, 45, 68, 97, 77, 117, 182, 109, 145, 65, 80, 111, 101, 26, 79, 85, 52, 102, 98, 55, 126], 'y': array([0])}, 'Cardiac Radiology': {'x': [85, 72, 124, 84, 98, 122, 72, 90, 151, 83, 105, 91, 99, 138, 106, 113, 97, 100, 124, 73, 91, 78, 78, 109, 114, 113, 90, 48, 92, 48, 90, 96, 53, 20, 95, 85, 86, 147, 78, 124, 54, 169, 112, 55, 91, 55, 100, 54, 98, 64, 92, 87, 138, 94, 113, 114, 44, 62, 93, 99, 97, 106, 117, 112, 107, 70, 103, 89, 39, 120, 72, 200, 100, 67, 116, 97, 92, 126, 106, 135, 130, 81, 17, 95, 117, 72, 106, 128, 75, 101, 35, 97, 96, 87, 33, 83, 58, 147, 98, 93, 84], 'y': array([1])}, 'Chest Radiology': {'x': [77, 56, 46, 102, 81, 86, 68, 69, 90, 44, 109, 72, 78, 95, 88, 74, 73, 97, 38, 95, 89, 104, 164, 89, 77, 52, 24, 122, 97, 88, 53, 78, 44, 33, 112, 101, 49, 94, 48, 115, 45, 98, 78, 102, 61, 106, 38, 110, 114, 70, 87, 164, 87, 65, 109, 81, 118, 66, 104, 108, 53, 115, 141, 57, 113, 153, 132, 72, 130, 114, 107, 106, 127, 101, 94, 163, 90, 56, 96, 73, 37, 92, 72], 'y': array([2])}, 'Computed Tomography': {'x': [119, 75, 50, 79, 77, 27, 98, 81, 122, 45, 89, 90, 60, 44, 29, 114, 112, 61, 30, 47, 31, 80, 51, 70, 91, 75, 151, 78, 84, 84, 87, 47, 117, 78, 63, 78, 27, 100, 154, 59, 100, 91, 43, 106, 85, 107, 93, 140, 119, 91, 57, 98, 94, 131, 106, 49, 130, 118, 106, 116, 107, 85, 95, 109, 130, 84, 99, 92, 145, 181, 131, 129, 106, 83, 89, 49, 121, 88, 69, 110, 117, 127, 81, 120, 68, 89, 49, 93, 89, 59, 92, 54, 92, 35, 70, 72, 39, 78, 70, 48, 79, 76, 49, 75, 74, 75], 'y': array([3])}, 'Gastrointestinal Radiology': {'x': [74, 91, 112, 113, 75, 78, 49, 89, 122, 74, 137, 124, 60, 114, 48, 65, 113, 48, 88, 119, 98, 43, 45, 139, 62, 70, 101, 139, 172, 103, 149, 67, 136, 90, 88, 58, 76, 133, 62, 21, 127, 61, 45, 65, 84, 107, 97, 43, 89, 87, 55, 97, 110, 150, 132, 81, 134, 108, 53, 130, 60, 112, 117, 61, 104, 68, 145, 116, 103, 108, 71, 49, 125, 102, 61, 118, 74, 130, 102, 67, 94, 123, 71, 77, 114, 73, 85, 87, 22, 150, 92, 40, 74, 111, 154, 76, 152, 66, 74, 91, 78, 40, 76, 91, 75, 76, 82, 91, 42, 60, 115, 78, 22, 59, 114, 81, 113, 147, 107, 105, 131, 119, 82, 70, 116, 82, 80, 86, 67, 149, 172, 103, 64, 86, 75, 88, 77, 98, 133, 85, 101, 97, 82, 21, 106, 55, 144, 114, 54, 44, 43, 150, 68, 72, 59, 121, 73, 137, 122, 116, 57, 145, 103, 108, 79, 85, 74, 55, 78, 102, 125, 61, 74, 72, 26, 124, 72, 109, 106, 123, 149, 68, 25, 146, 87, 84, 150, 114, 91, 22, 92, 111, 84, 101, 137, 104, 92, 126, 80, 74], 'y': array([4])}, 'Genitourinary Radiology': {'x': [50, 41, 71, 115, 96, 75, 70, 110, 92, 78, 90, 96, 50, 77, 132, 74, 79, 102, 118, 116, 79, 41, 75, 50, 100, 131, 22, 23, 85, 78, 88, 115, 89, 156, 120, 56, 142, 86, 76, 115, 87, 51, 76, 90, 120, 49, 77, 86, 137, 108, 32, 57, 136, 101, 111, 43, 80, 67, 140, 94, 58, 66, 129, 19, 21, 74, 88, 77, 82, 132, 53, 133, 58, 96, 147, 72, 51, 101, 99, 74, 77, 91, 124, 82, 97, 124, 102, 129, 57, 72, 180, 56, 81, 84, 20, 41, 72, 148, 76, 89, 142, 60], 'y': array([5])}, 'Head and Neck': {'x': [76, 79, 79, 94, 95, 87, 21, 108, 126, 42, 57, 113, 151, 104, 27, 117, 99, 21, 118, 57, 101, 61, 154, 41, 104, 103, 82, 110, 82, 164, 73, 71, 52, 87, 70, 72, 38, 88, 147, 174, 24, 104, 116, 121, 91, 116, 98, 101, 132, 81, 100, 85, 112, 51, 129, 81, 100, 55, 19, 81, 127, 137, 131, 83, 16, 117, 115, 120], 'y': array([6])}, 'Health Policy': {'x': [52, 92, 90, 80, 83, 68, 173, 74, 82, 84, 46, 139, 37, 76, 70, 54, 69, 26, 61, 67, 90, 130, 53, 51, 86, 112, 78, 79, 25, 104, 78, 40, 77, 91, 22, 69, 49, 68, 105, 60, 19, 87, 30, 25, 137, 31, 107, 23, 49, 60, 99, 98, 80, 131, 75, 12, 63, 75, 75, 41, 90, 102, 52, 14, 76, 103, 54, 74, 65, 78, 59, 127, 120, 108, 46, 104, 47, 89, 86, 94, 107, 140, 71, 14, 159, 79, 58, 84, 104, 24, 50, 50], 'y': array([7])}, 'Informatics': {'x': [121, 73, 97, 56, 53, 134, 105, 72, 91, 84, 55, 19, 109, 109, 93, 118, 35, 119, 90, 99, 75, 26, 47, 54, 47, 28, 106, 130, 99, 80, 70, 63, 67, 79, 54, 71, 57, 55], 'y': array([8])}, 'Interventional Radiology': {'x': [32, 45, 59, 69, 115, 100, 43, 63, 108, 114, 73, 136, 120, 97, 56, 136, 88, 77, 89, 59, 119, 104, 111, 135, 78, 76, 72, 128, 89, 42, 77, 120, 34, 98, 64, 107, 127, 129, 156, 114, 95, 82, 158, 143, 134, 52, 81, 143, 92, 109, 105, 104, 107, 65, 77, 24, 83, 72, 133, 41, 116, 40, 95, 25, 103, 122, 73, 100, 94, 109, 57, 113, 88, 85, 84, 102, 93, 167, 148, 96, 94, 85, 78, 114, 103, 100, 102, 83, 125, 71, 91, 124, 78, 112, 111, 106, 102, 78, 146, 63, 109, 102, 128, 126, 93, 98, 97, 59], 'y': array([9])}, 'Magnetic Resonance Imaging': {'x': [85, 79, 84, 71, 85, 65, 113, 47, 141, 107, 70, 56, 65, 111, 74, 78, 66, 74, 70, 43, 150, 111, 68, 72, 129, 115, 62, 104, 111, 54, 72, 150, 69, 84, 79, 53, 76, 74, 35, 91, 139, 51, 101, 127, 52, 99, 75, 89, 55, 114, 82, 54, 49, 81, 77, 90, 59, 80, 72, 48, 124, 149, 66, 74, 120, 141, 87, 64, 81, 104, 118, 86, 107, 86, 103, 109, 103, 126, 58, 110, 54, 168, 82, 94, 104, 86, 132, 118, 80, 73, 55, 97, 62, 59, 47, 52, 117, 93, 73, 97, 92, 88, 83], 'y': array([10])}, 'Molecular Imaging': {'x': [94, 64, 108, 10, 30, 83, 132, 35, 80, 80, 15, 100, 102, 87, 76, 83, 75, 65, 44, 71, 43, 34, 138, 16, 47, 71, 52, 85, 77, 133, 110, 62, 52, 121, 52, 72, 80, 124, 73, 150, 58, 32, 81, 108, 97, 104, 65, 90, 120, 96, 106, 79, 75, 100, 71, 150, 79, 53, 132, 102, 65, 30, 62, 101, 157, 128, 113, 73, 71, 100, 103, 68, 75, 75], 'y': array([11])}, 'Musculoskeletal Radiology': {'x': [73, 74, 92, 112, 99, 75, 73, 123, 86, 131, 77, 84, 103, 97, 115, 91, 22, 63, 50, 68, 58, 81, 27, 99, 58, 96, 97, 57, 52, 123, 26, 98, 82, 108, 122, 99, 22, 101, 80, 111, 24, 107, 100, 109, 89, 107, 51, 102, 109, 108, 134, 89, 86, 40, 35, 19, 71, 61, 80, 35, 96, 89, 96, 42, 124, 119, 61, 74, 92, 74, 46, 70, 83, 59, 90, 116, 36, 40, 54, 49, 28, 70, 134, 86, 135, 76, 118, 50, 47, 67, 107, 73, 36, 107, 101, 58, 126, 78, 90, 82], 'y': array([12])}, 'Neuroradiology': {'x': [28, 86, 102, 67, 168, 117, 106, 104, 121, 101, 125, 88, 94, 114, 111, 87, 88, 92, 52, 78, 93, 64, 36, 17, 78, 55, 68, 77, 79, 54, 67, 35, 101, 96, 109, 63, 82, 115, 55, 92, 118, 101, 84, 109, 47, 148, 44, 63, 54, 51, 86, 69, 89, 61, 83, 153, 84, 97, 63, 89, 73, 115, 56, 103, 88, 82, 103, 120, 141, 131, 88, 129, 115, 19, 132, 75, 138, 94, 109, 113, 95, 93, 101, 124, 54, 24, 66, 24, 93, 136, 104, 78, 110, 129, 101, 53, 21, 53, 20, 63], 'y': array([13])}, 'Oncologic Imaging': {'x': [60, 105, 58, 48, 29, 91, 38, 103, 67, 103, 28, 82, 87, 56, 82, 57, 79, 101, 114, 99, 99, 58, 74, 59, 112, 50, 99, 100, 68, 52, 114, 142, 70, 110, 103, 78, 113, 116, 81, 104, 57, 93, 80, 67, 99, 80, 107, 94, 72, 68, 55, 117, 72, 107, 97, 118, 101, 61, 98, 128, 135, 140, 119, 106], 'y': array([14])}}\n"
          ]
        }
      ],
      "source": [
        "from fuzzywuzzy import fuzz\n",
        "from Levenshtein import distance\n",
        "\n",
        "distance_array = []\n",
        "distance_array_top_abstract = []\n",
        "topic_index = {}\n",
        "\n",
        "uniqe_topics = data['topic'].unique()\n",
        "\n",
        "for index, row in data.iterrows():\n",
        "  distance_array.append(distance(row['topic_cleaned'],row['title_cleaned']))\n",
        "  distance_array_top_abstract.append(distance(row['topic_cleaned'],row['abstract_cleaned']))\n",
        "  if row['topic'] in uniqe_topics:\n",
        "#     print(row['topic'])\n",
        "    if not row['topic'] in topic_index:\n",
        "        topic_index[row['topic']] = {'x':[]}\n",
        "    topic_index[row['topic']]['x'].append(distance(row['topic_cleaned'],row['title_cleaned']))\n",
        "    topic_index[row['topic']]['y'] = np.where(uniqe_topics==row['topic'])[0]\n",
        "    \n",
        "    \n",
        "print(topic_index)"
      ]
    },
    {
      "cell_type": "code",
      "execution_count": null,
      "metadata": {
        "id": "-EZBXhAa5ZTw"
      },
      "outputs": [],
      "source": [
        "with open('fuzzy_wuzzy.csv', 'w') as fw:\n",
        "        fw.write('topic'+';'+'mean;std')\n",
        "for topic in topics:\n",
        "    with open('fuzzy_wuzzy.csv', 'a') as fw:\n",
        "        fw.write('\\n'+topic+';'+str(np.mean(topic_index[topic]['x']))+';'+str(np.std(topic_index[topic]['x'])))\n",
        "    \n",
        "    \n",
        "    "
      ]
    },
    {
      "cell_type": "code",
      "execution_count": null,
      "metadata": {
        "id": "hhvKGiVP5ZTv",
        "outputId": "3435807d-3e38-4e99-802a-84cf711895a6",
        "colab": {
          "base_uri": "https://localhost:8080/",
          "height": 320
        }
      },
      "outputs": [
        {
          "output_type": "stream",
          "name": "stderr",
          "text": [
            "/usr/local/lib/python3.7/dist-packages/ipykernel_launcher.py:13: MatplotlibDeprecationWarning: Passing the minor parameter of set_yticks() positionally is deprecated since Matplotlib 3.2; the parameter will become keyword-only two minor releases later.\n",
            "  del sys.path[0]\n"
          ]
        },
        {
          "output_type": "display_data",
          "data": {
            "text/plain": [
              "<Figure size 432x288 with 1 Axes>"
            ],
            "image/png": "[encoded data removed]"
          },
          "metadata": {
            "needs_background": "light"
          }
        }
      ],
      "source": [
        "\n",
        "fig = plt.figure()\n",
        "ax1 = fig.add_subplot(111)\n",
        "yticks_count = []\n",
        "y_tick_topic = []\n",
        "count =0\n",
        "for topic in topics:\n",
        "    ax1.scatter(topic_index[topic]['x'], np.full(len(topic_index[topic]['x']), count), marker=\"x\")\n",
        "    yticks_count.append(count)\n",
        "    y_tick_topic.append(topic)\n",
        "    \n",
        "    count +=1\n",
        "\n",
        "ax1.set_yticks(yticks_count, y_tick_topic)\n",
        "ax1.set_yticklabels(y_tick_topic)\n",
        "plt.show()\n"
      ]
    },
    {
      "cell_type": "code",
      "source": [
        "df['abstract_tokens'] =  df['abstract_preprocess'].apply(lambda x: tokenize(x))\n",
        "df['title_tokens'] =  df['title_preprocess'].apply(lambda x: tokenize(x))"
      ],
      "metadata": {
        "id": "ZIxn9p_RlYZH"
      },
      "execution_count": null,
      "outputs": []
    },
    {
      "cell_type": "code",
      "source": [
        "with open('tdidf.csv', 'w') as fw:\n",
        "    fw.write('topic;topic-abstract mean;topic-abstract std;topic-title mean;topic-title std')\n",
        "    \n",
        "topics = df['topic'].unique()\n",
        "count = 0\n",
        "dictionary = corpora.Dictionary(df['abstract_tokens'])\n",
        "bag_of_words = [dictionary.doc2bow(doc) for doc in df['abstract_tokens']]\n",
        "tfidf = models.TfidfModel(bag_of_words)\n",
        "for topic in topics:\n",
        "    print(topic)\n",
        "    topic_data = df.loc[df['topic'] == topic]\n",
        "    topic = preprocess(topic,lemmatize = True)\n",
        "    topic_tokens = topic.split()\n",
        "\n",
        "    feature_cnt = len(dictionary.token2id)\n",
        "    topic_vec = dictionary.doc2bow(topic_tokens)\n",
        "\n",
        "    index = similarities.MatrixSimilarity(tfidf[bag_of_words],num_features = feature_cnt)\n",
        "    sim = index[tfidf[topic_vec]]\n",
        "    print(np.mean(sim))\n",
        "    print(np.std(sim))\n",
        "    \n",
        "    \n",
        "    dictionary_title = corpora.Dictionary(topic_data['title_tokens'])\n",
        "    bag_of_words_title = [dictionary_title.doc2bow(doc) for doc in topic_data['title_tokens']]\n",
        "    tfidf_title = models.TfidfModel(bag_of_words_title)\n",
        "    feature_cnt_title = len(dictionary_title.token2id)\n",
        "    \n",
        "    index_title = similarities.MatrixSimilarity(tfidf_title[bag_of_words_title],num_features = feature_cnt_title)\n",
        "    sim_title = index[tfidf_title[topic_vec]]\n",
        "    print(np.mean(sim_title))\n",
        "    print(np.std(sim_title))\n",
        "    \n",
        "    with open('tdidf.csv', 'a') as fw:\n",
        "        fw.write('\\n'+topic+';'+str(np.mean(sim))+';'+str(np.std(sim))+';'+str(np.mean(sim_title))+';'+str(np.std(sim_title)))\n"
      ],
      "metadata": {
        "id": "kHdg0RUMljyT"
      },
      "execution_count": null,
      "outputs": []
    },
    {
      "cell_type": "code",
      "source": [
        "tfidf = models.TfidfModel(bag_of_words, smartirs='ntc')\n",
        "for doc in tfidf[bag_of_words]:\n",
        "    print([[dictionary[id], np.around(freq,decimals=2)] for id, freq in doc])"
      ],
      "metadata": {
        "id": "FtyN5rRTlx-c"
      },
      "execution_count": null,
      "outputs": []
    },
    {
      "cell_type": "markdown",
      "source": [
        "# 5) FastText Embeddding calcultion"
      ],
      "metadata": {
        "id": "8K88A1xprA61"
      }
    },
    {
      "cell_type": "code",
      "execution_count": null,
      "metadata": {
        "colab": {
          "base_uri": "https://localhost:8080/"
        },
        "id": "ylkCet5IiPwv",
        "outputId": "ea0c40ad-fb6e-4e2a-9e78-6ee586bd9fb5"
      },
      "outputs": [
        {
          "output_type": "stream",
          "name": "stdout",
          "text": [
            "Looking in indexes: https://pypi.org/simple, https://us-python.pkg.dev/colab-wheels/public/simple/\n",
            "Collecting fasttext\n",
            "  Downloading fasttext-0.9.2.tar.gz (68 kB)\n",
            "\u001b[?25l\r\u001b[K     |████▊                           | 10 kB 18.4 MB/s eta 0:00:01\r\u001b[K     |█████████▌                      | 20 kB 7.2 MB/s eta 0:00:01\r\u001b[K     |██████████████▎                 | 30 kB 9.9 MB/s eta 0:00:01\r\u001b[K     |███████████████████             | 40 kB 4.4 MB/s eta 0:00:01\r\u001b[K     |███████████████████████▉        | 51 kB 4.6 MB/s eta 0:00:01\r\u001b[K     |████████████████████████████▋   | 61 kB 5.4 MB/s eta 0:00:01\r\u001b[K     |████████████████████████████████| 68 kB 3.1 MB/s \n",
            "\u001b[?25hCollecting pybind11>=2.2\n",
            "  Using cached pybind11-2.10.1-py3-none-any.whl (216 kB)\n",
            "Requirement already satisfied: setuptools>=0.7.0 in /usr/local/lib/python3.7/dist-packages (from fasttext) (57.4.0)\n",
            "Requirement already satisfied: numpy in /usr/local/lib/python3.7/dist-packages (from fasttext) (1.21.6)\n",
            "Building wheels for collected packages: fasttext\n",
            "  Building wheel for fasttext (setup.py) ... \u001b[?25l\u001b[?25hdone\n",
            "  Created wheel for fasttext: filename=fasttext-0.9.2-cp37-cp37m-linux_x86_64.whl size=3163281 sha256=df2e83c7328d305d7a4353c831c906883a8417ddb39b3dea5a361a7e221273d6\n",
            "  Stored in directory: /root/.cache/pip/wheels/4e/ca/bf/b020d2be95f7641801a6597a29c8f4f19e38f9c02a345bab9b\n",
            "Successfully built fasttext\n",
            "Installing collected packages: pybind11, fasttext\n",
            "Successfully installed fasttext-0.9.2 pybind11-2.10.1\n"
          ]
        }
      ],
      "source": [
        "!pip install fasttext"
      ]
    },
    {
      "cell_type": "code",
      "execution_count": null,
      "metadata": {
        "id": "CPKCYlVLnO_K"
      },
      "outputs": [],
      "source": [
        "# fastext embedding\n",
        "data['abstract_vector'] = data['abstract_cleaned'].apply(ft.get_sentence_vector)\n",
        "data['topic_vector'] = data['topic_cleaned'].apply(ft.get_sentence_vector)\n",
        "data['title_vector'] = data['title_cleaned'].apply(ft.get_sentence_vector)\n",
        "data['title_abstract_vector'] = data['title_abstract_cleaned'].apply(ft.get_sentence_vector)"
      ]
    },
    {
      "cell_type": "code",
      "execution_count": null,
      "metadata": {
        "colab": {
          "base_uri": "https://localhost:8080/"
        },
        "id": "m5jL1aIefwjD",
        "outputId": "e78e3cb8-a13d-4cad-bddd-1145d175c442"
      },
      "outputs": [
        {
          "output_type": "stream",
          "name": "stderr",
          "text": [
            "Warning : `load_model` does not return WordVectorModel or SupervisedModel any more, but a `FastText` object which is very similar.\n"
          ]
        }
      ],
      "source": [
        "import fasttext\n",
        "import fasttext.util\n",
        "\n",
        "fasttext.util.download_model('en', if_exists='ignore')\n",
        "ft = fasttext.load_model('cc.en.300.bin')\n"
      ]
    },
    {
      "cell_type": "markdown",
      "source": [
        "##  Convert embeddings to 2 Principle components "
      ],
      "metadata": {
        "id": "1wt6eZMUrzUw"
      }
    },
    {
      "cell_type": "code",
      "execution_count": null,
      "metadata": {
        "id": "DlfGdTyBfGOG"
      },
      "outputs": [],
      "source": [
        "from sklearn.decomposition import PCA\n",
        "\n",
        "pca = PCA(n_components=2)"
      ]
    },
    {
      "cell_type": "code",
      "source": [
        "pca.explained_variance_"
      ],
      "metadata": {
        "colab": {
          "base_uri": "https://localhost:8080/"
        },
        "id": "tTeFbramOaWH",
        "outputId": "390d1195-3d24-4649-a673-7d2c7040fd93"
      },
      "execution_count": null,
      "outputs": [
        {
          "output_type": "execute_result",
          "data": {
            "text/plain": [
              "array([0.00591719, 0.00358924], dtype=float32)"
            ]
          },
          "metadata": {},
          "execution_count": 33
        }
      ]
    },
    {
      "cell_type": "code",
      "execution_count": null,
      "metadata": {
        "id": "xwnVmYtTpfCY"
      },
      "outputs": [],
      "source": [
        "vector_data = pd.DataFrame(data,columns=['topic_vector','abstract_vector','title_vector','title_abstract_vector'])"
      ]
    },
    {
      "cell_type": "code",
      "execution_count": null,
      "metadata": {
        "colab": {
          "base_uri": "https://localhost:8080/",
          "height": 206
        },
        "id": "Et7MO3rCuYnR",
        "outputId": "78eef75b-f8b0-4c31-822d-1a0aad7903a7"
      },
      "outputs": [
        {
          "output_type": "execute_result",
          "data": {
            "text/plain": [
              "                                        topic_vector  \\\n",
              "0  [0.019606698, -0.014334035, 0.06178364, 0.0663...   \n",
              "1  [0.019606698, -0.014334035, 0.06178364, 0.0663...   \n",
              "2  [0.019606698, -0.014334035, 0.06178364, 0.0663...   \n",
              "3  [0.019606698, -0.014334035, 0.06178364, 0.0663...   \n",
              "4  [0.019606698, -0.014334035, 0.06178364, 0.0663...   \n",
              "\n",
              "                                     abstract_vector  \\\n",
              "0  [-0.019171301, 0.02041218, -0.0061590383, 0.05...   \n",
              "1  [-0.016227495, 0.011873919, 0.0060375747, 0.05...   \n",
              "2  [0.010565303, 0.001557752, 0.012574315, 0.0627...   \n",
              "3  [0.012650269, 0.009760812, 0.028754994, 0.0679...   \n",
              "4  [-0.001396907, 0.01640802, 0.017667364, 0.0575...   \n",
              "\n",
              "                                        title_vector  \\\n",
              "0  [-0.033619013, -0.0036775884, 0.030191982, 0.0...   \n",
              "1  [-0.012032524, 0.00887106, 0.011936671, 0.0665...   \n",
              "2  [0.034408227, -0.020165538, 0.06276475, 0.0496...   \n",
              "3  [0.0025699947, 0.0023611013, 0.03762207, 0.065...   \n",
              "4  [-0.008444587, -0.005041185, 0.02569477, 0.045...   \n",
              "\n",
              "                               title_abstract_vector  \n",
              "0  [-0.02233174, 0.015142544, 0.0017927497, 0.051...  \n",
              "1  [-0.014403594, 0.010568329, 0.0086023975, 0.06...  \n",
              "2  [0.018016217, -0.005230775, 0.028258828, 0.058...  \n",
              "3  [0.008679253, 0.006845774, 0.03224808, 0.06714...  \n",
              "4  [-0.003913935, 0.008747591, 0.0205343, 0.05330...  "
            ],
            "text/html": [
              "\n",
              "  <div id=\"df-73054c83-b87d-46bb-b413-8f1930433b09\">\n",
              "    <div class=\"colab-df-container\">\n",
              "      <div>\n",
              "<style scoped>\n",
              "    .dataframe tbody tr th:only-of-type {\n",
              "        vertical-align: middle;\n",
              "    }\n",
              "\n",
              "    .dataframe tbody tr th {\n",
              "        vertical-align: top;\n",
              "    }\n",
              "\n",
              "    .dataframe thead th {\n",
              "        text-align: right;\n",
              "    }\n",
              "</style>\n",
              "<table border=\"1\" class=\"dataframe\">\n",
              "  <thead>\n",
              "    <tr style=\"text-align: right;\">\n",
              "      <th></th>\n",
              "      <th>topic_vector</th>\n",
              "      <th>abstract_vector</th>\n",
              "      <th>title_vector</th>\n",
              "      <th>title_abstract_vector</th>\n",
              "    </tr>\n",
              "  </thead>\n",
              "  <tbody>\n",
              "    <tr>\n",
              "      <th>0</th>\n",
              "      <td>[0.019606698, -0.014334035, 0.06178364, 0.0663...</td>\n",
              "      <td>[-0.019171301, 0.02041218, -0.0061590383, 0.05...</td>\n",
              "      <td>[-0.033619013, -0.0036775884, 0.030191982, 0.0...</td>\n",
              "      <td>[-0.02233174, 0.015142544, 0.0017927497, 0.051...</td>\n",
              "    </tr>\n",
              "    <tr>\n",
              "      <th>1</th>\n",
              "      <td>[0.019606698, -0.014334035, 0.06178364, 0.0663...</td>\n",
              "      <td>[-0.016227495, 0.011873919, 0.0060375747, 0.05...</td>\n",
              "      <td>[-0.012032524, 0.00887106, 0.011936671, 0.0665...</td>\n",
              "      <td>[-0.014403594, 0.010568329, 0.0086023975, 0.06...</td>\n",
              "    </tr>\n",
              "    <tr>\n",
              "      <th>2</th>\n",
              "      <td>[0.019606698, -0.014334035, 0.06178364, 0.0663...</td>\n",
              "      <td>[0.010565303, 0.001557752, 0.012574315, 0.0627...</td>\n",
              "      <td>[0.034408227, -0.020165538, 0.06276475, 0.0496...</td>\n",
              "      <td>[0.018016217, -0.005230775, 0.028258828, 0.058...</td>\n",
              "    </tr>\n",
              "    <tr>\n",
              "      <th>3</th>\n",
              "      <td>[0.019606698, -0.014334035, 0.06178364, 0.0663...</td>\n",
              "      <td>[0.012650269, 0.009760812, 0.028754994, 0.0679...</td>\n",
              "      <td>[0.0025699947, 0.0023611013, 0.03762207, 0.065...</td>\n",
              "      <td>[0.008679253, 0.006845774, 0.03224808, 0.06714...</td>\n",
              "    </tr>\n",
              "    <tr>\n",
              "      <th>4</th>\n",
              "      <td>[0.019606698, -0.014334035, 0.06178364, 0.0663...</td>\n",
              "      <td>[-0.001396907, 0.01640802, 0.017667364, 0.0575...</td>\n",
              "      <td>[-0.008444587, -0.005041185, 0.02569477, 0.045...</td>\n",
              "      <td>[-0.003913935, 0.008747591, 0.0205343, 0.05330...</td>\n",
              "    </tr>\n",
              "  </tbody>\n",
              "</table>\n",
              "</div>\n",
              "      <button class=\"colab-df-convert\" onclick=\"convertToInteractive('df-73054c83-b87d-46bb-b413-8f1930433b09')\"\n",
              "              title=\"Convert this dataframe to an interactive table.\"\n",
              "              style=\"display:none;\">\n",
              "        \n",
              "  <svg xmlns=\"http://www.w3.org/2000/svg\" height=\"24px\"viewBox=\"0 0 24 24\"\n",
              "       width=\"24px\">\n",
              "    <path d=\"M0 0h24v24H0V0z\" fill=\"none\"/>\n",
              "    <path d=\"M18.56 5.44l.94 2.06.94-2.06 2.06-.94-2.06-.94-.94-2.06-.94 2.06-2.06.94zm-11 1L8.5 8.5l.94-2.06 2.06-.94-2.06-.94L8.5 2.5l-.94 2.06-2.06.94zm10 10l.94 2.06.94-2.06 2.06-.94-2.06-.94-.94-2.06-.94 2.06-2.06.94z\"/><path d=\"M17.41 7.96l-1.37-1.37c-.4-.4-.92-.59-1.43-.59-.52 0-1.04.2-1.43.59L10.3 9.45l-7.72 7.72c-.78.78-.78 2.05 0 2.83L4 21.41c.39.39.9.59 1.41.59.51 0 1.02-.2 1.41-.59l7.78-7.78 2.81-2.81c.8-.78.8-2.07 0-2.86zM5.41 20L4 18.59l7.72-7.72 1.47 1.35L5.41 20z\"/>\n",
              "  </svg>\n",
              "      </button>\n",
              "      \n",
              "  <style>\n",
              "    .colab-df-container {\n",
              "      display:flex;\n",
              "      flex-wrap:wrap;\n",
              "      gap: 12px;\n",
              "    }\n",
              "\n",
              "    .colab-df-convert {\n",
              "      background-color: #E8F0FE;\n",
              "      border: none;\n",
              "      border-radius: 50%;\n",
              "      cursor: pointer;\n",
              "      display: none;\n",
              "      fill: #1967D2;\n",
              "      height: 32px;\n",
              "      padding: 0 0 0 0;\n",
              "      width: 32px;\n",
              "    }\n",
              "\n",
              "    .colab-df-convert:hover {\n",
              "      background-color: #E2EBFA;\n",
              "      box-shadow: 0px 1px 2px rgba(60, 64, 67, 0.3), 0px 1px 3px 1px rgba(60, 64, 67, 0.15);\n",
              "      fill: #174EA6;\n",
              "    }\n",
              "\n",
              "    [theme=dark] .colab-df-convert {\n",
              "      background-color: #3B4455;\n",
              "      fill: #D2E3FC;\n",
              "    }\n",
              "\n",
              "    [theme=dark] .colab-df-convert:hover {\n",
              "      background-color: #434B5C;\n",
              "      box-shadow: 0px 1px 3px 1px rgba(0, 0, 0, 0.15);\n",
              "      filter: drop-shadow(0px 1px 2px rgba(0, 0, 0, 0.3));\n",
              "      fill: #FFFFFF;\n",
              "    }\n",
              "  </style>\n",
              "\n",
              "      <script>\n",
              "        const buttonEl =\n",
              "          document.querySelector('#df-73054c83-b87d-46bb-b413-8f1930433b09 button.colab-df-convert');\n",
              "        buttonEl.style.display =\n",
              "          google.colab.kernel.accessAllowed ? 'block' : 'none';\n",
              "\n",
              "        async function convertToInteractive(key) {\n",
              "          const element = document.querySelector('#df-73054c83-b87d-46bb-b413-8f1930433b09');\n",
              "          const dataTable =\n",
              "            await google.colab.kernel.invokeFunction('convertToInteractive',\n",
              "                                                     [key], {});\n",
              "          if (!dataTable) return;\n",
              "\n",
              "          const docLinkHtml = 'Like what you see? Visit the ' +\n",
              "            '<a target=\"_blank\" href=https://colab.research.google.com/notebooks/data_table.ipynb>data table notebook</a>'\n",
              "            + ' to learn more about interactive tables.';\n",
              "          element.innerHTML = '';\n",
              "          dataTable['output_type'] = 'display_data';\n",
              "          await google.colab.output.renderOutput(dataTable, element);\n",
              "          const docLink = document.createElement('div');\n",
              "          docLink.innerHTML = docLinkHtml;\n",
              "          element.appendChild(docLink);\n",
              "        }\n",
              "      </script>\n",
              "    </div>\n",
              "  </div>\n",
              "  "
            ]
          },
          "metadata": {},
          "execution_count": 29
        }
      ],
      "source": [
        "vector_data.head(5)"
      ]
    },
    {
      "cell_type": "code",
      "execution_count": null,
      "metadata": {
        "id": "Ij0kC9TNFBSk"
      },
      "outputs": [],
      "source": [
        "topic_vector = np.vstack(vector_data.topic_vector.values)\n",
        "abstract_vector = np.vstack(vector_data.abstract_vector.values)\n",
        "title_vector = np.vstack(vector_data.title_vector.values)\n",
        "title_abstract_vector = np.vstack(vector_data.title_abstract_vector.values)"
      ]
    },
    {
      "cell_type": "code",
      "execution_count": null,
      "metadata": {
        "colab": {
          "base_uri": "https://localhost:8080/"
        },
        "id": "1dsr566kEsT2",
        "outputId": "15964649-7a53-4dd0-d337-f683347a548c"
      },
      "outputs": [
        {
          "output_type": "stream",
          "name": "stdout",
          "text": [
            "topic_vector.shape (1440, 300)\n",
            "abstract_vector.shape (1440, 300)\n",
            "title_vector.shape (1440, 300)\n",
            "title_abstract_vector.shape (1440, 300)\n"
          ]
        }
      ],
      "source": [
        "print('topic_vector.shape',topic_vector.shape)\n",
        "print('abstract_vector.shape',abstract_vector.shape)\n",
        "print('title_vector.shape',title_vector.shape)\n",
        "print('title_abstract_vector.shape',title_abstract_vector.shape)"
      ]
    },
    {
      "cell_type": "code",
      "execution_count": null,
      "metadata": {
        "id": "MI8CiSKHu0VO"
      },
      "outputs": [],
      "source": [
        "topic_vector_pca = pca.fit_transform(topic_vector)\n",
        "abstract_vector_pca = pca.fit_transform(abstract_vector)\n",
        "title_vector_pca = pca.fit_transform(title_vector)\n",
        "title_abstract_pca = pca.fit_transform(title_abstract_vector)"
      ]
    },
    {
      "cell_type": "code",
      "execution_count": null,
      "metadata": {
        "id": "c_HjMhBd5ZTe"
      },
      "outputs": [],
      "source": [
        "data['abstract_vector_pca_x'] = abstract_vector_pca[:,0]\n",
        "data['abstract_vector_pca_y'] = abstract_vector_pca[:,1]\n",
        "\n",
        "data['title_vector_pca_x'] = title_vector_pca[:,0]\n",
        "data['title_vector_pca_y'] = title_vector_pca[:,1]\n",
        "\n",
        "data['title_abstract_pca_x'] = title_abstract_pca[:,0]\n",
        "data['title_abstract_pca_y'] = title_abstract_pca[:,1]\n",
        "\n"
      ]
    },
    {
      "cell_type": "code",
      "execution_count": null,
      "metadata": {
        "id": "rD5J_4EO5ZTe",
        "outputId": "684fd9b9-a7a0-44f1-c6ea-8aec5647848a"
      },
      "outputs": [
        {
          "data": {
            "text/plain": [
              "(1440,)"
            ]
          },
          "execution_count": 100,
          "metadata": {},
          "output_type": "execute_result"
        }
      ],
      "source": [
        " data['topic_vector'].shape"
      ]
    },
    {
      "cell_type": "markdown",
      "source": [
        " ## FastText Topic - Abstrct embedding plot"
      ],
      "metadata": {
        "id": "04BJcuTarqX0"
      }
    },
    {
      "cell_type": "code",
      "execution_count": null,
      "metadata": {
        "colab": {
          "base_uri": "https://localhost:8080/",
          "height": 265
        },
        "id": "jAMr_ONBRSkd",
        "outputId": "26984ab7-dbdd-451d-cdcd-9f045ab8dac4"
      },
      "outputs": [
        {
          "data": {
            "image/png": "[encoded data removed]",
            "text/plain": [
              "<Figure size 640x480 with 1 Axes>"
            ]
          },
          "metadata": {},
          "output_type": "display_data"
        }
      ],
      "source": [
        "import matplotlib.pyplot as plt\n",
        "colors={}\n",
        "for topic in topics:\n",
        "    colors[topic] = np.random.rand(3,)\n",
        "\n",
        "\n",
        "data.plot.scatter(x='abstract_vector_pca_x', y='abstract_vector_pca_y', c=data['topic'].apply(lambda x: colors[x]))\n",
        "plt.scatter(topic_vector_pca[:,0], topic_vector_pca[:,1], c='red', alpha=0.5)\n",
        "\n",
        "plt.show()"
      ]
    },
    {
      "cell_type": "markdown",
      "source": [
        "## FastText Topic - Title embedding plot"
      ],
      "metadata": {
        "id": "WcVeJg2H4J6J"
      }
    },
    {
      "cell_type": "code",
      "execution_count": null,
      "metadata": {
        "colab": {
          "base_uri": "https://localhost:8080/",
          "height": 265
        },
        "id": "1B2UtQENVjo2",
        "outputId": "4ce6579e-2178-4926-bab5-bbfc05212c16"
      },
      "outputs": [
        {
          "data": {
            "image/png": "[encoded data removed]",
            "text/plain": [
              "<Figure size 640x480 with 1 Axes>"
            ]
          },
          "metadata": {},
          "output_type": "display_data"
        }
      ],
      "source": [
        "import matplotlib.pyplot as plt\n",
        "\n",
        "colors={}\n",
        "for topic in topics:\n",
        "    colors[topic] = np.random.rand(3,)\n",
        "\n",
        "data.plot.scatter(x='title_vector_pca_x', y='title_vector_pca_y', c=data['topic'].apply(lambda x: colors[x]))\n",
        "plt.scatter(topic_vector_pca[:,0], topic_vector_pca[:,1], c='red', alpha=0.5)\n",
        "\n",
        "plt.show()\n"
      ]
    },
    {
      "cell_type": "markdown",
      "source": [
        "## FastText Topic- Abstract + Title embedding plot"
      ],
      "metadata": {
        "id": "qCaGkjKs4LRx"
      }
    },
    {
      "cell_type": "code",
      "execution_count": null,
      "metadata": {
        "colab": {
          "base_uri": "https://localhost:8080/",
          "height": 265
        },
        "id": "bB0dXA6jgRzf",
        "outputId": "7c627559-63f9-4fef-edd9-09376ffbc80f"
      },
      "outputs": [
        {
          "name": "stderr",
          "output_type": "stream",
          "text": [
            "C:\\Users\\Mawela\\anaconda3\\envs\\dlib\\lib\\site-packages\\pandas\\plotting\\_matplotlib\\core.py:1114: UserWarning: No data for colormapping provided via 'c'. Parameters 'cmap' will be ignored\n",
            "  scatter = ax.scatter(\n"
          ]
        },
        {
          "data": {
            "image/png": "[encoded data removed]",
            "text/plain": [
              "<Figure size 640x480 with 1 Axes>"
            ]
          },
          "metadata": {},
          "output_type": "display_data"
        }
      ],
      "source": [
        "import matplotlib.pyplot as plt\n",
        "\n",
        "colors={}\n",
        "for topic in topics:\n",
        "    colors[topic] = np.random.rand(3,)\n",
        "\n",
        "\n",
        "data.plot.scatter(x='title_abstract_pca_x', y='title_abstract_pca_y', c=data['topic'].apply(lambda x: colors[x]))\n",
        "plt.scatter(topic_vector_pca[:,0], topic_vector_pca[:,1], c='red', alpha=0.5)\n",
        "\n",
        "plt.show()\n",
        "\n"
      ]
    },
    {
      "cell_type": "markdown",
      "source": [
        "# Word2Vec"
      ],
      "metadata": {
        "id": "OEL9xqI74sBo"
      }
    },
    {
      "cell_type": "code",
      "execution_count": null,
      "metadata": {
        "id": "1kOxUsVDlgLs"
      },
      "outputs": [],
      "source": [
        "data['topic_cleaned_tokens'] = data['topic_cleaned'].apply(tokenize_input)\n",
        "data['abstract_cleaned_tokens'] = data['abstract_cleaned'].apply(tokenize_input)"
      ]
    },
    {
      "cell_type": "code",
      "execution_count": null,
      "metadata": {
        "id": "Sm24Cgnjfteh"
      },
      "outputs": [],
      "source": [
        "data['topic_token_vector'] = data['topic_cleaned_tokens'].apply(calculate_average_norm_vector)\n",
        "data['abstract_token_vector'] = data['abstract_cleaned_tokens'].apply(calculate_average_norm_vector)"
      ]
    },
    {
      "cell_type": "code",
      "execution_count": null,
      "metadata": {
        "id": "996dasuIfVsr"
      },
      "outputs": [],
      "source": [
        "vector_data_wv = pd.DataFrame(data,columns=['topic_token_vector','abstract_token_vector'])"
      ]
    },
    {
      "cell_type": "code",
      "execution_count": null,
      "metadata": {
        "colab": {
          "base_uri": "https://localhost:8080/",
          "height": 206
        },
        "id": "70b9z0Nb0rLm",
        "outputId": "fd6e8350-6fa8-430f-a14c-50c2bcd4de0f"
      },
      "outputs": [
        {
          "data": {
            "text/html": [
              "<div>\n",
              "<style scoped>\n",
              "    .dataframe tbody tr th:only-of-type {\n",
              "        vertical-align: middle;\n",
              "    }\n",
              "\n",
              "    .dataframe tbody tr th {\n",
              "        vertical-align: top;\n",
              "    }\n",
              "\n",
              "    .dataframe thead th {\n",
              "        text-align: right;\n",
              "    }\n",
              "</style>\n",
              "<table border=\"1\" class=\"dataframe\">\n",
              "  <thead>\n",
              "    <tr style=\"text-align: right;\">\n",
              "      <th></th>\n",
              "      <th>topic_token_vector</th>\n",
              "      <th>abstract_token_vector</th>\n",
              "    </tr>\n",
              "  </thead>\n",
              "  <tbody>\n",
              "    <tr>\n",
              "      <th>0</th>\n",
              "      <td>[-0.059295654, 0.3701172, 0.18164062, 0.080078...</td>\n",
              "      <td>[-0.0262109375, 0.067783203125, 0.057729492187...</td>\n",
              "    </tr>\n",
              "    <tr>\n",
              "      <th>1</th>\n",
              "      <td>[-0.059295654, 0.3701172, 0.18164062, 0.080078...</td>\n",
              "      <td>[0.0032301683, 0.1345121, 0.02301495, 0.079566...</td>\n",
              "    </tr>\n",
              "    <tr>\n",
              "      <th>2</th>\n",
              "      <td>[-0.059295654, 0.3701172, 0.18164062, 0.080078...</td>\n",
              "      <td>[-0.07299943, 0.07993941, -0.008629539, 0.1430...</td>\n",
              "    </tr>\n",
              "    <tr>\n",
              "      <th>3</th>\n",
              "      <td>[-0.059295654, 0.3701172, 0.18164062, 0.080078...</td>\n",
              "      <td>[-0.061657716, 0.13048562, 0.021842957, 0.0477...</td>\n",
              "    </tr>\n",
              "    <tr>\n",
              "      <th>4</th>\n",
              "      <td>[-0.059295654, 0.3701172, 0.18164062, 0.080078...</td>\n",
              "      <td>[-0.0489290025499132, 0.10469743940565321, 0.0...</td>\n",
              "    </tr>\n",
              "  </tbody>\n",
              "</table>\n",
              "</div>"
            ],
            "text/plain": [
              "                                  topic_token_vector  \\\n",
              "0  [-0.059295654, 0.3701172, 0.18164062, 0.080078...   \n",
              "1  [-0.059295654, 0.3701172, 0.18164062, 0.080078...   \n",
              "2  [-0.059295654, 0.3701172, 0.18164062, 0.080078...   \n",
              "3  [-0.059295654, 0.3701172, 0.18164062, 0.080078...   \n",
              "4  [-0.059295654, 0.3701172, 0.18164062, 0.080078...   \n",
              "\n",
              "                               abstract_token_vector  \n",
              "0  [-0.0262109375, 0.067783203125, 0.057729492187...  \n",
              "1  [0.0032301683, 0.1345121, 0.02301495, 0.079566...  \n",
              "2  [-0.07299943, 0.07993941, -0.008629539, 0.1430...  \n",
              "3  [-0.061657716, 0.13048562, 0.021842957, 0.0477...  \n",
              "4  [-0.0489290025499132, 0.10469743940565321, 0.0...  "
            ]
          },
          "execution_count": 192,
          "metadata": {},
          "output_type": "execute_result"
        }
      ],
      "source": [
        "vector_data_wv.head(5)"
      ]
    },
    {
      "cell_type": "code",
      "execution_count": null,
      "metadata": {
        "id": "_9wW3I8J1FIL"
      },
      "outputs": [],
      "source": [
        "topic_vector_wv = np.vstack(vector_data_wv.topic_token_vector.values)\n",
        "abstract_vector_wv = np.vstack(vector_data_wv.abstract_token_vector.values)"
      ]
    },
    {
      "cell_type": "code",
      "execution_count": null,
      "metadata": {
        "colab": {
          "base_uri": "https://localhost:8080/"
        },
        "id": "CywV0akB2Iyz",
        "outputId": "d05c0537-5b6a-45b7-a6ec-2ee58caaf3e3"
      },
      "outputs": [
        {
          "name": "stdout",
          "output_type": "stream",
          "text": [
            "topic_vector_wv.shape (1440, 300)\n",
            "abstract_vector_wv.shape (1440, 300)\n"
          ]
        }
      ],
      "source": [
        "print('topic_vector_wv.shape',topic_vector_wv.shape)\n",
        "print('abstract_vector_wv.shape',abstract_vector_wv.shape)"
      ]
    },
    {
      "cell_type": "code",
      "execution_count": null,
      "metadata": {
        "id": "62-_20ge0zCZ"
      },
      "outputs": [],
      "source": [
        "topic_vector_wv_pca = pca.fit_transform(topic_vector_wv)\n",
        "abstract_vector_wv_pca = pca.fit_transform(abstract_vector_wv)"
      ]
    },
    {
      "cell_type": "code",
      "execution_count": null,
      "metadata": {
        "id": "gyLZNZ4M5ZTp"
      },
      "outputs": [],
      "source": [
        "data['abstract_vector_wv_pca_x'] = abstract_vector_wv_pca[:,0]\n",
        "data['abstract_vector_wv_pca_y'] = abstract_vector_wv_pca[:,1]"
      ]
    },
    {
      "cell_type": "markdown",
      "source": [
        "## Word2Vec Topic-Title embedding plot"
      ],
      "metadata": {
        "id": "vopcCamD43gS"
      }
    },
    {
      "cell_type": "code",
      "execution_count": null,
      "metadata": {
        "id": "BlWZ_YGr5ZTp",
        "outputId": "d0e33f42-5285-45e5-c581-72b2a2825d2e"
      },
      "outputs": [
        {
          "name": "stderr",
          "output_type": "stream",
          "text": [
            "C:\\Users\\Mawela\\anaconda3\\envs\\dlib\\lib\\site-packages\\pandas\\plotting\\_matplotlib\\core.py:1114: UserWarning: No data for colormapping provided via 'c'. Parameters 'cmap' will be ignored\n",
            "  scatter = ax.scatter(\n"
          ]
        },
        {
          "data": {
            "image/png": "[encoded data removed]",
            "text/plain": [
              "<Figure size 640x480 with 1 Axes>"
            ]
          },
          "metadata": {},
          "output_type": "display_data"
        }
      ],
      "source": [
        "import matplotlib.pyplot as plt\n",
        "\n",
        "colors={}\n",
        "for topic in topics:\n",
        "    colors[topic] = np.random.rand(3,)\n",
        "\n",
        "# df.plot.scatter(x='x', y='y', c=df['type'].apply(lambda x: colors[x]))\n",
        "data.plot.scatter(x='abstract_vector_wv_pca_x', y='abstract_vector_wv_pca_y', c=data['topic'].apply(lambda x: colors[x]))\n",
        "plt.scatter(topic_vector_wv_pca[:,0], topic_vector_wv_pca[:,1], c='red', alpha=0.5)\n",
        "# plt.scatter(data['abstract_vector_pca_x'], data['abstract_vector_pca_y'], c='blue', alpha=0.5)\n",
        "plt.show()"
      ]
    },
    {
      "cell_type": "markdown",
      "source": [
        "# BERT Embedding"
      ],
      "metadata": {
        "id": "PgzEvTQ95qM-"
      }
    },
    {
      "cell_type": "code",
      "execution_count": null,
      "metadata": {
        "colab": {
          "base_uri": "https://localhost:8080/"
        },
        "id": "dxI_lY-c5ZTx",
        "outputId": "beab9e26-0463-4b93-b47c-7ee4fc14b422"
      },
      "outputs": [
        {
          "output_type": "stream",
          "name": "stdout",
          "text": [
            "Looking in indexes: https://pypi.org/simple, https://us-python.pkg.dev/colab-wheels/public/simple/\n",
            "Requirement already satisfied: bert-embedding in /usr/local/lib/python3.7/dist-packages (1.0.1)\n",
            "Requirement already satisfied: numpy==1.14.6 in /usr/local/lib/python3.7/dist-packages (from bert-embedding) (1.14.6)\n",
            "Requirement already satisfied: typing==3.6.6 in /usr/local/lib/python3.7/dist-packages (from bert-embedding) (3.6.6)\n",
            "Requirement already satisfied: mxnet==1.4.0 in /usr/local/lib/python3.7/dist-packages (from bert-embedding) (1.4.0)\n",
            "Requirement already satisfied: gluonnlp==0.6.0 in /usr/local/lib/python3.7/dist-packages (from bert-embedding) (0.6.0)\n",
            "Requirement already satisfied: graphviz<0.9.0,>=0.8.1 in /usr/local/lib/python3.7/dist-packages (from mxnet==1.4.0->bert-embedding) (0.8.4)\n",
            "Requirement already satisfied: requests>=2.20.0 in /usr/local/lib/python3.7/dist-packages (from mxnet==1.4.0->bert-embedding) (2.23.0)\n",
            "Requirement already satisfied: idna<3,>=2.5 in /usr/local/lib/python3.7/dist-packages (from requests>=2.20.0->mxnet==1.4.0->bert-embedding) (2.10)\n",
            "Requirement already satisfied: certifi>=2017.4.17 in /usr/local/lib/python3.7/dist-packages (from requests>=2.20.0->mxnet==1.4.0->bert-embedding) (2022.9.24)\n",
            "Requirement already satisfied: urllib3!=1.25.0,!=1.25.1,<1.26,>=1.21.1 in /usr/local/lib/python3.7/dist-packages (from requests>=2.20.0->mxnet==1.4.0->bert-embedding) (1.24.3)\n",
            "Requirement already satisfied: chardet<4,>=3.0.2 in /usr/local/lib/python3.7/dist-packages (from requests>=2.20.0->mxnet==1.4.0->bert-embedding) (3.0.4)\n",
            "Looking in indexes: https://pypi.org/simple, https://us-python.pkg.dev/colab-wheels/public/simple/\n",
            "Requirement already satisfied: mxnet in /usr/local/lib/python3.7/dist-packages (1.4.0)\n",
            "Requirement already satisfied: graphviz<0.9.0,>=0.8.1 in /usr/local/lib/python3.7/dist-packages (from mxnet) (0.8.4)\n",
            "Requirement already satisfied: requests>=2.20.0 in /usr/local/lib/python3.7/dist-packages (from mxnet) (2.23.0)\n",
            "Requirement already satisfied: numpy<1.15.0,>=1.8.2 in /usr/local/lib/python3.7/dist-packages (from mxnet) (1.14.6)\n",
            "Requirement already satisfied: urllib3!=1.25.0,!=1.25.1,<1.26,>=1.21.1 in /usr/local/lib/python3.7/dist-packages (from requests>=2.20.0->mxnet) (1.24.3)\n",
            "Requirement already satisfied: certifi>=2017.4.17 in /usr/local/lib/python3.7/dist-packages (from requests>=2.20.0->mxnet) (2022.9.24)\n",
            "Requirement already satisfied: idna<3,>=2.5 in /usr/local/lib/python3.7/dist-packages (from requests>=2.20.0->mxnet) (2.10)\n",
            "Requirement already satisfied: chardet<4,>=3.0.2 in /usr/local/lib/python3.7/dist-packages (from requests>=2.20.0->mxnet) (3.0.4)\n"
          ]
        }
      ],
      "source": [
        "!pip install bert-embedding\n",
        "!pip install mxnet"
      ]
    },
    {
      "cell_type": "code",
      "source": [
        "!pip install mxnet-cu92"
      ],
      "metadata": {
        "colab": {
          "base_uri": "https://localhost:8080/",
          "height": 485
        },
        "id": "HmCXXVJSmpAn",
        "outputId": "c1f1c4bf-f721-4e58-bce8-6b6f25032370"
      },
      "execution_count": null,
      "outputs": [
        {
          "output_type": "stream",
          "name": "stdout",
          "text": [
            "Looking in indexes: https://pypi.org/simple, https://us-python.pkg.dev/colab-wheels/public/simple/\n",
            "Collecting mxnet-cu92\n",
            "  Downloading mxnet_cu92-1.7.0-py2.py3-none-manylinux2014_x86_64.whl (789.8 MB)\n",
            "\u001b[K     |████████████████████████████████| 789.8 MB 16 kB/s \n",
            "\u001b[?25hRequirement already satisfied: requests<3,>=2.20.0 in /usr/local/lib/python3.7/dist-packages (from mxnet-cu92) (2.23.0)\n",
            "Requirement already satisfied: graphviz<0.9.0,>=0.8.1 in /usr/local/lib/python3.7/dist-packages (from mxnet-cu92) (0.8.4)\n",
            "Collecting numpy<2.0.0,>1.16.0\n",
            "  Downloading numpy-1.21.6-cp37-cp37m-manylinux_2_12_x86_64.manylinux2010_x86_64.whl (15.7 MB)\n",
            "\u001b[K     |████████████████████████████████| 15.7 MB 48.9 MB/s \n",
            "\u001b[?25hRequirement already satisfied: chardet<4,>=3.0.2 in /usr/local/lib/python3.7/dist-packages (from requests<3,>=2.20.0->mxnet-cu92) (3.0.4)\n",
            "Requirement already satisfied: urllib3!=1.25.0,!=1.25.1,<1.26,>=1.21.1 in /usr/local/lib/python3.7/dist-packages (from requests<3,>=2.20.0->mxnet-cu92) (1.24.3)\n",
            "Requirement already satisfied: certifi>=2017.4.17 in /usr/local/lib/python3.7/dist-packages (from requests<3,>=2.20.0->mxnet-cu92) (2022.9.24)\n",
            "Requirement already satisfied: idna<3,>=2.5 in /usr/local/lib/python3.7/dist-packages (from requests<3,>=2.20.0->mxnet-cu92) (2.10)\n",
            "Installing collected packages: numpy, mxnet-cu92\n",
            "  Attempting uninstall: numpy\n",
            "    Found existing installation: numpy 1.14.6\n",
            "    Uninstalling numpy-1.14.6:\n",
            "      Successfully uninstalled numpy-1.14.6\n",
            "\u001b[31mERROR: pip's dependency resolver does not currently take into account all the packages that are installed. This behaviour is the source of the following dependency conflicts.\n",
            "mxnet 1.4.0 requires numpy<1.15.0,>=1.8.2, but you have numpy 1.21.6 which is incompatible.\n",
            "bert-embedding 1.0.1 requires numpy==1.14.6, but you have numpy 1.21.6 which is incompatible.\u001b[0m\n",
            "Successfully installed mxnet-cu92-1.7.0 numpy-1.21.6\n"
          ]
        },
        {
          "output_type": "display_data",
          "data": {
            "application/vnd.colab-display-data+json": {
              "pip_warning": {
                "packages": [
                  "mxnet",
                  "numpy"
                ]
              }
            }
          },
          "metadata": {}
        }
      ]
    },
    {
      "cell_type": "code",
      "source": [
        "!pip install transformers"
      ],
      "metadata": {
        "colab": {
          "base_uri": "https://localhost:8080/",
          "height": 728
        },
        "id": "Au_wNmXcr5eL",
        "outputId": "06cd7b69-369b-4110-903d-54823091e328"
      },
      "execution_count": null,
      "outputs": [
        {
          "output_type": "stream",
          "name": "stdout",
          "text": [
            "Looking in indexes: https://pypi.org/simple, https://us-python.pkg.dev/colab-wheels/public/simple/\n",
            "Collecting transformers\n",
            "  Downloading transformers-4.24.0-py3-none-any.whl (5.5 MB)\n",
            "\u001b[K     |████████████████████████████████| 5.5 MB 15.1 MB/s \n",
            "\u001b[?25hRequirement already satisfied: packaging>=20.0 in /usr/local/lib/python3.7/dist-packages (from transformers) (21.3)\n",
            "Collecting huggingface-hub<1.0,>=0.10.0\n",
            "  Downloading huggingface_hub-0.10.1-py3-none-any.whl (163 kB)\n",
            "\u001b[K     |████████████████████████████████| 163 kB 43.8 MB/s \n",
            "\u001b[?25hRequirement already satisfied: pyyaml>=5.1 in /usr/local/lib/python3.7/dist-packages (from transformers) (6.0)\n",
            "Requirement already satisfied: requests in /usr/local/lib/python3.7/dist-packages (from transformers) (2.23.0)\n",
            "Collecting tokenizers!=0.11.3,<0.14,>=0.11.1\n",
            "  Downloading tokenizers-0.13.1-cp37-cp37m-manylinux_2_17_x86_64.manylinux2014_x86_64.whl (7.6 MB)\n",
            "\u001b[K     |████████████████████████████████| 7.6 MB 50.3 MB/s \n",
            "\u001b[?25hRequirement already satisfied: tqdm>=4.27 in /usr/local/lib/python3.7/dist-packages (from transformers) (4.64.1)\n",
            "Collecting numpy>=1.17\n",
            "  Downloading numpy-1.21.6-cp37-cp37m-manylinux_2_12_x86_64.manylinux2010_x86_64.whl (15.7 MB)\n",
            "\u001b[K     |████████████████████████████████| 15.7 MB 47.2 MB/s \n",
            "\u001b[?25hRequirement already satisfied: regex!=2019.12.17 in /usr/local/lib/python3.7/dist-packages (from transformers) (2022.6.2)\n",
            "Requirement already satisfied: filelock in /usr/local/lib/python3.7/dist-packages (from transformers) (3.8.0)\n",
            "Requirement already satisfied: importlib-metadata in /usr/local/lib/python3.7/dist-packages (from transformers) (4.13.0)\n",
            "Requirement already satisfied: typing-extensions>=3.7.4.3 in /usr/local/lib/python3.7/dist-packages (from huggingface-hub<1.0,>=0.10.0->transformers) (4.1.1)\n",
            "Requirement already satisfied: pyparsing!=3.0.5,>=2.0.2 in /usr/local/lib/python3.7/dist-packages (from packaging>=20.0->transformers) (3.0.9)\n",
            "Requirement already satisfied: zipp>=0.5 in /usr/local/lib/python3.7/dist-packages (from importlib-metadata->transformers) (3.10.0)\n",
            "Requirement already satisfied: certifi>=2017.4.17 in /usr/local/lib/python3.7/dist-packages (from requests->transformers) (2022.9.24)\n",
            "Requirement already satisfied: idna<3,>=2.5 in /usr/local/lib/python3.7/dist-packages (from requests->transformers) (2.10)\n",
            "Requirement already satisfied: urllib3!=1.25.0,!=1.25.1,<1.26,>=1.21.1 in /usr/local/lib/python3.7/dist-packages (from requests->transformers) (1.24.3)\n",
            "Requirement already satisfied: chardet<4,>=3.0.2 in /usr/local/lib/python3.7/dist-packages (from requests->transformers) (3.0.4)\n",
            "Installing collected packages: tokenizers, numpy, huggingface-hub, transformers\n",
            "  Attempting uninstall: numpy\n",
            "    Found existing installation: numpy 1.14.6\n",
            "    Uninstalling numpy-1.14.6:\n",
            "      Successfully uninstalled numpy-1.14.6\n",
            "\u001b[31mERROR: pip's dependency resolver does not currently take into account all the packages that are installed. This behaviour is the source of the following dependency conflicts.\n",
            "mxnet 1.4.0 requires numpy<1.15.0,>=1.8.2, but you have numpy 1.21.6 which is incompatible.\n",
            "bert-embedding 1.0.1 requires numpy==1.14.6, but you have numpy 1.21.6 which is incompatible.\u001b[0m\n",
            "Successfully installed huggingface-hub-0.10.1 numpy-1.21.6 tokenizers-0.13.1 transformers-4.24.0\n"
          ]
        },
        {
          "output_type": "display_data",
          "data": {
            "application/vnd.colab-display-data+json": {
              "pip_warning": {
                "packages": [
                  "numpy"
                ]
              }
            }
          },
          "metadata": {}
        }
      ]
    },
    {
      "cell_type": "code",
      "source": [
        "!pip install sentence-transformers"
      ],
      "metadata": {
        "colab": {
          "base_uri": "https://localhost:8080/"
        },
        "id": "Jan_vv1pyNiz",
        "outputId": "deaef09b-dc48-40fd-97ad-943f9ce76928"
      },
      "execution_count": null,
      "outputs": [
        {
          "output_type": "stream",
          "name": "stdout",
          "text": [
            "Looking in indexes: https://pypi.org/simple, https://us-python.pkg.dev/colab-wheels/public/simple/\n",
            "Collecting sentence-transformers\n",
            "  Downloading sentence-transformers-2.2.2.tar.gz (85 kB)\n",
            "\u001b[K     |████████████████████████████████| 85 kB 3.9 MB/s \n",
            "\u001b[?25hRequirement already satisfied: transformers<5.0.0,>=4.6.0 in /usr/local/lib/python3.7/dist-packages (from sentence-transformers) (4.24.0)\n",
            "Requirement already satisfied: tqdm in /usr/local/lib/python3.7/dist-packages (from sentence-transformers) (4.64.1)\n",
            "Requirement already satisfied: torch>=1.6.0 in /usr/local/lib/python3.7/dist-packages (from sentence-transformers) (1.12.1+cu113)\n",
            "Requirement already satisfied: torchvision in /usr/local/lib/python3.7/dist-packages (from sentence-transformers) (0.13.1+cu113)\n",
            "Requirement already satisfied: numpy in /usr/local/lib/python3.7/dist-packages (from sentence-transformers) (1.21.6)\n",
            "Requirement already satisfied: scikit-learn in /usr/local/lib/python3.7/dist-packages (from sentence-transformers) (1.0.2)\n",
            "Requirement already satisfied: scipy in /usr/local/lib/python3.7/dist-packages (from sentence-transformers) (1.7.3)\n",
            "Requirement already satisfied: nltk in /usr/local/lib/python3.7/dist-packages (from sentence-transformers) (3.7)\n",
            "Collecting sentencepiece\n",
            "  Downloading sentencepiece-0.1.97-cp37-cp37m-manylinux_2_17_x86_64.manylinux2014_x86_64.whl (1.3 MB)\n",
            "\u001b[K     |████████████████████████████████| 1.3 MB 33.8 MB/s \n",
            "\u001b[?25hRequirement already satisfied: huggingface-hub>=0.4.0 in /usr/local/lib/python3.7/dist-packages (from sentence-transformers) (0.10.1)\n",
            "Requirement already satisfied: packaging>=20.9 in /usr/local/lib/python3.7/dist-packages (from huggingface-hub>=0.4.0->sentence-transformers) (21.3)\n",
            "Requirement already satisfied: typing-extensions>=3.7.4.3 in /usr/local/lib/python3.7/dist-packages (from huggingface-hub>=0.4.0->sentence-transformers) (4.1.1)\n",
            "Requirement already satisfied: pyyaml>=5.1 in /usr/local/lib/python3.7/dist-packages (from huggingface-hub>=0.4.0->sentence-transformers) (6.0)\n",
            "Requirement already satisfied: importlib-metadata in /usr/local/lib/python3.7/dist-packages (from huggingface-hub>=0.4.0->sentence-transformers) (4.13.0)\n",
            "Requirement already satisfied: filelock in /usr/local/lib/python3.7/dist-packages (from huggingface-hub>=0.4.0->sentence-transformers) (3.8.0)\n",
            "Requirement already satisfied: requests in /usr/local/lib/python3.7/dist-packages (from huggingface-hub>=0.4.0->sentence-transformers) (2.23.0)\n",
            "Requirement already satisfied: pyparsing!=3.0.5,>=2.0.2 in /usr/local/lib/python3.7/dist-packages (from packaging>=20.9->huggingface-hub>=0.4.0->sentence-transformers) (3.0.9)\n",
            "Requirement already satisfied: tokenizers!=0.11.3,<0.14,>=0.11.1 in /usr/local/lib/python3.7/dist-packages (from transformers<5.0.0,>=4.6.0->sentence-transformers) (0.13.1)\n",
            "Requirement already satisfied: regex!=2019.12.17 in /usr/local/lib/python3.7/dist-packages (from transformers<5.0.0,>=4.6.0->sentence-transformers) (2022.6.2)\n",
            "Requirement already satisfied: zipp>=0.5 in /usr/local/lib/python3.7/dist-packages (from importlib-metadata->huggingface-hub>=0.4.0->sentence-transformers) (3.10.0)\n",
            "Requirement already satisfied: click in /usr/local/lib/python3.7/dist-packages (from nltk->sentence-transformers) (7.1.2)\n",
            "Requirement already satisfied: joblib in /usr/local/lib/python3.7/dist-packages (from nltk->sentence-transformers) (1.2.0)\n",
            "Requirement already satisfied: chardet<4,>=3.0.2 in /usr/local/lib/python3.7/dist-packages (from requests->huggingface-hub>=0.4.0->sentence-transformers) (3.0.4)\n",
            "Requirement already satisfied: urllib3!=1.25.0,!=1.25.1,<1.26,>=1.21.1 in /usr/local/lib/python3.7/dist-packages (from requests->huggingface-hub>=0.4.0->sentence-transformers) (1.24.3)\n",
            "Requirement already satisfied: certifi>=2017.4.17 in /usr/local/lib/python3.7/dist-packages (from requests->huggingface-hub>=0.4.0->sentence-transformers) (2022.9.24)\n",
            "Requirement already satisfied: idna<3,>=2.5 in /usr/local/lib/python3.7/dist-packages (from requests->huggingface-hub>=0.4.0->sentence-transformers) (2.10)\n",
            "Requirement already satisfied: threadpoolctl>=2.0.0 in /usr/local/lib/python3.7/dist-packages (from scikit-learn->sentence-transformers) (3.1.0)\n",
            "Requirement already satisfied: pillow!=8.3.*,>=5.3.0 in /usr/local/lib/python3.7/dist-packages (from torchvision->sentence-transformers) (7.1.2)\n",
            "Building wheels for collected packages: sentence-transformers\n",
            "  Building wheel for sentence-transformers (setup.py) ... \u001b[?25l\u001b[?25hdone\n",
            "  Created wheel for sentence-transformers: filename=sentence_transformers-2.2.2-py3-none-any.whl size=125938 sha256=0deddd88b6ff71746f16841715a2a23a4a47f5f697d1638927a1e67be24dfc85\n",
            "  Stored in directory: /root/.cache/pip/wheels/bf/06/fb/d59c1e5bd1dac7f6cf61ec0036cc3a10ab8fecaa6b2c3d3ee9\n",
            "Successfully built sentence-transformers\n",
            "Installing collected packages: sentencepiece, sentence-transformers\n",
            "Successfully installed sentence-transformers-2.2.2 sentencepiece-0.1.97\n"
          ]
        }
      ]
    },
    {
      "cell_type": "code",
      "source": [
        "from sentence_transformers import SentenceTransformer\n",
        "model = SentenceTransformer('bert-base-uncased')"
      ],
      "metadata": {
        "colab": {
          "base_uri": "https://localhost:8080/",
          "height": 362,
          "referenced_widgets": [
            "03ed8b2327ef41379da4616163050e0f",
            "b0fa6e7a374e49b7a219cf40438953c4",
            "5bd0cbc210954a9eb1b310f74abe7680",
            "1de3d3f617ea43c89e8d5fdd1b7a0cb9",
            "065ecb9ec7914756b388e0b1ab0e2081",
            "096cbbc45d9643b594a5d44839e1fe36",
            "3ac950c2ff33417ca1ca1dabff5e9811",
            "8068d4b4cabc4681b7d5810cb46c9055",
            "0dae86ae3ee24e8f8a82907fe0f0571c",
            "b8cc7bb8ce584e58b91c2e99c480ebd0",
            "6f8057fe9e0b4736b7d5d2c32b0e6fdf",
            "ddd2fd9eb4e848e3a4fb2ec293d38e04",
            "7e32813214b3403c9f74c41c7eb06529",
            "5b2dd62e85d147ef863d8873d7c868b1",
            "b0305935968949839f5a3f38884bfbe8",
            "b3a71210ef874ba48d4050f39c9fefb8",
            "b2e05cc49f1348aea2d6dde31f91dfb8",
            "4a4b35f1afa74d46b1d2d68d527e07c3",
            "65aea0205f384910b8870fbb6b6bb5c4",
            "e602318826e44402b3682f8b5d882fe1",
            "2f5301bfeca544dbb49ce6ca183d6ebd",
            "24581057875941b69793400bc868b398",
            "0338d6ffdcc4478ca60c2d9b6ea470c6",
            "bbb8c3c4e82648f4929c9126f09d1bba",
            "cbc4f865d89d4765aac538c9f7d50a5d",
            "7bc4b46bc0fd40f592a785868e5e6796",
            "c67eba62df6c419096e81bf6d5207156",
            "bd59c35d79d546549587a83ebef24725",
            "3a9ef12bc49b423ebf18912ca8d5eb30",
            "07ae4e5563494d4797c1741d2b25720a",
            "dbda5bb6194641b5bad04dac2af2187b",
            "0c36bad699a54522bc009d6e9e15e7ac",
            "e5509efbc89c43ecbbb84c890f0cc65f",
            "6d7c6fd661154c0dba8a141ded271a7c",
            "e74b360fc229406c8a84153f8300170e",
            "ec3b975ebbf24bfe8ccce3641ed7a802",
            "bea75e87c6d546399fe323607f9461d9",
            "8817c034e3a841d486ea2de5e8f51012",
            "bf5d1d5853c44544af8f12e62f520c66",
            "38d7191d3b1b482883dd7fd48504000a",
            "abc5d1125c104e08a4a0b78ef79b1cfa",
            "1606644a17ad44e3b88ee294ddb9fe48",
            "2224fe96fc6f44c8ad8d0e9f620c8f10",
            "7676f349570c418f866d4865df7afa92",
            "48e9279333b34f7684055e30d9920a5f",
            "af273023043c4591baa083ac3d660024",
            "d215ff85f64e4601a886d589ba4fe94d",
            "d9e10357e6274e8ab92186e1f282c9a6",
            "9d346217e3754ad18aebb9bc189c1311",
            "57726600c75f4820bbfd2a840499c87c",
            "cf45250acf8440e39047af4eb3a5e8f3",
            "665ac2f3c4754374b57348c53decfae1",
            "4780be94ec2a4860b1ebb9d7ce8c7e15",
            "0127f4654c864dbba410ecceb36f2872",
            "458e5c3a2b2b41a89a2773e52eb8e11a",
            "c17ecc5813984a4f80dd3cd6f41a0ab5",
            "3b3684573fbc4e7997ac01ce2c8eaea6",
            "2da9a71af1674c679f8a358ae08e6337",
            "c8b9f34e59634060bd6e4c075d50faa3",
            "f9294f57f4b04614b4c94129c8b55277",
            "457969b55a1b4938aeec8848572acd0e",
            "56e2e468a1f2472088ca0568732ee365",
            "1521e2cdacac495d8c12b8317204b39e",
            "05e98f71a1a34adc822115950953d4b6",
            "0917d9b7996d406cb8bd62d7887644c0",
            "431afa3e184f41a4a2f16fac80905c48",
            "c11ec35e94e14643bb6b236dbd19a09e",
            "f5f2685ff7dd4e20bcf4bcf866aa1bab",
            "19d2a0125ddb44c59b69b000072ddbd4",
            "c28c38ce77f7444c8a9438cc8c0ed410",
            "db2941669e9b40f186fd130ef4e1fd53",
            "eef30edbcbe74f2ca57b10415ff5368a",
            "2470e83fee9b49c3bc96ee3a5418c414",
            "cfc287c5bf9241bda73f5a92acb4c5ad",
            "1750b4ca7142494eb06943248249e98f",
            "f2f75dae02c4477cbf323512abb7ca3d",
            "97c717e14b8944ef8b4e36d7b27ee733",
            "496cd8c2abbd43dc91ff82a5b46ff31e",
            "ad90c2e011394c91a5f153900b56802c",
            "5e7406c8b78f442eac3f29969bfcdcfb",
            "251e80d9e6b647b8b8473c433da261a3",
            "e526116a6931475294841ae8c0b677bb",
            "cc0f630b8000472ca5eaf6b57cb87e98",
            "d22a40ee34d14a90b3eb2d8d4ba62227",
            "1cf55bf7416342e0964e37fc2a3bb593",
            "a6a940b750fb40fba3c66327cea3e5ed",
            "2ab9b5b32ade488297f1fa2dbb9421ff",
            "99aaf15d575e411590ae626e8feab6aa"
          ]
        },
        "id": "dR5tSEIJyeW5",
        "outputId": "3a920449-6ca4-4899-80e4-df1148dd8d88"
      },
      "execution_count": null,
      "outputs": [
        {
          "output_type": "display_data",
          "data": {
            "text/plain": [
              "Downloading:   0%|          | 0.00/437 [00:00<?, ?B/s]"
            ],
            "application/vnd.jupyter.widget-view+json": {
              "version_major": 2,
              "version_minor": 0,
              "model_id": "03ed8b2327ef41379da4616163050e0f"
            }
          },
          "metadata": {}
        },
        {
          "output_type": "display_data",
          "data": {
            "text/plain": [
              "Downloading:   0%|          | 0.00/11.4k [00:00<?, ?B/s]"
            ],
            "application/vnd.jupyter.widget-view+json": {
              "version_major": 2,
              "version_minor": 0,
              "model_id": "ddd2fd9eb4e848e3a4fb2ec293d38e04"
            }
          },
          "metadata": {}
        },
        {
          "output_type": "display_data",
          "data": {
            "text/plain": [
              "Downloading:   0%|          | 0.00/10.5k [00:00<?, ?B/s]"
            ],
            "application/vnd.jupyter.widget-view+json": {
              "version_major": 2,
              "version_minor": 0,
              "model_id": "0338d6ffdcc4478ca60c2d9b6ea470c6"
            }
          },
          "metadata": {}
        },
        {
          "output_type": "display_data",
          "data": {
            "text/plain": [
              "Downloading:   0%|          | 0.00/570 [00:00<?, ?B/s]"
            ],
            "application/vnd.jupyter.widget-view+json": {
              "version_major": 2,
              "version_minor": 0,
              "model_id": "6d7c6fd661154c0dba8a141ded271a7c"
            }
          },
          "metadata": {}
        },
        {
          "output_type": "display_data",
          "data": {
            "text/plain": [
              "Downloading:   0%|          | 0.00/440M [00:00<?, ?B/s]"
            ],
            "application/vnd.jupyter.widget-view+json": {
              "version_major": 2,
              "version_minor": 0,
              "model_id": "48e9279333b34f7684055e30d9920a5f"
            }
          },
          "metadata": {}
        },
        {
          "output_type": "display_data",
          "data": {
            "text/plain": [
              "Downloading:   0%|          | 0.00/466k [00:00<?, ?B/s]"
            ],
            "application/vnd.jupyter.widget-view+json": {
              "version_major": 2,
              "version_minor": 0,
              "model_id": "c17ecc5813984a4f80dd3cd6f41a0ab5"
            }
          },
          "metadata": {}
        },
        {
          "output_type": "display_data",
          "data": {
            "text/plain": [
              "Downloading:   0%|          | 0.00/28.0 [00:00<?, ?B/s]"
            ],
            "application/vnd.jupyter.widget-view+json": {
              "version_major": 2,
              "version_minor": 0,
              "model_id": "c11ec35e94e14643bb6b236dbd19a09e"
            }
          },
          "metadata": {}
        },
        {
          "output_type": "display_data",
          "data": {
            "text/plain": [
              "Downloading:   0%|          | 0.00/232k [00:00<?, ?B/s]"
            ],
            "application/vnd.jupyter.widget-view+json": {
              "version_major": 2,
              "version_minor": 0,
              "model_id": "496cd8c2abbd43dc91ff82a5b46ff31e"
            }
          },
          "metadata": {}
        },
        {
          "output_type": "stream",
          "name": "stderr",
          "text": [
            "WARNING:sentence_transformers.SentenceTransformer:No sentence-transformers model found with name /root/.cache/torch/sentence_transformers/bert-base-uncased. Creating a new one with MEAN pooling.\n",
            "Some weights of the model checkpoint at /root/.cache/torch/sentence_transformers/bert-base-uncased were not used when initializing BertModel: ['cls.seq_relationship.weight', 'cls.predictions.transform.LayerNorm.bias', 'cls.predictions.bias', 'cls.predictions.transform.dense.weight', 'cls.predictions.decoder.weight', 'cls.seq_relationship.bias', 'cls.predictions.transform.LayerNorm.weight', 'cls.predictions.transform.dense.bias']\n",
            "- This IS expected if you are initializing BertModel from the checkpoint of a model trained on another task or with another architecture (e.g. initializing a BertForSequenceClassification model from a BertForPreTraining model).\n",
            "- This IS NOT expected if you are initializing BertModel from the checkpoint of a model that you expect to be exactly identical (initializing a BertForSequenceClassification model from a BertForSequenceClassification model).\n"
          ]
        }
      ]
    },
    {
      "cell_type": "code",
      "source": [
        "data['abstract_vector_bert'] = data['abstract_cleaned'].apply(model.encode)\n",
        "data['topic_vector_bert'] = data['topic_cleaned'].apply(model.encode)"
      ],
      "metadata": {
        "id": "PaPf0HUPX-xD"
      },
      "execution_count": null,
      "outputs": []
    },
    {
      "cell_type": "code",
      "source": [
        "data.head(5)"
      ],
      "metadata": {
        "colab": {
          "base_uri": "https://localhost:8080/",
          "height": 476
        },
        "id": "ovyNGSgWI6sW",
        "outputId": "e8372c20-9448-4da6-e6ad-01e5493ff6ca"
      },
      "execution_count": null,
      "outputs": [
        {
          "output_type": "execute_result",
          "data": {
            "text/plain": [
              "            topic                                              title  \\\n",
              "0  Breast Imaging  A Pilot Study to Assess the Performance of Pha...   \n",
              "1  Breast Imaging  The Digital Divide in Radiology: Computer Use ...   \n",
              "2  Breast Imaging  Association of Longitudinal Mammographic Breas...   \n",
              "3  Breast Imaging  Background Parenchymal Enhancement at Postoper...   \n",
              "4  Breast Imaging  Prospective Evaluation of Ultrafast Breast MRI...   \n",
              "\n",
              "                                             authors  \\\n",
              "0  Laurie L. Fajardo Stephen L. Hillis Bin Zheng ...   \n",
              "1  Peter Abraham Patricia Balthazar Nicholas Jame...   \n",
              "2  Thi Xuan Mai Tran Soyeoun Kim Huiyeon Song Eun...   \n",
              "3  Su Hyun Lee Myoung-jin Jang Heera Yoen Youkyou...   \n",
              "4  Toulsie Ramtohul Clara Tescher Pauline Vaflard...   \n",
              "\n",
              "                                            abstract  \\\n",
              "0  In this pilot study for an inline phase-sensit...   \n",
              "1  Reliance on digital patient portals and online...   \n",
              "2  In premenopausal and postmenopausal women unde...   \n",
              "3  Background parenchymal enhancement assessed at...   \n",
              "4  The wash-in slope derived from initial ultrafa...   \n",
              "\n",
              "                                      title_abstract   topic_cleaned  \\\n",
              "0  A Pilot Study to Assess the Performance of Pha...  breast imaging   \n",
              "1  The Digital Divide in Radiology: Computer Use ...  breast imaging   \n",
              "2  Association of Longitudinal Mammographic Breas...  breast imaging   \n",
              "3  Background Parenchymal Enhancement at Postoper...  breast imaging   \n",
              "4  Prospective Evaluation of Ultrafast Breast MRI...  breast imaging   \n",
              "\n",
              "                                    abstract_cleaned  \\\n",
              "0  pilot study inline phasesensitive breast tomos...   \n",
              "1  reliance digital patient portals online schedu...   \n",
              "2  premenopausal postmenopausal women undergoing ...   \n",
              "3  background parenchymal enhancement assessed po...   \n",
              "4  washin slope derived initial ultrafast breast ...   \n",
              "\n",
              "                                       title_cleaned  \\\n",
              "0  pilot study assess performance phasesensitive ...   \n",
              "1  digital divide radiology use health carerelate...   \n",
              "2  association longitudinal mammographic breast d...   \n",
              "3  background parenchymal enhancement postoperati...   \n",
              "4  prospective evaluation ultrafast breast mri pr...   \n",
              "\n",
              "                                abstract_vector_bert  \\\n",
              "0  [-0.055684954, 0.033963453, 0.29677433, 0.0364...   \n",
              "1  [-0.007461858, 0.11477945, 0.19709381, 0.01177...   \n",
              "2  [-0.22907412, 0.11268088, 0.12304842, -0.19150...   \n",
              "3  [0.093761645, -0.04435665, -0.02177887, -0.240...   \n",
              "4  [-0.35419437, -0.09244561, 0.028805058, -0.217...   \n",
              "\n",
              "                                   topic_vector_bert  \n",
              "0  [0.05703056, -0.15678297, -0.728428, -0.485479...  \n",
              "1  [0.05703056, -0.15678297, -0.728428, -0.485479...  \n",
              "2  [0.05703056, -0.15678297, -0.728428, -0.485479...  \n",
              "3  [0.05703056, -0.15678297, -0.728428, -0.485479...  \n",
              "4  [0.05703056, -0.15678297, -0.728428, -0.485479...  "
            ],
            "text/html": [
              "\n",
              "  <div id=\"df-d03aac53-6edb-48e5-b86b-704beeb2c879\">\n",
              "    <div class=\"colab-df-container\">\n",
              "      <div>\n",
              "<style scoped>\n",
              "    .dataframe tbody tr th:only-of-type {\n",
              "        vertical-align: middle;\n",
              "    }\n",
              "\n",
              "    .dataframe tbody tr th {\n",
              "        vertical-align: top;\n",
              "    }\n",
              "\n",
              "    .dataframe thead th {\n",
              "        text-align: right;\n",
              "    }\n",
              "</style>\n",
              "<table border=\"1\" class=\"dataframe\">\n",
              "  <thead>\n",
              "    <tr style=\"text-align: right;\">\n",
              "      <th></th>\n",
              "      <th>topic</th>\n",
              "      <th>title</th>\n",
              "      <th>authors</th>\n",
              "      <th>abstract</th>\n",
              "      <th>title_abstract</th>\n",
              "      <th>topic_cleaned</th>\n",
              "      <th>abstract_cleaned</th>\n",
              "      <th>title_cleaned</th>\n",
              "      <th>abstract_vector_bert</th>\n",
              "      <th>topic_vector_bert</th>\n",
              "    </tr>\n",
              "  </thead>\n",
              "  <tbody>\n",
              "    <tr>\n",
              "      <th>0</th>\n",
              "      <td>Breast Imaging</td>\n",
              "      <td>A Pilot Study to Assess the Performance of Pha...</td>\n",
              "      <td>Laurie L. Fajardo Stephen L. Hillis Bin Zheng ...</td>\n",
              "      <td>In this pilot study for an inline phase-sensit...</td>\n",
              "      <td>A Pilot Study to Assess the Performance of Pha...</td>\n",
              "      <td>breast imaging</td>\n",
              "      <td>pilot study inline phasesensitive breast tomos...</td>\n",
              "      <td>pilot study assess performance phasesensitive ...</td>\n",
              "      <td>[-0.055684954, 0.033963453, 0.29677433, 0.0364...</td>\n",
              "      <td>[0.05703056, -0.15678297, -0.728428, -0.485479...</td>\n",
              "    </tr>\n",
              "    <tr>\n",
              "      <th>1</th>\n",
              "      <td>Breast Imaging</td>\n",
              "      <td>The Digital Divide in Radiology: Computer Use ...</td>\n",
              "      <td>Peter Abraham Patricia Balthazar Nicholas Jame...</td>\n",
              "      <td>Reliance on digital patient portals and online...</td>\n",
              "      <td>The Digital Divide in Radiology: Computer Use ...</td>\n",
              "      <td>breast imaging</td>\n",
              "      <td>reliance digital patient portals online schedu...</td>\n",
              "      <td>digital divide radiology use health carerelate...</td>\n",
              "      <td>[-0.007461858, 0.11477945, 0.19709381, 0.01177...</td>\n",
              "      <td>[0.05703056, -0.15678297, -0.728428, -0.485479...</td>\n",
              "    </tr>\n",
              "    <tr>\n",
              "      <th>2</th>\n",
              "      <td>Breast Imaging</td>\n",
              "      <td>Association of Longitudinal Mammographic Breas...</td>\n",
              "      <td>Thi Xuan Mai Tran Soyeoun Kim Huiyeon Song Eun...</td>\n",
              "      <td>In premenopausal and postmenopausal women unde...</td>\n",
              "      <td>Association of Longitudinal Mammographic Breas...</td>\n",
              "      <td>breast imaging</td>\n",
              "      <td>premenopausal postmenopausal women undergoing ...</td>\n",
              "      <td>association longitudinal mammographic breast d...</td>\n",
              "      <td>[-0.22907412, 0.11268088, 0.12304842, -0.19150...</td>\n",
              "      <td>[0.05703056, -0.15678297, -0.728428, -0.485479...</td>\n",
              "    </tr>\n",
              "    <tr>\n",
              "      <th>3</th>\n",
              "      <td>Breast Imaging</td>\n",
              "      <td>Background Parenchymal Enhancement at Postoper...</td>\n",
              "      <td>Su Hyun Lee Myoung-jin Jang Heera Yoen Youkyou...</td>\n",
              "      <td>Background parenchymal enhancement assessed at...</td>\n",
              "      <td>Background Parenchymal Enhancement at Postoper...</td>\n",
              "      <td>breast imaging</td>\n",
              "      <td>background parenchymal enhancement assessed po...</td>\n",
              "      <td>background parenchymal enhancement postoperati...</td>\n",
              "      <td>[0.093761645, -0.04435665, -0.02177887, -0.240...</td>\n",
              "      <td>[0.05703056, -0.15678297, -0.728428, -0.485479...</td>\n",
              "    </tr>\n",
              "    <tr>\n",
              "      <th>4</th>\n",
              "      <td>Breast Imaging</td>\n",
              "      <td>Prospective Evaluation of Ultrafast Breast MRI...</td>\n",
              "      <td>Toulsie Ramtohul Clara Tescher Pauline Vaflard...</td>\n",
              "      <td>The wash-in slope derived from initial ultrafa...</td>\n",
              "      <td>Prospective Evaluation of Ultrafast Breast MRI...</td>\n",
              "      <td>breast imaging</td>\n",
              "      <td>washin slope derived initial ultrafast breast ...</td>\n",
              "      <td>prospective evaluation ultrafast breast mri pr...</td>\n",
              "      <td>[-0.35419437, -0.09244561, 0.028805058, -0.217...</td>\n",
              "      <td>[0.05703056, -0.15678297, -0.728428, -0.485479...</td>\n",
              "    </tr>\n",
              "  </tbody>\n",
              "</table>\n",
              "</div>\n",
              "      <button class=\"colab-df-convert\" onclick=\"convertToInteractive('df-d03aac53-6edb-48e5-b86b-704beeb2c879')\"\n",
              "              title=\"Convert this dataframe to an interactive table.\"\n",
              "              style=\"display:none;\">\n",
              "        \n",
              "  <svg xmlns=\"http://www.w3.org/2000/svg\" height=\"24px\"viewBox=\"0 0 24 24\"\n",
              "       width=\"24px\">\n",
              "    <path d=\"M0 0h24v24H0V0z\" fill=\"none\"/>\n",
              "    <path d=\"M18.56 5.44l.94 2.06.94-2.06 2.06-.94-2.06-.94-.94-2.06-.94 2.06-2.06.94zm-11 1L8.5 8.5l.94-2.06 2.06-.94-2.06-.94L8.5 2.5l-.94 2.06-2.06.94zm10 10l.94 2.06.94-2.06 2.06-.94-2.06-.94-.94-2.06-.94 2.06-2.06.94z\"/><path d=\"M17.41 7.96l-1.37-1.37c-.4-.4-.92-.59-1.43-.59-.52 0-1.04.2-1.43.59L10.3 9.45l-7.72 7.72c-.78.78-.78 2.05 0 2.83L4 21.41c.39.39.9.59 1.41.59.51 0 1.02-.2 1.41-.59l7.78-7.78 2.81-2.81c.8-.78.8-2.07 0-2.86zM5.41 20L4 18.59l7.72-7.72 1.47 1.35L5.41 20z\"/>\n",
              "  </svg>\n",
              "      </button>\n",
              "      \n",
              "  <style>\n",
              "    .colab-df-container {\n",
              "      display:flex;\n",
              "      flex-wrap:wrap;\n",
              "      gap: 12px;\n",
              "    }\n",
              "\n",
              "    .colab-df-convert {\n",
              "      background-color: #E8F0FE;\n",
              "      border: none;\n",
              "      border-radius: 50%;\n",
              "      cursor: pointer;\n",
              "      display: none;\n",
              "      fill: #1967D2;\n",
              "      height: 32px;\n",
              "      padding: 0 0 0 0;\n",
              "      width: 32px;\n",
              "    }\n",
              "\n",
              "    .colab-df-convert:hover {\n",
              "      background-color: #E2EBFA;\n",
              "      box-shadow: 0px 1px 2px rgba(60, 64, 67, 0.3), 0px 1px 3px 1px rgba(60, 64, 67, 0.15);\n",
              "      fill: #174EA6;\n",
              "    }\n",
              "\n",
              "    [theme=dark] .colab-df-convert {\n",
              "      background-color: #3B4455;\n",
              "      fill: #D2E3FC;\n",
              "    }\n",
              "\n",
              "    [theme=dark] .colab-df-convert:hover {\n",
              "      background-color: #434B5C;\n",
              "      box-shadow: 0px 1px 3px 1px rgba(0, 0, 0, 0.15);\n",
              "      filter: drop-shadow(0px 1px 2px rgba(0, 0, 0, 0.3));\n",
              "      fill: #FFFFFF;\n",
              "    }\n",
              "  </style>\n",
              "\n",
              "      <script>\n",
              "        const buttonEl =\n",
              "          document.querySelector('#df-d03aac53-6edb-48e5-b86b-704beeb2c879 button.colab-df-convert');\n",
              "        buttonEl.style.display =\n",
              "          google.colab.kernel.accessAllowed ? 'block' : 'none';\n",
              "\n",
              "        async function convertToInteractive(key) {\n",
              "          const element = document.querySelector('#df-d03aac53-6edb-48e5-b86b-704beeb2c879');\n",
              "          const dataTable =\n",
              "            await google.colab.kernel.invokeFunction('convertToInteractive',\n",
              "                                                     [key], {});\n",
              "          if (!dataTable) return;\n",
              "\n",
              "          const docLinkHtml = 'Like what you see? Visit the ' +\n",
              "            '<a target=\"_blank\" href=https://colab.research.google.com/notebooks/data_table.ipynb>data table notebook</a>'\n",
              "            + ' to learn more about interactive tables.';\n",
              "          element.innerHTML = '';\n",
              "          dataTable['output_type'] = 'display_data';\n",
              "          await google.colab.output.renderOutput(dataTable, element);\n",
              "          const docLink = document.createElement('div');\n",
              "          docLink.innerHTML = docLinkHtml;\n",
              "          element.appendChild(docLink);\n",
              "        }\n",
              "      </script>\n",
              "    </div>\n",
              "  </div>\n",
              "  "
            ]
          },
          "metadata": {},
          "execution_count": 25
        }
      ]
    },
    {
      "cell_type": "code",
      "source": [
        "topic_vector_bert = np.vstack(data.topic_vector_bert.values)\n",
        "abstract_vector_bert = np.vstack(data.abstract_vector_bert.values)"
      ],
      "metadata": {
        "id": "7ZBP-IvJJjZL"
      },
      "execution_count": null,
      "outputs": []
    },
    {
      "cell_type": "code",
      "source": [
        "topic_vector_bert.shape"
      ],
      "metadata": {
        "colab": {
          "base_uri": "https://localhost:8080/"
        },
        "id": "KxX8ZltYKQ1C",
        "outputId": "ea635dda-0c41-4f3d-af5f-8258f257af39"
      },
      "execution_count": null,
      "outputs": [
        {
          "output_type": "execute_result",
          "data": {
            "text/plain": [
              "(1440, 768)"
            ]
          },
          "metadata": {},
          "execution_count": 33
        }
      ]
    },
    {
      "cell_type": "code",
      "source": [
        "topic_vector_pca_bert = pca.fit_transform(topic_vector_bert)\n",
        "abstract_vector_pca_bert = pca.fit_transform(abstract_vector_bert)"
      ],
      "metadata": {
        "id": "wkQmlLpbJVXL"
      },
      "execution_count": null,
      "outputs": []
    },
    {
      "cell_type": "code",
      "source": [
        "print(\"topic_vector_pca_bert\",topic_vector_pca_bert.shape)\n",
        "print(\"abstract_vector_pca_bert\",abstract_vector_pca_bert.shape)"
      ],
      "metadata": {
        "colab": {
          "base_uri": "https://localhost:8080/"
        },
        "id": "pHvqoPppJ6QS",
        "outputId": "ef768b9f-b6f8-47e0-c93f-f55ddd397fa7"
      },
      "execution_count": null,
      "outputs": [
        {
          "output_type": "stream",
          "name": "stdout",
          "text": [
            "topic_vector_pca_bert (1440, 2)\n",
            "abstract_vector_pca_bert (1440, 2)\n"
          ]
        }
      ]
    },
    {
      "cell_type": "code",
      "source": [
        "data['abstract_vector_pca_bert_x'] = abstract_vector_pca_bert[:,0]\n",
        "data['abstract_vector_pca_bert_y'] = abstract_vector_pca_bert[:,1]"
      ],
      "metadata": {
        "id": "Iw8qQUzzKn7S"
      },
      "execution_count": null,
      "outputs": []
    },
    {
      "cell_type": "markdown",
      "source": [
        "## BERT Embedding Topic-Abstract plot"
      ],
      "metadata": {
        "id": "l5cZ05tT5z6o"
      }
    },
    {
      "cell_type": "code",
      "source": [
        "import matplotlib.pyplot as plt\n",
        "colors={}\n",
        "for topic in topics:\n",
        "    colors[topic] = np.random.rand(3,)\n",
        "\n",
        "# df.plot.scatter(x='x', y='y', c=df['type'].apply(lambda x: colors[x]))\n",
        "data.plot.scatter(x='abstract_vector_pca_bert_x', y='abstract_vector_pca_bert_y', c=data['topic'].apply(lambda x: colors[x]))\n",
        "plt.scatter(topic_vector_pca_bert[:,0], topic_vector_pca_bert[:,1],s=10*4, c='red', alpha=0.5)\n",
        "# plt.scatter(data['abstract_vector_pca_x'], data['abstract_vector_pca_y'], c='blue', alpha=0.5)\n",
        "plt.show()"
      ],
      "metadata": {
        "colab": {
          "base_uri": "https://localhost:8080/",
          "height": 280
        },
        "id": "4UTZeAMkKmeC",
        "outputId": "69aa466d-a97a-4da9-e235-4c0048870daf"
      },
      "execution_count": null,
      "outputs": [
        {
          "output_type": "display_data",
          "data": {
            "text/plain": [
              "<Figure size 432x288 with 1 Axes>"
            ],
            "image/png": "[encoded data removed]"
          },
          "metadata": {
            "needs_background": "light"
          }
        }
      ]
    }
  ],
  "metadata": {
    "colab": {
      "collapsed_sections": [],
      "provenance": []
    },
    "kernelspec": {
      "display_name": "Python 3 (ipykernel)",
      "language": "python",
      "name": "python3"
    },
    "language_info": {
      "codemirror_mode": {
        "name": "ipython",
        "version": 3
      },
      "file_extension": ".py",
      "mimetype": "text/x-python",
      "name": "python",
      "nbconvert_exporter": "python",
      "pygments_lexer": "ipython3",
      "version": "3.9.13"
    },
    "gpuClass": "standard",
    "widgets": {
      "application/vnd.jupyter.widget-state+json": {
        "03ed8b2327ef41379da4616163050e0f": {
          "model_module": "@jupyter-widgets/controls",
          "model_name": "HBoxModel",
          "model_module_version": "1.5.0",
          "state": {
            "_dom_classes": [],
            "_model_module": "@jupyter-widgets/controls",
            "_model_module_version": "1.5.0",
            "_model_name": "HBoxModel",
            "_view_count": null,
            "_view_module": "@jupyter-widgets/controls",
            "_view_module_version": "1.5.0",
            "_view_name": "HBoxView",
            "box_style": "",
            "children": [
              "IPY_MODEL_b0fa6e7a374e49b7a219cf40438953c4",
              "IPY_MODEL_5bd0cbc210954a9eb1b310f74abe7680",
              "IPY_MODEL_1de3d3f617ea43c89e8d5fdd1b7a0cb9"
            ],
            "layout": "IPY_MODEL_065ecb9ec7914756b388e0b1ab0e2081"
          }
        },
        "b0fa6e7a374e49b7a219cf40438953c4": {
          "model_module": "@jupyter-widgets/controls",
          "model_name": "HTMLModel",
          "model_module_version": "1.5.0",
          "state": {
            "_dom_classes": [],
            "_model_module": "@jupyter-widgets/controls",
            "_model_module_version": "1.5.0",
            "_model_name": "HTMLModel",
            "_view_count": null,
            "_view_module": "@jupyter-widgets/controls",
            "_view_module_version": "1.5.0",
            "_view_name": "HTMLView",
            "description": "",
            "description_tooltip": null,
            "layout": "IPY_MODEL_096cbbc45d9643b594a5d44839e1fe36",
            "placeholder": "​",
            "style": "IPY_MODEL_3ac950c2ff33417ca1ca1dabff5e9811",
            "value": "Downloading: 100%"
          }
        },
        "5bd0cbc210954a9eb1b310f74abe7680": {
          "model_module": "@jupyter-widgets/controls",
          "model_name": "FloatProgressModel",
          "model_module_version": "1.5.0",
          "state": {
            "_dom_classes": [],
            "_model_module": "@jupyter-widgets/controls",
            "_model_module_version": "1.5.0",
            "_model_name": "FloatProgressModel",
            "_view_count": null,
            "_view_module": "@jupyter-widgets/controls",
            "_view_module_version": "1.5.0",
            "_view_name": "ProgressView",
            "bar_style": "success",
            "description": "",
            "description_tooltip": null,
            "layout": "IPY_MODEL_8068d4b4cabc4681b7d5810cb46c9055",
            "max": 437,
            "min": 0,
            "orientation": "horizontal",
            "style": "IPY_MODEL_0dae86ae3ee24e8f8a82907fe0f0571c",
            "value": 437
          }
        },
        "1de3d3f617ea43c89e8d5fdd1b7a0cb9": {
          "model_module": "@jupyter-widgets/controls",
          "model_name": "HTMLModel",
          "model_module_version": "1.5.0",
          "state": {
            "_dom_classes": [],
            "_model_module": "@jupyter-widgets/controls",
            "_model_module_version": "1.5.0",
            "_model_name": "HTMLModel",
            "_view_count": null,
            "_view_module": "@jupyter-widgets/controls",
            "_view_module_version": "1.5.0",
            "_view_name": "HTMLView",
            "description": "",
            "description_tooltip": null,
            "layout": "IPY_MODEL_b8cc7bb8ce584e58b91c2e99c480ebd0",
            "placeholder": "​",
            "style": "IPY_MODEL_6f8057fe9e0b4736b7d5d2c32b0e6fdf",
            "value": " 437/437 [00:00&lt;00:00, 6.20kB/s]"
          }
        },
        "065ecb9ec7914756b388e0b1ab0e2081": {
          "model_module": "@jupyter-widgets/base",
          "model_name": "LayoutModel",
          "model_module_version": "1.2.0",
          "state": {
            "_model_module": "@jupyter-widgets/base",
            "_model_module_version": "1.2.0",
            "_model_name": "LayoutModel",
            "_view_count": null,
            "_view_module": "@jupyter-widgets/base",
            "_view_module_version": "1.2.0",
            "_view_name": "LayoutView",
            "align_content": null,
            "align_items": null,
            "align_self": null,
            "border": null,
            "bottom": null,
            "display": null,
            "flex": null,
            "flex_flow": null,
            "grid_area": null,
            "grid_auto_columns": null,
            "grid_auto_flow": null,
            "grid_auto_rows": null,
            "grid_column": null,
            "grid_gap": null,
            "grid_row": null,
            "grid_template_areas": null,
            "grid_template_columns": null,
            "grid_template_rows": null,
            "height": null,
            "justify_content": null,
            "justify_items": null,
            "left": null,
            "margin": null,
            "max_height": null,
            "max_width": null,
            "min_height": null,
            "min_width": null,
            "object_fit": null,
            "object_position": null,
            "order": null,
            "overflow": null,
            "overflow_x": null,
            "overflow_y": null,
            "padding": null,
            "right": null,
            "top": null,
            "visibility": null,
            "width": null
          }
        },
        "096cbbc45d9643b594a5d44839e1fe36": {
          "model_module": "@jupyter-widgets/base",
          "model_name": "LayoutModel",
          "model_module_version": "1.2.0",
          "state": {
            "_model_module": "@jupyter-widgets/base",
            "_model_module_version": "1.2.0",
            "_model_name": "LayoutModel",
            "_view_count": null,
            "_view_module": "@jupyter-widgets/base",
            "_view_module_version": "1.2.0",
            "_view_name": "LayoutView",
            "align_content": null,
            "align_items": null,
            "align_self": null,
            "border": null,
            "bottom": null,
            "display": null,
            "flex": null,
            "flex_flow": null,
            "grid_area": null,
            "grid_auto_columns": null,
            "grid_auto_flow": null,
            "grid_auto_rows": null,
            "grid_column": null,
            "grid_gap": null,
            "grid_row": null,
            "grid_template_areas": null,
            "grid_template_columns": null,
            "grid_template_rows": null,
            "height": null,
            "justify_content": null,
            "justify_items": null,
            "left": null,
            "margin": null,
            "max_height": null,
            "max_width": null,
            "min_height": null,
            "min_width": null,
            "object_fit": null,
            "object_position": null,
            "order": null,
            "overflow": null,
            "overflow_x": null,
            "overflow_y": null,
            "padding": null,
            "right": null,
            "top": null,
            "visibility": null,
            "width": null
          }
        },
        "3ac950c2ff33417ca1ca1dabff5e9811": {
          "model_module": "@jupyter-widgets/controls",
          "model_name": "DescriptionStyleModel",
          "model_module_version": "1.5.0",
          "state": {
            "_model_module": "@jupyter-widgets/controls",
            "_model_module_version": "1.5.0",
            "_model_name": "DescriptionStyleModel",
            "_view_count": null,
            "_view_module": "@jupyter-widgets/base",
            "_view_module_version": "1.2.0",
            "_view_name": "StyleView",
            "description_width": ""
          }
        },
        "8068d4b4cabc4681b7d5810cb46c9055": {
          "model_module": "@jupyter-widgets/base",
          "model_name": "LayoutModel",
          "model_module_version": "1.2.0",
          "state": {
            "_model_module": "@jupyter-widgets/base",
            "_model_module_version": "1.2.0",
            "_model_name": "LayoutModel",
            "_view_count": null,
            "_view_module": "@jupyter-widgets/base",
            "_view_module_version": "1.2.0",
            "_view_name": "LayoutView",
            "align_content": null,
            "align_items": null,
            "align_self": null,
            "border": null,
            "bottom": null,
            "display": null,
            "flex": null,
            "flex_flow": null,
            "grid_area": null,
            "grid_auto_columns": null,
            "grid_auto_flow": null,
            "grid_auto_rows": null,
            "grid_column": null,
            "grid_gap": null,
            "grid_row": null,
            "grid_template_areas": null,
            "grid_template_columns": null,
            "grid_template_rows": null,
            "height": null,
            "justify_content": null,
            "justify_items": null,
            "left": null,
            "margin": null,
            "max_height": null,
            "max_width": null,
            "min_height": null,
            "min_width": null,
            "object_fit": null,
            "object_position": null,
            "order": null,
            "overflow": null,
            "overflow_x": null,
            "overflow_y": null,
            "padding": null,
            "right": null,
            "top": null,
            "visibility": null,
            "width": null
          }
        },
        "0dae86ae3ee24e8f8a82907fe0f0571c": {
          "model_module": "@jupyter-widgets/controls",
          "model_name": "ProgressStyleModel",
          "model_module_version": "1.5.0",
          "state": {
            "_model_module": "@jupyter-widgets/controls",
            "_model_module_version": "1.5.0",
            "_model_name": "ProgressStyleModel",
            "_view_count": null,
            "_view_module": "@jupyter-widgets/base",
            "_view_module_version": "1.2.0",
            "_view_name": "StyleView",
            "bar_color": null,
            "description_width": ""
          }
        },
        "b8cc7bb8ce584e58b91c2e99c480ebd0": {
          "model_module": "@jupyter-widgets/base",
          "model_name": "LayoutModel",
          "model_module_version": "1.2.0",
          "state": {
            "_model_module": "@jupyter-widgets/base",
            "_model_module_version": "1.2.0",
            "_model_name": "LayoutModel",
            "_view_count": null,
            "_view_module": "@jupyter-widgets/base",
            "_view_module_version": "1.2.0",
            "_view_name": "LayoutView",
            "align_content": null,
            "align_items": null,
            "align_self": null,
            "border": null,
            "bottom": null,
            "display": null,
            "flex": null,
            "flex_flow": null,
            "grid_area": null,
            "grid_auto_columns": null,
            "grid_auto_flow": null,
            "grid_auto_rows": null,
            "grid_column": null,
            "grid_gap": null,
            "grid_row": null,
            "grid_template_areas": null,
            "grid_template_columns": null,
            "grid_template_rows": null,
            "height": null,
            "justify_content": null,
            "justify_items": null,
            "left": null,
            "margin": null,
            "max_height": null,
            "max_width": null,
            "min_height": null,
            "min_width": null,
            "object_fit": null,
            "object_position": null,
            "order": null,
            "overflow": null,
            "overflow_x": null,
            "overflow_y": null,
            "padding": null,
            "right": null,
            "top": null,
            "visibility": null,
            "width": null
          }
        },
        "6f8057fe9e0b4736b7d5d2c32b0e6fdf": {
          "model_module": "@jupyter-widgets/controls",
          "model_name": "DescriptionStyleModel",
          "model_module_version": "1.5.0",
          "state": {
            "_model_module": "@jupyter-widgets/controls",
            "_model_module_version": "1.5.0",
            "_model_name": "DescriptionStyleModel",
            "_view_count": null,
            "_view_module": "@jupyter-widgets/base",
            "_view_module_version": "1.2.0",
            "_view_name": "StyleView",
            "description_width": ""
          }
        },
        "ddd2fd9eb4e848e3a4fb2ec293d38e04": {
          "model_module": "@jupyter-widgets/controls",
          "model_name": "HBoxModel",
          "model_module_version": "1.5.0",
          "state": {
            "_dom_classes": [],
            "_model_module": "@jupyter-widgets/controls",
            "_model_module_version": "1.5.0",
            "_model_name": "HBoxModel",
            "_view_count": null,
            "_view_module": "@jupyter-widgets/controls",
            "_view_module_version": "1.5.0",
            "_view_name": "HBoxView",
            "box_style": "",
            "children": [
              "IPY_MODEL_7e32813214b3403c9f74c41c7eb06529",
              "IPY_MODEL_5b2dd62e85d147ef863d8873d7c868b1",
              "IPY_MODEL_b0305935968949839f5a3f38884bfbe8"
            ],
            "layout": "IPY_MODEL_b3a71210ef874ba48d4050f39c9fefb8"
          }
        },
        "7e32813214b3403c9f74c41c7eb06529": {
          "model_module": "@jupyter-widgets/controls",
          "model_name": "HTMLModel",
          "model_module_version": "1.5.0",
          "state": {
            "_dom_classes": [],
            "_model_module": "@jupyter-widgets/controls",
            "_model_module_version": "1.5.0",
            "_model_name": "HTMLModel",
            "_view_count": null,
            "_view_module": "@jupyter-widgets/controls",
            "_view_module_version": "1.5.0",
            "_view_name": "HTMLView",
            "description": "",
            "description_tooltip": null,
            "layout": "IPY_MODEL_b2e05cc49f1348aea2d6dde31f91dfb8",
            "placeholder": "​",
            "style": "IPY_MODEL_4a4b35f1afa74d46b1d2d68d527e07c3",
            "value": "Downloading: 100%"
          }
        },
        "5b2dd62e85d147ef863d8873d7c868b1": {
          "model_module": "@jupyter-widgets/controls",
          "model_name": "FloatProgressModel",
          "model_module_version": "1.5.0",
          "state": {
            "_dom_classes": [],
            "_model_module": "@jupyter-widgets/controls",
            "_model_module_version": "1.5.0",
            "_model_name": "FloatProgressModel",
            "_view_count": null,
            "_view_module": "@jupyter-widgets/controls",
            "_view_module_version": "1.5.0",
            "_view_name": "ProgressView",
            "bar_style": "success",
            "description": "",
            "description_tooltip": null,
            "layout": "IPY_MODEL_65aea0205f384910b8870fbb6b6bb5c4",
            "max": 11356,
            "min": 0,
            "orientation": "horizontal",
            "style": "IPY_MODEL_e602318826e44402b3682f8b5d882fe1",
            "value": 11356
          }
        },
        "b0305935968949839f5a3f38884bfbe8": {
          "model_module": "@jupyter-widgets/controls",
          "model_name": "HTMLModel",
          "model_module_version": "1.5.0",
          "state": {
            "_dom_classes": [],
            "_model_module": "@jupyter-widgets/controls",
            "_model_module_version": "1.5.0",
            "_model_name": "HTMLModel",
            "_view_count": null,
            "_view_module": "@jupyter-widgets/controls",
            "_view_module_version": "1.5.0",
            "_view_name": "HTMLView",
            "description": "",
            "description_tooltip": null,
            "layout": "IPY_MODEL_2f5301bfeca544dbb49ce6ca183d6ebd",
            "placeholder": "​",
            "style": "IPY_MODEL_24581057875941b69793400bc868b398",
            "value": " 11.4k/11.4k [00:00&lt;00:00, 9.40kB/s]"
          }
        },
        "b3a71210ef874ba48d4050f39c9fefb8": {
          "model_module": "@jupyter-widgets/base",
          "model_name": "LayoutModel",
          "model_module_version": "1.2.0",
          "state": {
            "_model_module": "@jupyter-widgets/base",
            "_model_module_version": "1.2.0",
            "_model_name": "LayoutModel",
            "_view_count": null,
            "_view_module": "@jupyter-widgets/base",
            "_view_module_version": "1.2.0",
            "_view_name": "LayoutView",
            "align_content": null,
            "align_items": null,
            "align_self": null,
            "border": null,
            "bottom": null,
            "display": null,
            "flex": null,
            "flex_flow": null,
            "grid_area": null,
            "grid_auto_columns": null,
            "grid_auto_flow": null,
            "grid_auto_rows": null,
            "grid_column": null,
            "grid_gap": null,
            "grid_row": null,
            "grid_template_areas": null,
            "grid_template_columns": null,
            "grid_template_rows": null,
            "height": null,
            "justify_content": null,
            "justify_items": null,
            "left": null,
            "margin": null,
            "max_height": null,
            "max_width": null,
            "min_height": null,
            "min_width": null,
            "object_fit": null,
            "object_position": null,
            "order": null,
            "overflow": null,
            "overflow_x": null,
            "overflow_y": null,
            "padding": null,
            "right": null,
            "top": null,
            "visibility": null,
            "width": null
          }
        },
        "b2e05cc49f1348aea2d6dde31f91dfb8": {
          "model_module": "@jupyter-widgets/base",
          "model_name": "LayoutModel",
          "model_module_version": "1.2.0",
          "state": {
            "_model_module": "@jupyter-widgets/base",
            "_model_module_version": "1.2.0",
            "_model_name": "LayoutModel",
            "_view_count": null,
            "_view_module": "@jupyter-widgets/base",
            "_view_module_version": "1.2.0",
            "_view_name": "LayoutView",
            "align_content": null,
            "align_items": null,
            "align_self": null,
            "border": null,
            "bottom": null,
            "display": null,
            "flex": null,
            "flex_flow": null,
            "grid_area": null,
            "grid_auto_columns": null,
            "grid_auto_flow": null,
            "grid_auto_rows": null,
            "grid_column": null,
            "grid_gap": null,
            "grid_row": null,
            "grid_template_areas": null,
            "grid_template_columns": null,
            "grid_template_rows": null,
            "height": null,
            "justify_content": null,
            "justify_items": null,
            "left": null,
            "margin": null,
            "max_height": null,
            "max_width": null,
            "min_height": null,
            "min_width": null,
            "object_fit": null,
            "object_position": null,
            "order": null,
            "overflow": null,
            "overflow_x": null,
            "overflow_y": null,
            "padding": null,
            "right": null,
            "top": null,
            "visibility": null,
            "width": null
          }
        },
        "4a4b35f1afa74d46b1d2d68d527e07c3": {
          "model_module": "@jupyter-widgets/controls",
          "model_name": "DescriptionStyleModel",
          "model_module_version": "1.5.0",
          "state": {
            "_model_module": "@jupyter-widgets/controls",
            "_model_module_version": "1.5.0",
            "_model_name": "DescriptionStyleModel",
            "_view_count": null,
            "_view_module": "@jupyter-widgets/base",
            "_view_module_version": "1.2.0",
            "_view_name": "StyleView",
            "description_width": ""
          }
        },
        "65aea0205f384910b8870fbb6b6bb5c4": {
          "model_module": "@jupyter-widgets/base",
          "model_name": "LayoutModel",
          "model_module_version": "1.2.0",
          "state": {
            "_model_module": "@jupyter-widgets/base",
            "_model_module_version": "1.2.0",
            "_model_name": "LayoutModel",
            "_view_count": null,
            "_view_module": "@jupyter-widgets/base",
            "_view_module_version": "1.2.0",
            "_view_name": "LayoutView",
            "align_content": null,
            "align_items": null,
            "align_self": null,
            "border": null,
            "bottom": null,
            "display": null,
            "flex": null,
            "flex_flow": null,
            "grid_area": null,
            "grid_auto_columns": null,
            "grid_auto_flow": null,
            "grid_auto_rows": null,
            "grid_column": null,
            "grid_gap": null,
            "grid_row": null,
            "grid_template_areas": null,
            "grid_template_columns": null,
            "grid_template_rows": null,
            "height": null,
            "justify_content": null,
            "justify_items": null,
            "left": null,
            "margin": null,
            "max_height": null,
            "max_width": null,
            "min_height": null,
            "min_width": null,
            "object_fit": null,
            "object_position": null,
            "order": null,
            "overflow": null,
            "overflow_x": null,
            "overflow_y": null,
            "padding": null,
            "right": null,
            "top": null,
            "visibility": null,
            "width": null
          }
        },
        "e602318826e44402b3682f8b5d882fe1": {
          "model_module": "@jupyter-widgets/controls",
          "model_name": "ProgressStyleModel",
          "model_module_version": "1.5.0",
          "state": {
            "_model_module": "@jupyter-widgets/controls",
            "_model_module_version": "1.5.0",
            "_model_name": "ProgressStyleModel",
            "_view_count": null,
            "_view_module": "@jupyter-widgets/base",
            "_view_module_version": "1.2.0",
            "_view_name": "StyleView",
            "bar_color": null,
            "description_width": ""
          }
        },
        "2f5301bfeca544dbb49ce6ca183d6ebd": {
          "model_module": "@jupyter-widgets/base",
          "model_name": "LayoutModel",
          "model_module_version": "1.2.0",
          "state": {
            "_model_module": "@jupyter-widgets/base",
            "_model_module_version": "1.2.0",
            "_model_name": "LayoutModel",
            "_view_count": null,
            "_view_module": "@jupyter-widgets/base",
            "_view_module_version": "1.2.0",
            "_view_name": "LayoutView",
            "align_content": null,
            "align_items": null,
            "align_self": null,
            "border": null,
            "bottom": null,
            "display": null,
            "flex": null,
            "flex_flow": null,
            "grid_area": null,
            "grid_auto_columns": null,
            "grid_auto_flow": null,
            "grid_auto_rows": null,
            "grid_column": null,
            "grid_gap": null,
            "grid_row": null,
            "grid_template_areas": null,
            "grid_template_columns": null,
            "grid_template_rows": null,
            "height": null,
            "justify_content": null,
            "justify_items": null,
            "left": null,
            "margin": null,
            "max_height": null,
            "max_width": null,
            "min_height": null,
            "min_width": null,
            "object_fit": null,
            "object_position": null,
            "order": null,
            "overflow": null,
            "overflow_x": null,
            "overflow_y": null,
            "padding": null,
            "right": null,
            "top": null,
            "visibility": null,
            "width": null
          }
        },
        "24581057875941b69793400bc868b398": {
          "model_module": "@jupyter-widgets/controls",
          "model_name": "DescriptionStyleModel",
          "model_module_version": "1.5.0",
          "state": {
            "_model_module": "@jupyter-widgets/controls",
            "_model_module_version": "1.5.0",
            "_model_name": "DescriptionStyleModel",
            "_view_count": null,
            "_view_module": "@jupyter-widgets/base",
            "_view_module_version": "1.2.0",
            "_view_name": "StyleView",
            "description_width": ""
          }
        },
        "0338d6ffdcc4478ca60c2d9b6ea470c6": {
          "model_module": "@jupyter-widgets/controls",
          "model_name": "HBoxModel",
          "model_module_version": "1.5.0",
          "state": {
            "_dom_classes": [],
            "_model_module": "@jupyter-widgets/controls",
            "_model_module_version": "1.5.0",
            "_model_name": "HBoxModel",
            "_view_count": null,
            "_view_module": "@jupyter-widgets/controls",
            "_view_module_version": "1.5.0",
            "_view_name": "HBoxView",
            "box_style": "",
            "children": [
              "IPY_MODEL_bbb8c3c4e82648f4929c9126f09d1bba",
              "IPY_MODEL_cbc4f865d89d4765aac538c9f7d50a5d",
              "IPY_MODEL_7bc4b46bc0fd40f592a785868e5e6796"
            ],
            "layout": "IPY_MODEL_c67eba62df6c419096e81bf6d5207156"
          }
        },
        "bbb8c3c4e82648f4929c9126f09d1bba": {
          "model_module": "@jupyter-widgets/controls",
          "model_name": "HTMLModel",
          "model_module_version": "1.5.0",
          "state": {
            "_dom_classes": [],
            "_model_module": "@jupyter-widgets/controls",
            "_model_module_version": "1.5.0",
            "_model_name": "HTMLModel",
            "_view_count": null,
            "_view_module": "@jupyter-widgets/controls",
            "_view_module_version": "1.5.0",
            "_view_name": "HTMLView",
            "description": "",
            "description_tooltip": null,
            "layout": "IPY_MODEL_bd59c35d79d546549587a83ebef24725",
            "placeholder": "​",
            "style": "IPY_MODEL_3a9ef12bc49b423ebf18912ca8d5eb30",
            "value": "Downloading: 100%"
          }
        },
        "cbc4f865d89d4765aac538c9f7d50a5d": {
          "model_module": "@jupyter-widgets/controls",
          "model_name": "FloatProgressModel",
          "model_module_version": "1.5.0",
          "state": {
            "_dom_classes": [],
            "_model_module": "@jupyter-widgets/controls",
            "_model_module_version": "1.5.0",
            "_model_name": "FloatProgressModel",
            "_view_count": null,
            "_view_module": "@jupyter-widgets/controls",
            "_view_module_version": "1.5.0",
            "_view_name": "ProgressView",
            "bar_style": "success",
            "description": "",
            "description_tooltip": null,
            "layout": "IPY_MODEL_07ae4e5563494d4797c1741d2b25720a",
            "max": 10517,
            "min": 0,
            "orientation": "horizontal",
            "style": "IPY_MODEL_dbda5bb6194641b5bad04dac2af2187b",
            "value": 10517
          }
        },
        "7bc4b46bc0fd40f592a785868e5e6796": {
          "model_module": "@jupyter-widgets/controls",
          "model_name": "HTMLModel",
          "model_module_version": "1.5.0",
          "state": {
            "_dom_classes": [],
            "_model_module": "@jupyter-widgets/controls",
            "_model_module_version": "1.5.0",
            "_model_name": "HTMLModel",
            "_view_count": null,
            "_view_module": "@jupyter-widgets/controls",
            "_view_module_version": "1.5.0",
            "_view_name": "HTMLView",
            "description": "",
            "description_tooltip": null,
            "layout": "IPY_MODEL_0c36bad699a54522bc009d6e9e15e7ac",
            "placeholder": "​",
            "style": "IPY_MODEL_e5509efbc89c43ecbbb84c890f0cc65f",
            "value": " 10.5k/10.5k [00:00&lt;00:00, 9.94kB/s]"
          }
        },
        "c67eba62df6c419096e81bf6d5207156": {
          "model_module": "@jupyter-widgets/base",
          "model_name": "LayoutModel",
          "model_module_version": "1.2.0",
          "state": {
            "_model_module": "@jupyter-widgets/base",
            "_model_module_version": "1.2.0",
            "_model_name": "LayoutModel",
            "_view_count": null,
            "_view_module": "@jupyter-widgets/base",
            "_view_module_version": "1.2.0",
            "_view_name": "LayoutView",
            "align_content": null,
            "align_items": null,
            "align_self": null,
            "border": null,
            "bottom": null,
            "display": null,
            "flex": null,
            "flex_flow": null,
            "grid_area": null,
            "grid_auto_columns": null,
            "grid_auto_flow": null,
            "grid_auto_rows": null,
            "grid_column": null,
            "grid_gap": null,
            "grid_row": null,
            "grid_template_areas": null,
            "grid_template_columns": null,
            "grid_template_rows": null,
            "height": null,
            "justify_content": null,
            "justify_items": null,
            "left": null,
            "margin": null,
            "max_height": null,
            "max_width": null,
            "min_height": null,
            "min_width": null,
            "object_fit": null,
            "object_position": null,
            "order": null,
            "overflow": null,
            "overflow_x": null,
            "overflow_y": null,
            "padding": null,
            "right": null,
            "top": null,
            "visibility": null,
            "width": null
          }
        },
        "bd59c35d79d546549587a83ebef24725": {
          "model_module": "@jupyter-widgets/base",
          "model_name": "LayoutModel",
          "model_module_version": "1.2.0",
          "state": {
            "_model_module": "@jupyter-widgets/base",
            "_model_module_version": "1.2.0",
            "_model_name": "LayoutModel",
            "_view_count": null,
            "_view_module": "@jupyter-widgets/base",
            "_view_module_version": "1.2.0",
            "_view_name": "LayoutView",
            "align_content": null,
            "align_items": null,
            "align_self": null,
            "border": null,
            "bottom": null,
            "display": null,
            "flex": null,
            "flex_flow": null,
            "grid_area": null,
            "grid_auto_columns": null,
            "grid_auto_flow": null,
            "grid_auto_rows": null,
            "grid_column": null,
            "grid_gap": null,
            "grid_row": null,
            "grid_template_areas": null,
            "grid_template_columns": null,
            "grid_template_rows": null,
            "height": null,
            "justify_content": null,
            "justify_items": null,
            "left": null,
            "margin": null,
            "max_height": null,
            "max_width": null,
            "min_height": null,
            "min_width": null,
            "object_fit": null,
            "object_position": null,
            "order": null,
            "overflow": null,
            "overflow_x": null,
            "overflow_y": null,
            "padding": null,
            "right": null,
            "top": null,
            "visibility": null,
            "width": null
          }
        },
        "3a9ef12bc49b423ebf18912ca8d5eb30": {
          "model_module": "@jupyter-widgets/controls",
          "model_name": "DescriptionStyleModel",
          "model_module_version": "1.5.0",
          "state": {
            "_model_module": "@jupyter-widgets/controls",
            "_model_module_version": "1.5.0",
            "_model_name": "DescriptionStyleModel",
            "_view_count": null,
            "_view_module": "@jupyter-widgets/base",
            "_view_module_version": "1.2.0",
            "_view_name": "StyleView",
            "description_width": ""
          }
        },
        "07ae4e5563494d4797c1741d2b25720a": {
          "model_module": "@jupyter-widgets/base",
          "model_name": "LayoutModel",
          "model_module_version": "1.2.0",
          "state": {
            "_model_module": "@jupyter-widgets/base",
            "_model_module_version": "1.2.0",
            "_model_name": "LayoutModel",
            "_view_count": null,
            "_view_module": "@jupyter-widgets/base",
            "_view_module_version": "1.2.0",
            "_view_name": "LayoutView",
            "align_content": null,
            "align_items": null,
            "align_self": null,
            "border": null,
            "bottom": null,
            "display": null,
            "flex": null,
            "flex_flow": null,
            "grid_area": null,
            "grid_auto_columns": null,
            "grid_auto_flow": null,
            "grid_auto_rows": null,
            "grid_column": null,
            "grid_gap": null,
            "grid_row": null,
            "grid_template_areas": null,
            "grid_template_columns": null,
            "grid_template_rows": null,
            "height": null,
            "justify_content": null,
            "justify_items": null,
            "left": null,
            "margin": null,
            "max_height": null,
            "max_width": null,
            "min_height": null,
            "min_width": null,
            "object_fit": null,
            "object_position": null,
            "order": null,
            "overflow": null,
            "overflow_x": null,
            "overflow_y": null,
            "padding": null,
            "right": null,
            "top": null,
            "visibility": null,
            "width": null
          }
        },
        "dbda5bb6194641b5bad04dac2af2187b": {
          "model_module": "@jupyter-widgets/controls",
          "model_name": "ProgressStyleModel",
          "model_module_version": "1.5.0",
          "state": {
            "_model_module": "@jupyter-widgets/controls",
            "_model_module_version": "1.5.0",
            "_model_name": "ProgressStyleModel",
            "_view_count": null,
            "_view_module": "@jupyter-widgets/base",
            "_view_module_version": "1.2.0",
            "_view_name": "StyleView",
            "bar_color": null,
            "description_width": ""
          }
        },
        "0c36bad699a54522bc009d6e9e15e7ac": {
          "model_module": "@jupyter-widgets/base",
          "model_name": "LayoutModel",
          "model_module_version": "1.2.0",
          "state": {
            "_model_module": "@jupyter-widgets/base",
            "_model_module_version": "1.2.0",
            "_model_name": "LayoutModel",
            "_view_count": null,
            "_view_module": "@jupyter-widgets/base",
            "_view_module_version": "1.2.0",
            "_view_name": "LayoutView",
            "align_content": null,
            "align_items": null,
            "align_self": null,
            "border": null,
            "bottom": null,
            "display": null,
            "flex": null,
            "flex_flow": null,
            "grid_area": null,
            "grid_auto_columns": null,
            "grid_auto_flow": null,
            "grid_auto_rows": null,
            "grid_column": null,
            "grid_gap": null,
            "grid_row": null,
            "grid_template_areas": null,
            "grid_template_columns": null,
            "grid_template_rows": null,
            "height": null,
            "justify_content": null,
            "justify_items": null,
            "left": null,
            "margin": null,
            "max_height": null,
            "max_width": null,
            "min_height": null,
            "min_width": null,
            "object_fit": null,
            "object_position": null,
            "order": null,
            "overflow": null,
            "overflow_x": null,
            "overflow_y": null,
            "padding": null,
            "right": null,
            "top": null,
            "visibility": null,
            "width": null
          }
        },
        "e5509efbc89c43ecbbb84c890f0cc65f": {
          "model_module": "@jupyter-widgets/controls",
          "model_name": "DescriptionStyleModel",
          "model_module_version": "1.5.0",
          "state": {
            "_model_module": "@jupyter-widgets/controls",
            "_model_module_version": "1.5.0",
            "_model_name": "DescriptionStyleModel",
            "_view_count": null,
            "_view_module": "@jupyter-widgets/base",
            "_view_module_version": "1.2.0",
            "_view_name": "StyleView",
            "description_width": ""
          }
        },
        "6d7c6fd661154c0dba8a141ded271a7c": {
          "model_module": "@jupyter-widgets/controls",
          "model_name": "HBoxModel",
          "model_module_version": "1.5.0",
          "state": {
            "_dom_classes": [],
            "_model_module": "@jupyter-widgets/controls",
            "_model_module_version": "1.5.0",
            "_model_name": "HBoxModel",
            "_view_count": null,
            "_view_module": "@jupyter-widgets/controls",
            "_view_module_version": "1.5.0",
            "_view_name": "HBoxView",
            "box_style": "",
            "children": [
              "IPY_MODEL_e74b360fc229406c8a84153f8300170e",
              "IPY_MODEL_ec3b975ebbf24bfe8ccce3641ed7a802",
              "IPY_MODEL_bea75e87c6d546399fe323607f9461d9"
            ],
            "layout": "IPY_MODEL_8817c034e3a841d486ea2de5e8f51012"
          }
        },
        "e74b360fc229406c8a84153f8300170e": {
          "model_module": "@jupyter-widgets/controls",
          "model_name": "HTMLModel",
          "model_module_version": "1.5.0",
          "state": {
            "_dom_classes": [],
            "_model_module": "@jupyter-widgets/controls",
            "_model_module_version": "1.5.0",
            "_model_name": "HTMLModel",
            "_view_count": null,
            "_view_module": "@jupyter-widgets/controls",
            "_view_module_version": "1.5.0",
            "_view_name": "HTMLView",
            "description": "",
            "description_tooltip": null,
            "layout": "IPY_MODEL_bf5d1d5853c44544af8f12e62f520c66",
            "placeholder": "​",
            "style": "IPY_MODEL_38d7191d3b1b482883dd7fd48504000a",
            "value": "Downloading: 100%"
          }
        },
        "ec3b975ebbf24bfe8ccce3641ed7a802": {
          "model_module": "@jupyter-widgets/controls",
          "model_name": "FloatProgressModel",
          "model_module_version": "1.5.0",
          "state": {
            "_dom_classes": [],
            "_model_module": "@jupyter-widgets/controls",
            "_model_module_version": "1.5.0",
            "_model_name": "FloatProgressModel",
            "_view_count": null,
            "_view_module": "@jupyter-widgets/controls",
            "_view_module_version": "1.5.0",
            "_view_name": "ProgressView",
            "bar_style": "success",
            "description": "",
            "description_tooltip": null,
            "layout": "IPY_MODEL_abc5d1125c104e08a4a0b78ef79b1cfa",
            "max": 570,
            "min": 0,
            "orientation": "horizontal",
            "style": "IPY_MODEL_1606644a17ad44e3b88ee294ddb9fe48",
            "value": 570
          }
        },
        "bea75e87c6d546399fe323607f9461d9": {
          "model_module": "@jupyter-widgets/controls",
          "model_name": "HTMLModel",
          "model_module_version": "1.5.0",
          "state": {
            "_dom_classes": [],
            "_model_module": "@jupyter-widgets/controls",
            "_model_module_version": "1.5.0",
            "_model_name": "HTMLModel",
            "_view_count": null,
            "_view_module": "@jupyter-widgets/controls",
            "_view_module_version": "1.5.0",
            "_view_name": "HTMLView",
            "description": "",
            "description_tooltip": null,
            "layout": "IPY_MODEL_2224fe96fc6f44c8ad8d0e9f620c8f10",
            "placeholder": "​",
            "style": "IPY_MODEL_7676f349570c418f866d4865df7afa92",
            "value": " 570/570 [00:00&lt;00:00, 6.43kB/s]"
          }
        },
        "8817c034e3a841d486ea2de5e8f51012": {
          "model_module": "@jupyter-widgets/base",
          "model_name": "LayoutModel",
          "model_module_version": "1.2.0",
          "state": {
            "_model_module": "@jupyter-widgets/base",
            "_model_module_version": "1.2.0",
            "_model_name": "LayoutModel",
            "_view_count": null,
            "_view_module": "@jupyter-widgets/base",
            "_view_module_version": "1.2.0",
            "_view_name": "LayoutView",
            "align_content": null,
            "align_items": null,
            "align_self": null,
            "border": null,
            "bottom": null,
            "display": null,
            "flex": null,
            "flex_flow": null,
            "grid_area": null,
            "grid_auto_columns": null,
            "grid_auto_flow": null,
            "grid_auto_rows": null,
            "grid_column": null,
            "grid_gap": null,
            "grid_row": null,
            "grid_template_areas": null,
            "grid_template_columns": null,
            "grid_template_rows": null,
            "height": null,
            "justify_content": null,
            "justify_items": null,
            "left": null,
            "margin": null,
            "max_height": null,
            "max_width": null,
            "min_height": null,
            "min_width": null,
            "object_fit": null,
            "object_position": null,
            "order": null,
            "overflow": null,
            "overflow_x": null,
            "overflow_y": null,
            "padding": null,
            "right": null,
            "top": null,
            "visibility": null,
            "width": null
          }
        },
        "bf5d1d5853c44544af8f12e62f520c66": {
          "model_module": "@jupyter-widgets/base",
          "model_name": "LayoutModel",
          "model_module_version": "1.2.0",
          "state": {
            "_model_module": "@jupyter-widgets/base",
            "_model_module_version": "1.2.0",
            "_model_name": "LayoutModel",
            "_view_count": null,
            "_view_module": "@jupyter-widgets/base",
            "_view_module_version": "1.2.0",
            "_view_name": "LayoutView",
            "align_content": null,
            "align_items": null,
            "align_self": null,
            "border": null,
            "bottom": null,
            "display": null,
            "flex": null,
            "flex_flow": null,
            "grid_area": null,
            "grid_auto_columns": null,
            "grid_auto_flow": null,
            "grid_auto_rows": null,
            "grid_column": null,
            "grid_gap": null,
            "grid_row": null,
            "grid_template_areas": null,
            "grid_template_columns": null,
            "grid_template_rows": null,
            "height": null,
            "justify_content": null,
            "justify_items": null,
            "left": null,
            "margin": null,
            "max_height": null,
            "max_width": null,
            "min_height": null,
            "min_width": null,
            "object_fit": null,
            "object_position": null,
            "order": null,
            "overflow": null,
            "overflow_x": null,
            "overflow_y": null,
            "padding": null,
            "right": null,
            "top": null,
            "visibility": null,
            "width": null
          }
        },
        "38d7191d3b1b482883dd7fd48504000a": {
          "model_module": "@jupyter-widgets/controls",
          "model_name": "DescriptionStyleModel",
          "model_module_version": "1.5.0",
          "state": {
            "_model_module": "@jupyter-widgets/controls",
            "_model_module_version": "1.5.0",
            "_model_name": "DescriptionStyleModel",
            "_view_count": null,
            "_view_module": "@jupyter-widgets/base",
            "_view_module_version": "1.2.0",
            "_view_name": "StyleView",
            "description_width": ""
          }
        },
        "abc5d1125c104e08a4a0b78ef79b1cfa": {
          "model_module": "@jupyter-widgets/base",
          "model_name": "LayoutModel",
          "model_module_version": "1.2.0",
          "state": {
            "_model_module": "@jupyter-widgets/base",
            "_model_module_version": "1.2.0",
            "_model_name": "LayoutModel",
            "_view_count": null,
            "_view_module": "@jupyter-widgets/base",
            "_view_module_version": "1.2.0",
            "_view_name": "LayoutView",
            "align_content": null,
            "align_items": null,
            "align_self": null,
            "border": null,
            "bottom": null,
            "display": null,
            "flex": null,
            "flex_flow": null,
            "grid_area": null,
            "grid_auto_columns": null,
            "grid_auto_flow": null,
            "grid_auto_rows": null,
            "grid_column": null,
            "grid_gap": null,
            "grid_row": null,
            "grid_template_areas": null,
            "grid_template_columns": null,
            "grid_template_rows": null,
            "height": null,
            "justify_content": null,
            "justify_items": null,
            "left": null,
            "margin": null,
            "max_height": null,
            "max_width": null,
            "min_height": null,
            "min_width": null,
            "object_fit": null,
            "object_position": null,
            "order": null,
            "overflow": null,
            "overflow_x": null,
            "overflow_y": null,
            "padding": null,
            "right": null,
            "top": null,
            "visibility": null,
            "width": null
          }
        },
        "1606644a17ad44e3b88ee294ddb9fe48": {
          "model_module": "@jupyter-widgets/controls",
          "model_name": "ProgressStyleModel",
          "model_module_version": "1.5.0",
          "state": {
            "_model_module": "@jupyter-widgets/controls",
            "_model_module_version": "1.5.0",
            "_model_name": "ProgressStyleModel",
            "_view_count": null,
            "_view_module": "@jupyter-widgets/base",
            "_view_module_version": "1.2.0",
            "_view_name": "StyleView",
            "bar_color": null,
            "description_width": ""
          }
        },
        "2224fe96fc6f44c8ad8d0e9f620c8f10": {
          "model_module": "@jupyter-widgets/base",
          "model_name": "LayoutModel",
          "model_module_version": "1.2.0",
          "state": {
            "_model_module": "@jupyter-widgets/base",
            "_model_module_version": "1.2.0",
            "_model_name": "LayoutModel",
            "_view_count": null,
            "_view_module": "@jupyter-widgets/base",
            "_view_module_version": "1.2.0",
            "_view_name": "LayoutView",
            "align_content": null,
            "align_items": null,
            "align_self": null,
            "border": null,
            "bottom": null,
            "display": null,
            "flex": null,
            "flex_flow": null,
            "grid_area": null,
            "grid_auto_columns": null,
            "grid_auto_flow": null,
            "grid_auto_rows": null,
            "grid_column": null,
            "grid_gap": null,
            "grid_row": null,
            "grid_template_areas": null,
            "grid_template_columns": null,
            "grid_template_rows": null,
            "height": null,
            "justify_content": null,
            "justify_items": null,
            "left": null,
            "margin": null,
            "max_height": null,
            "max_width": null,
            "min_height": null,
            "min_width": null,
            "object_fit": null,
            "object_position": null,
            "order": null,
            "overflow": null,
            "overflow_x": null,
            "overflow_y": null,
            "padding": null,
            "right": null,
            "top": null,
            "visibility": null,
            "width": null
          }
        },
        "7676f349570c418f866d4865df7afa92": {
          "model_module": "@jupyter-widgets/controls",
          "model_name": "DescriptionStyleModel",
          "model_module_version": "1.5.0",
          "state": {
            "_model_module": "@jupyter-widgets/controls",
            "_model_module_version": "1.5.0",
            "_model_name": "DescriptionStyleModel",
            "_view_count": null,
            "_view_module": "@jupyter-widgets/base",
            "_view_module_version": "1.2.0",
            "_view_name": "StyleView",
            "description_width": ""
          }
        },
        "48e9279333b34f7684055e30d9920a5f": {
          "model_module": "@jupyter-widgets/controls",
          "model_name": "HBoxModel",
          "model_module_version": "1.5.0",
          "state": {
            "_dom_classes": [],
            "_model_module": "@jupyter-widgets/controls",
            "_model_module_version": "1.5.0",
            "_model_name": "HBoxModel",
            "_view_count": null,
            "_view_module": "@jupyter-widgets/controls",
            "_view_module_version": "1.5.0",
            "_view_name": "HBoxView",
            "box_style": "",
            "children": [
              "IPY_MODEL_af273023043c4591baa083ac3d660024",
              "IPY_MODEL_d215ff85f64e4601a886d589ba4fe94d",
              "IPY_MODEL_d9e10357e6274e8ab92186e1f282c9a6"
            ],
            "layout": "IPY_MODEL_9d346217e3754ad18aebb9bc189c1311"
          }
        },
        "af273023043c4591baa083ac3d660024": {
          "model_module": "@jupyter-widgets/controls",
          "model_name": "HTMLModel",
          "model_module_version": "1.5.0",
          "state": {
            "_dom_classes": [],
            "_model_module": "@jupyter-widgets/controls",
            "_model_module_version": "1.5.0",
            "_model_name": "HTMLModel",
            "_view_count": null,
            "_view_module": "@jupyter-widgets/controls",
            "_view_module_version": "1.5.0",
            "_view_name": "HTMLView",
            "description": "",
            "description_tooltip": null,
            "layout": "IPY_MODEL_57726600c75f4820bbfd2a840499c87c",
            "placeholder": "​",
            "style": "IPY_MODEL_cf45250acf8440e39047af4eb3a5e8f3",
            "value": "Downloading: 100%"
          }
        },
        "d215ff85f64e4601a886d589ba4fe94d": {
          "model_module": "@jupyter-widgets/controls",
          "model_name": "FloatProgressModel",
          "model_module_version": "1.5.0",
          "state": {
            "_dom_classes": [],
            "_model_module": "@jupyter-widgets/controls",
            "_model_module_version": "1.5.0",
            "_model_name": "FloatProgressModel",
            "_view_count": null,
            "_view_module": "@jupyter-widgets/controls",
            "_view_module_version": "1.5.0",
            "_view_name": "ProgressView",
            "bar_style": "success",
            "description": "",
            "description_tooltip": null,
            "layout": "IPY_MODEL_665ac2f3c4754374b57348c53decfae1",
            "max": 440473133,
            "min": 0,
            "orientation": "horizontal",
            "style": "IPY_MODEL_4780be94ec2a4860b1ebb9d7ce8c7e15",
            "value": 440473133
          }
        },
        "d9e10357e6274e8ab92186e1f282c9a6": {
          "model_module": "@jupyter-widgets/controls",
          "model_name": "HTMLModel",
          "model_module_version": "1.5.0",
          "state": {
            "_dom_classes": [],
            "_model_module": "@jupyter-widgets/controls",
            "_model_module_version": "1.5.0",
            "_model_name": "HTMLModel",
            "_view_count": null,
            "_view_module": "@jupyter-widgets/controls",
            "_view_module_version": "1.5.0",
            "_view_name": "HTMLView",
            "description": "",
            "description_tooltip": null,
            "layout": "IPY_MODEL_0127f4654c864dbba410ecceb36f2872",
            "placeholder": "​",
            "style": "IPY_MODEL_458e5c3a2b2b41a89a2773e52eb8e11a",
            "value": " 440M/440M [00:09&lt;00:00, 46.7MB/s]"
          }
        },
        "9d346217e3754ad18aebb9bc189c1311": {
          "model_module": "@jupyter-widgets/base",
          "model_name": "LayoutModel",
          "model_module_version": "1.2.0",
          "state": {
            "_model_module": "@jupyter-widgets/base",
            "_model_module_version": "1.2.0",
            "_model_name": "LayoutModel",
            "_view_count": null,
            "_view_module": "@jupyter-widgets/base",
            "_view_module_version": "1.2.0",
            "_view_name": "LayoutView",
            "align_content": null,
            "align_items": null,
            "align_self": null,
            "border": null,
            "bottom": null,
            "display": null,
            "flex": null,
            "flex_flow": null,
            "grid_area": null,
            "grid_auto_columns": null,
            "grid_auto_flow": null,
            "grid_auto_rows": null,
            "grid_column": null,
            "grid_gap": null,
            "grid_row": null,
            "grid_template_areas": null,
            "grid_template_columns": null,
            "grid_template_rows": null,
            "height": null,
            "justify_content": null,
            "justify_items": null,
            "left": null,
            "margin": null,
            "max_height": null,
            "max_width": null,
            "min_height": null,
            "min_width": null,
            "object_fit": null,
            "object_position": null,
            "order": null,
            "overflow": null,
            "overflow_x": null,
            "overflow_y": null,
            "padding": null,
            "right": null,
            "top": null,
            "visibility": null,
            "width": null
          }
        },
        "57726600c75f4820bbfd2a840499c87c": {
          "model_module": "@jupyter-widgets/base",
          "model_name": "LayoutModel",
          "model_module_version": "1.2.0",
          "state": {
            "_model_module": "@jupyter-widgets/base",
            "_model_module_version": "1.2.0",
            "_model_name": "LayoutModel",
            "_view_count": null,
            "_view_module": "@jupyter-widgets/base",
            "_view_module_version": "1.2.0",
            "_view_name": "LayoutView",
            "align_content": null,
            "align_items": null,
            "align_self": null,
            "border": null,
            "bottom": null,
            "display": null,
            "flex": null,
            "flex_flow": null,
            "grid_area": null,
            "grid_auto_columns": null,
            "grid_auto_flow": null,
            "grid_auto_rows": null,
            "grid_column": null,
            "grid_gap": null,
            "grid_row": null,
            "grid_template_areas": null,
            "grid_template_columns": null,
            "grid_template_rows": null,
            "height": null,
            "justify_content": null,
            "justify_items": null,
            "left": null,
            "margin": null,
            "max_height": null,
            "max_width": null,
            "min_height": null,
            "min_width": null,
            "object_fit": null,
            "object_position": null,
            "order": null,
            "overflow": null,
            "overflow_x": null,
            "overflow_y": null,
            "padding": null,
            "right": null,
            "top": null,
            "visibility": null,
            "width": null
          }
        },
        "cf45250acf8440e39047af4eb3a5e8f3": {
          "model_module": "@jupyter-widgets/controls",
          "model_name": "DescriptionStyleModel",
          "model_module_version": "1.5.0",
          "state": {
            "_model_module": "@jupyter-widgets/controls",
            "_model_module_version": "1.5.0",
            "_model_name": "DescriptionStyleModel",
            "_view_count": null,
            "_view_module": "@jupyter-widgets/base",
            "_view_module_version": "1.2.0",
            "_view_name": "StyleView",
            "description_width": ""
          }
        },
        "665ac2f3c4754374b57348c53decfae1": {
          "model_module": "@jupyter-widgets/base",
          "model_name": "LayoutModel",
          "model_module_version": "1.2.0",
          "state": {
            "_model_module": "@jupyter-widgets/base",
            "_model_module_version": "1.2.0",
            "_model_name": "LayoutModel",
            "_view_count": null,
            "_view_module": "@jupyter-widgets/base",
            "_view_module_version": "1.2.0",
            "_view_name": "LayoutView",
            "align_content": null,
            "align_items": null,
            "align_self": null,
            "border": null,
            "bottom": null,
            "display": null,
            "flex": null,
            "flex_flow": null,
            "grid_area": null,
            "grid_auto_columns": null,
            "grid_auto_flow": null,
            "grid_auto_rows": null,
            "grid_column": null,
            "grid_gap": null,
            "grid_row": null,
            "grid_template_areas": null,
            "grid_template_columns": null,
            "grid_template_rows": null,
            "height": null,
            "justify_content": null,
            "justify_items": null,
            "left": null,
            "margin": null,
            "max_height": null,
            "max_width": null,
            "min_height": null,
            "min_width": null,
            "object_fit": null,
            "object_position": null,
            "order": null,
            "overflow": null,
            "overflow_x": null,
            "overflow_y": null,
            "padding": null,
            "right": null,
            "top": null,
            "visibility": null,
            "width": null
          }
        },
        "4780be94ec2a4860b1ebb9d7ce8c7e15": {
          "model_module": "@jupyter-widgets/controls",
          "model_name": "ProgressStyleModel",
          "model_module_version": "1.5.0",
          "state": {
            "_model_module": "@jupyter-widgets/controls",
            "_model_module_version": "1.5.0",
            "_model_name": "ProgressStyleModel",
            "_view_count": null,
            "_view_module": "@jupyter-widgets/base",
            "_view_module_version": "1.2.0",
            "_view_name": "StyleView",
            "bar_color": null,
            "description_width": ""
          }
        },
        "0127f4654c864dbba410ecceb36f2872": {
          "model_module": "@jupyter-widgets/base",
          "model_name": "LayoutModel",
          "model_module_version": "1.2.0",
          "state": {
            "_model_module": "@jupyter-widgets/base",
            "_model_module_version": "1.2.0",
            "_model_name": "LayoutModel",
            "_view_count": null,
            "_view_module": "@jupyter-widgets/base",
            "_view_module_version": "1.2.0",
            "_view_name": "LayoutView",
            "align_content": null,
            "align_items": null,
            "align_self": null,
            "border": null,
            "bottom": null,
            "display": null,
            "flex": null,
            "flex_flow": null,
            "grid_area": null,
            "grid_auto_columns": null,
            "grid_auto_flow": null,
            "grid_auto_rows": null,
            "grid_column": null,
            "grid_gap": null,
            "grid_row": null,
            "grid_template_areas": null,
            "grid_template_columns": null,
            "grid_template_rows": null,
            "height": null,
            "justify_content": null,
            "justify_items": null,
            "left": null,
            "margin": null,
            "max_height": null,
            "max_width": null,
            "min_height": null,
            "min_width": null,
            "object_fit": null,
            "object_position": null,
            "order": null,
            "overflow": null,
            "overflow_x": null,
            "overflow_y": null,
            "padding": null,
            "right": null,
            "top": null,
            "visibility": null,
            "width": null
          }
        },
        "458e5c3a2b2b41a89a2773e52eb8e11a": {
          "model_module": "@jupyter-widgets/controls",
          "model_name": "DescriptionStyleModel",
          "model_module_version": "1.5.0",
          "state": {
            "_model_module": "@jupyter-widgets/controls",
            "_model_module_version": "1.5.0",
            "_model_name": "DescriptionStyleModel",
            "_view_count": null,
            "_view_module": "@jupyter-widgets/base",
            "_view_module_version": "1.2.0",
            "_view_name": "StyleView",
            "description_width": ""
          }
        },
        "c17ecc5813984a4f80dd3cd6f41a0ab5": {
          "model_module": "@jupyter-widgets/controls",
          "model_name": "HBoxModel",
          "model_module_version": "1.5.0",
          "state": {
            "_dom_classes": [],
            "_model_module": "@jupyter-widgets/controls",
            "_model_module_version": "1.5.0",
            "_model_name": "HBoxModel",
            "_view_count": null,
            "_view_module": "@jupyter-widgets/controls",
            "_view_module_version": "1.5.0",
            "_view_name": "HBoxView",
            "box_style": "",
            "children": [
              "IPY_MODEL_3b3684573fbc4e7997ac01ce2c8eaea6",
              "IPY_MODEL_2da9a71af1674c679f8a358ae08e6337",
              "IPY_MODEL_c8b9f34e59634060bd6e4c075d50faa3"
            ],
            "layout": "IPY_MODEL_f9294f57f4b04614b4c94129c8b55277"
          }
        },
        "3b3684573fbc4e7997ac01ce2c8eaea6": {
          "model_module": "@jupyter-widgets/controls",
          "model_name": "HTMLModel",
          "model_module_version": "1.5.0",
          "state": {
            "_dom_classes": [],
            "_model_module": "@jupyter-widgets/controls",
            "_model_module_version": "1.5.0",
            "_model_name": "HTMLModel",
            "_view_count": null,
            "_view_module": "@jupyter-widgets/controls",
            "_view_module_version": "1.5.0",
            "_view_name": "HTMLView",
            "description": "",
            "description_tooltip": null,
            "layout": "IPY_MODEL_457969b55a1b4938aeec8848572acd0e",
            "placeholder": "​",
            "style": "IPY_MODEL_56e2e468a1f2472088ca0568732ee365",
            "value": "Downloading: 100%"
          }
        },
        "2da9a71af1674c679f8a358ae08e6337": {
          "model_module": "@jupyter-widgets/controls",
          "model_name": "FloatProgressModel",
          "model_module_version": "1.5.0",
          "state": {
            "_dom_classes": [],
            "_model_module": "@jupyter-widgets/controls",
            "_model_module_version": "1.5.0",
            "_model_name": "FloatProgressModel",
            "_view_count": null,
            "_view_module": "@jupyter-widgets/controls",
            "_view_module_version": "1.5.0",
            "_view_name": "ProgressView",
            "bar_style": "success",
            "description": "",
            "description_tooltip": null,
            "layout": "IPY_MODEL_1521e2cdacac495d8c12b8317204b39e",
            "max": 466062,
            "min": 0,
            "orientation": "horizontal",
            "style": "IPY_MODEL_05e98f71a1a34adc822115950953d4b6",
            "value": 466062
          }
        },
        "c8b9f34e59634060bd6e4c075d50faa3": {
          "model_module": "@jupyter-widgets/controls",
          "model_name": "HTMLModel",
          "model_module_version": "1.5.0",
          "state": {
            "_dom_classes": [],
            "_model_module": "@jupyter-widgets/controls",
            "_model_module_version": "1.5.0",
            "_model_name": "HTMLModel",
            "_view_count": null,
            "_view_module": "@jupyter-widgets/controls",
            "_view_module_version": "1.5.0",
            "_view_name": "HTMLView",
            "description": "",
            "description_tooltip": null,
            "layout": "IPY_MODEL_0917d9b7996d406cb8bd62d7887644c0",
            "placeholder": "​",
            "style": "IPY_MODEL_431afa3e184f41a4a2f16fac80905c48",
            "value": " 466k/466k [00:00&lt;00:00, 625kB/s]"
          }
        },
        "f9294f57f4b04614b4c94129c8b55277": {
          "model_module": "@jupyter-widgets/base",
          "model_name": "LayoutModel",
          "model_module_version": "1.2.0",
          "state": {
            "_model_module": "@jupyter-widgets/base",
            "_model_module_version": "1.2.0",
            "_model_name": "LayoutModel",
            "_view_count": null,
            "_view_module": "@jupyter-widgets/base",
            "_view_module_version": "1.2.0",
            "_view_name": "LayoutView",
            "align_content": null,
            "align_items": null,
            "align_self": null,
            "border": null,
            "bottom": null,
            "display": null,
            "flex": null,
            "flex_flow": null,
            "grid_area": null,
            "grid_auto_columns": null,
            "grid_auto_flow": null,
            "grid_auto_rows": null,
            "grid_column": null,
            "grid_gap": null,
            "grid_row": null,
            "grid_template_areas": null,
            "grid_template_columns": null,
            "grid_template_rows": null,
            "height": null,
            "justify_content": null,
            "justify_items": null,
            "left": null,
            "margin": null,
            "max_height": null,
            "max_width": null,
            "min_height": null,
            "min_width": null,
            "object_fit": null,
            "object_position": null,
            "order": null,
            "overflow": null,
            "overflow_x": null,
            "overflow_y": null,
            "padding": null,
            "right": null,
            "top": null,
            "visibility": null,
            "width": null
          }
        },
        "457969b55a1b4938aeec8848572acd0e": {
          "model_module": "@jupyter-widgets/base",
          "model_name": "LayoutModel",
          "model_module_version": "1.2.0",
          "state": {
            "_model_module": "@jupyter-widgets/base",
            "_model_module_version": "1.2.0",
            "_model_name": "LayoutModel",
            "_view_count": null,
            "_view_module": "@jupyter-widgets/base",
            "_view_module_version": "1.2.0",
            "_view_name": "LayoutView",
            "align_content": null,
            "align_items": null,
            "align_self": null,
            "border": null,
            "bottom": null,
            "display": null,
            "flex": null,
            "flex_flow": null,
            "grid_area": null,
            "grid_auto_columns": null,
            "grid_auto_flow": null,
            "grid_auto_rows": null,
            "grid_column": null,
            "grid_gap": null,
            "grid_row": null,
            "grid_template_areas": null,
            "grid_template_columns": null,
            "grid_template_rows": null,
            "height": null,
            "justify_content": null,
            "justify_items": null,
            "left": null,
            "margin": null,
            "max_height": null,
            "max_width": null,
            "min_height": null,
            "min_width": null,
            "object_fit": null,
            "object_position": null,
            "order": null,
            "overflow": null,
            "overflow_x": null,
            "overflow_y": null,
            "padding": null,
            "right": null,
            "top": null,
            "visibility": null,
            "width": null
          }
        },
        "56e2e468a1f2472088ca0568732ee365": {
          "model_module": "@jupyter-widgets/controls",
          "model_name": "DescriptionStyleModel",
          "model_module_version": "1.5.0",
          "state": {
            "_model_module": "@jupyter-widgets/controls",
            "_model_module_version": "1.5.0",
            "_model_name": "DescriptionStyleModel",
            "_view_count": null,
            "_view_module": "@jupyter-widgets/base",
            "_view_module_version": "1.2.0",
            "_view_name": "StyleView",
            "description_width": ""
          }
        },
        "1521e2cdacac495d8c12b8317204b39e": {
          "model_module": "@jupyter-widgets/base",
          "model_name": "LayoutModel",
          "model_module_version": "1.2.0",
          "state": {
            "_model_module": "@jupyter-widgets/base",
            "_model_module_version": "1.2.0",
            "_model_name": "LayoutModel",
            "_view_count": null,
            "_view_module": "@jupyter-widgets/base",
            "_view_module_version": "1.2.0",
            "_view_name": "LayoutView",
            "align_content": null,
            "align_items": null,
            "align_self": null,
            "border": null,
            "bottom": null,
            "display": null,
            "flex": null,
            "flex_flow": null,
            "grid_area": null,
            "grid_auto_columns": null,
            "grid_auto_flow": null,
            "grid_auto_rows": null,
            "grid_column": null,
            "grid_gap": null,
            "grid_row": null,
            "grid_template_areas": null,
            "grid_template_columns": null,
            "grid_template_rows": null,
            "height": null,
            "justify_content": null,
            "justify_items": null,
            "left": null,
            "margin": null,
            "max_height": null,
            "max_width": null,
            "min_height": null,
            "min_width": null,
            "object_fit": null,
            "object_position": null,
            "order": null,
            "overflow": null,
            "overflow_x": null,
            "overflow_y": null,
            "padding": null,
            "right": null,
            "top": null,
            "visibility": null,
            "width": null
          }
        },
        "05e98f71a1a34adc822115950953d4b6": {
          "model_module": "@jupyter-widgets/controls",
          "model_name": "ProgressStyleModel",
          "model_module_version": "1.5.0",
          "state": {
            "_model_module": "@jupyter-widgets/controls",
            "_model_module_version": "1.5.0",
            "_model_name": "ProgressStyleModel",
            "_view_count": null,
            "_view_module": "@jupyter-widgets/base",
            "_view_module_version": "1.2.0",
            "_view_name": "StyleView",
            "bar_color": null,
            "description_width": ""
          }
        },
        "0917d9b7996d406cb8bd62d7887644c0": {
          "model_module": "@jupyter-widgets/base",
          "model_name": "LayoutModel",
          "model_module_version": "1.2.0",
          "state": {
            "_model_module": "@jupyter-widgets/base",
            "_model_module_version": "1.2.0",
            "_model_name": "LayoutModel",
            "_view_count": null,
            "_view_module": "@jupyter-widgets/base",
            "_view_module_version": "1.2.0",
            "_view_name": "LayoutView",
            "align_content": null,
            "align_items": null,
            "align_self": null,
            "border": null,
            "bottom": null,
            "display": null,
            "flex": null,
            "flex_flow": null,
            "grid_area": null,
            "grid_auto_columns": null,
            "grid_auto_flow": null,
            "grid_auto_rows": null,
            "grid_column": null,
            "grid_gap": null,
            "grid_row": null,
            "grid_template_areas": null,
            "grid_template_columns": null,
            "grid_template_rows": null,
            "height": null,
            "justify_content": null,
            "justify_items": null,
            "left": null,
            "margin": null,
            "max_height": null,
            "max_width": null,
            "min_height": null,
            "min_width": null,
            "object_fit": null,
            "object_position": null,
            "order": null,
            "overflow": null,
            "overflow_x": null,
            "overflow_y": null,
            "padding": null,
            "right": null,
            "top": null,
            "visibility": null,
            "width": null
          }
        },
        "431afa3e184f41a4a2f16fac80905c48": {
          "model_module": "@jupyter-widgets/controls",
          "model_name": "DescriptionStyleModel",
          "model_module_version": "1.5.0",
          "state": {
            "_model_module": "@jupyter-widgets/controls",
            "_model_module_version": "1.5.0",
            "_model_name": "DescriptionStyleModel",
            "_view_count": null,
            "_view_module": "@jupyter-widgets/base",
            "_view_module_version": "1.2.0",
            "_view_name": "StyleView",
            "description_width": ""
          }
        },
        "c11ec35e94e14643bb6b236dbd19a09e": {
          "model_module": "@jupyter-widgets/controls",
          "model_name": "HBoxModel",
          "model_module_version": "1.5.0",
          "state": {
            "_dom_classes": [],
            "_model_module": "@jupyter-widgets/controls",
            "_model_module_version": "1.5.0",
            "_model_name": "HBoxModel",
            "_view_count": null,
            "_view_module": "@jupyter-widgets/controls",
            "_view_module_version": "1.5.0",
            "_view_name": "HBoxView",
            "box_style": "",
            "children": [
              "IPY_MODEL_f5f2685ff7dd4e20bcf4bcf866aa1bab",
              "IPY_MODEL_19d2a0125ddb44c59b69b000072ddbd4",
              "IPY_MODEL_c28c38ce77f7444c8a9438cc8c0ed410"
            ],
            "layout": "IPY_MODEL_db2941669e9b40f186fd130ef4e1fd53"
          }
        },
        "f5f2685ff7dd4e20bcf4bcf866aa1bab": {
          "model_module": "@jupyter-widgets/controls",
          "model_name": "HTMLModel",
          "model_module_version": "1.5.0",
          "state": {
            "_dom_classes": [],
            "_model_module": "@jupyter-widgets/controls",
            "_model_module_version": "1.5.0",
            "_model_name": "HTMLModel",
            "_view_count": null,
            "_view_module": "@jupyter-widgets/controls",
            "_view_module_version": "1.5.0",
            "_view_name": "HTMLView",
            "description": "",
            "description_tooltip": null,
            "layout": "IPY_MODEL_eef30edbcbe74f2ca57b10415ff5368a",
            "placeholder": "​",
            "style": "IPY_MODEL_2470e83fee9b49c3bc96ee3a5418c414",
            "value": "Downloading: 100%"
          }
        },
        "19d2a0125ddb44c59b69b000072ddbd4": {
          "model_module": "@jupyter-widgets/controls",
          "model_name": "FloatProgressModel",
          "model_module_version": "1.5.0",
          "state": {
            "_dom_classes": [],
            "_model_module": "@jupyter-widgets/controls",
            "_model_module_version": "1.5.0",
            "_model_name": "FloatProgressModel",
            "_view_count": null,
            "_view_module": "@jupyter-widgets/controls",
            "_view_module_version": "1.5.0",
            "_view_name": "ProgressView",
            "bar_style": "success",
            "description": "",
            "description_tooltip": null,
            "layout": "IPY_MODEL_cfc287c5bf9241bda73f5a92acb4c5ad",
            "max": 28,
            "min": 0,
            "orientation": "horizontal",
            "style": "IPY_MODEL_1750b4ca7142494eb06943248249e98f",
            "value": 28
          }
        },
        "c28c38ce77f7444c8a9438cc8c0ed410": {
          "model_module": "@jupyter-widgets/controls",
          "model_name": "HTMLModel",
          "model_module_version": "1.5.0",
          "state": {
            "_dom_classes": [],
            "_model_module": "@jupyter-widgets/controls",
            "_model_module_version": "1.5.0",
            "_model_name": "HTMLModel",
            "_view_count": null,
            "_view_module": "@jupyter-widgets/controls",
            "_view_module_version": "1.5.0",
            "_view_name": "HTMLView",
            "description": "",
            "description_tooltip": null,
            "layout": "IPY_MODEL_f2f75dae02c4477cbf323512abb7ca3d",
            "placeholder": "​",
            "style": "IPY_MODEL_97c717e14b8944ef8b4e36d7b27ee733",
            "value": " 28.0/28.0 [00:00&lt;00:00, 717B/s]"
          }
        },
        "db2941669e9b40f186fd130ef4e1fd53": {
          "model_module": "@jupyter-widgets/base",
          "model_name": "LayoutModel",
          "model_module_version": "1.2.0",
          "state": {
            "_model_module": "@jupyter-widgets/base",
            "_model_module_version": "1.2.0",
            "_model_name": "LayoutModel",
            "_view_count": null,
            "_view_module": "@jupyter-widgets/base",
            "_view_module_version": "1.2.0",
            "_view_name": "LayoutView",
            "align_content": null,
            "align_items": null,
            "align_self": null,
            "border": null,
            "bottom": null,
            "display": null,
            "flex": null,
            "flex_flow": null,
            "grid_area": null,
            "grid_auto_columns": null,
            "grid_auto_flow": null,
            "grid_auto_rows": null,
            "grid_column": null,
            "grid_gap": null,
            "grid_row": null,
            "grid_template_areas": null,
            "grid_template_columns": null,
            "grid_template_rows": null,
            "height": null,
            "justify_content": null,
            "justify_items": null,
            "left": null,
            "margin": null,
            "max_height": null,
            "max_width": null,
            "min_height": null,
            "min_width": null,
            "object_fit": null,
            "object_position": null,
            "order": null,
            "overflow": null,
            "overflow_x": null,
            "overflow_y": null,
            "padding": null,
            "right": null,
            "top": null,
            "visibility": null,
            "width": null
          }
        },
        "eef30edbcbe74f2ca57b10415ff5368a": {
          "model_module": "@jupyter-widgets/base",
          "model_name": "LayoutModel",
          "model_module_version": "1.2.0",
          "state": {
            "_model_module": "@jupyter-widgets/base",
            "_model_module_version": "1.2.0",
            "_model_name": "LayoutModel",
            "_view_count": null,
            "_view_module": "@jupyter-widgets/base",
            "_view_module_version": "1.2.0",
            "_view_name": "LayoutView",
            "align_content": null,
            "align_items": null,
            "align_self": null,
            "border": null,
            "bottom": null,
            "display": null,
            "flex": null,
            "flex_flow": null,
            "grid_area": null,
            "grid_auto_columns": null,
            "grid_auto_flow": null,
            "grid_auto_rows": null,
            "grid_column": null,
            "grid_gap": null,
            "grid_row": null,
            "grid_template_areas": null,
            "grid_template_columns": null,
            "grid_template_rows": null,
            "height": null,
            "justify_content": null,
            "justify_items": null,
            "left": null,
            "margin": null,
            "max_height": null,
            "max_width": null,
            "min_height": null,
            "min_width": null,
            "object_fit": null,
            "object_position": null,
            "order": null,
            "overflow": null,
            "overflow_x": null,
            "overflow_y": null,
            "padding": null,
            "right": null,
            "top": null,
            "visibility": null,
            "width": null
          }
        },
        "2470e83fee9b49c3bc96ee3a5418c414": {
          "model_module": "@jupyter-widgets/controls",
          "model_name": "DescriptionStyleModel",
          "model_module_version": "1.5.0",
          "state": {
            "_model_module": "@jupyter-widgets/controls",
            "_model_module_version": "1.5.0",
            "_model_name": "DescriptionStyleModel",
            "_view_count": null,
            "_view_module": "@jupyter-widgets/base",
            "_view_module_version": "1.2.0",
            "_view_name": "StyleView",
            "description_width": ""
          }
        },
        "cfc287c5bf9241bda73f5a92acb4c5ad": {
          "model_module": "@jupyter-widgets/base",
          "model_name": "LayoutModel",
          "model_module_version": "1.2.0",
          "state": {
            "_model_module": "@jupyter-widgets/base",
            "_model_module_version": "1.2.0",
            "_model_name": "LayoutModel",
            "_view_count": null,
            "_view_module": "@jupyter-widgets/base",
            "_view_module_version": "1.2.0",
            "_view_name": "LayoutView",
            "align_content": null,
            "align_items": null,
            "align_self": null,
            "border": null,
            "bottom": null,
            "display": null,
            "flex": null,
            "flex_flow": null,
            "grid_area": null,
            "grid_auto_columns": null,
            "grid_auto_flow": null,
            "grid_auto_rows": null,
            "grid_column": null,
            "grid_gap": null,
            "grid_row": null,
            "grid_template_areas": null,
            "grid_template_columns": null,
            "grid_template_rows": null,
            "height": null,
            "justify_content": null,
            "justify_items": null,
            "left": null,
            "margin": null,
            "max_height": null,
            "max_width": null,
            "min_height": null,
            "min_width": null,
            "object_fit": null,
            "object_position": null,
            "order": null,
            "overflow": null,
            "overflow_x": null,
            "overflow_y": null,
            "padding": null,
            "right": null,
            "top": null,
            "visibility": null,
            "width": null
          }
        },
        "1750b4ca7142494eb06943248249e98f": {
          "model_module": "@jupyter-widgets/controls",
          "model_name": "ProgressStyleModel",
          "model_module_version": "1.5.0",
          "state": {
            "_model_module": "@jupyter-widgets/controls",
            "_model_module_version": "1.5.0",
            "_model_name": "ProgressStyleModel",
            "_view_count": null,
            "_view_module": "@jupyter-widgets/base",
            "_view_module_version": "1.2.0",
            "_view_name": "StyleView",
            "bar_color": null,
            "description_width": ""
          }
        },
        "f2f75dae02c4477cbf323512abb7ca3d": {
          "model_module": "@jupyter-widgets/base",
          "model_name": "LayoutModel",
          "model_module_version": "1.2.0",
          "state": {
            "_model_module": "@jupyter-widgets/base",
            "_model_module_version": "1.2.0",
            "_model_name": "LayoutModel",
            "_view_count": null,
            "_view_module": "@jupyter-widgets/base",
            "_view_module_version": "1.2.0",
            "_view_name": "LayoutView",
            "align_content": null,
            "align_items": null,
            "align_self": null,
            "border": null,
            "bottom": null,
            "display": null,
            "flex": null,
            "flex_flow": null,
            "grid_area": null,
            "grid_auto_columns": null,
            "grid_auto_flow": null,
            "grid_auto_rows": null,
            "grid_column": null,
            "grid_gap": null,
            "grid_row": null,
            "grid_template_areas": null,
            "grid_template_columns": null,
            "grid_template_rows": null,
            "height": null,
            "justify_content": null,
            "justify_items": null,
            "left": null,
            "margin": null,
            "max_height": null,
            "max_width": null,
            "min_height": null,
            "min_width": null,
            "object_fit": null,
            "object_position": null,
            "order": null,
            "overflow": null,
            "overflow_x": null,
            "overflow_y": null,
            "padding": null,
            "right": null,
            "top": null,
            "visibility": null,
            "width": null
          }
        },
        "97c717e14b8944ef8b4e36d7b27ee733": {
          "model_module": "@jupyter-widgets/controls",
          "model_name": "DescriptionStyleModel",
          "model_module_version": "1.5.0",
          "state": {
            "_model_module": "@jupyter-widgets/controls",
            "_model_module_version": "1.5.0",
            "_model_name": "DescriptionStyleModel",
            "_view_count": null,
            "_view_module": "@jupyter-widgets/base",
            "_view_module_version": "1.2.0",
            "_view_name": "StyleView",
            "description_width": ""
          }
        },
        "496cd8c2abbd43dc91ff82a5b46ff31e": {
          "model_module": "@jupyter-widgets/controls",
          "model_name": "HBoxModel",
          "model_module_version": "1.5.0",
          "state": {
            "_dom_classes": [],
            "_model_module": "@jupyter-widgets/controls",
            "_model_module_version": "1.5.0",
            "_model_name": "HBoxModel",
            "_view_count": null,
            "_view_module": "@jupyter-widgets/controls",
            "_view_module_version": "1.5.0",
            "_view_name": "HBoxView",
            "box_style": "",
            "children": [
              "IPY_MODEL_ad90c2e011394c91a5f153900b56802c",
              "IPY_MODEL_5e7406c8b78f442eac3f29969bfcdcfb",
              "IPY_MODEL_251e80d9e6b647b8b8473c433da261a3"
            ],
            "layout": "IPY_MODEL_e526116a6931475294841ae8c0b677bb"
          }
        },
        "ad90c2e011394c91a5f153900b56802c": {
          "model_module": "@jupyter-widgets/controls",
          "model_name": "HTMLModel",
          "model_module_version": "1.5.0",
          "state": {
            "_dom_classes": [],
            "_model_module": "@jupyter-widgets/controls",
            "_model_module_version": "1.5.0",
            "_model_name": "HTMLModel",
            "_view_count": null,
            "_view_module": "@jupyter-widgets/controls",
            "_view_module_version": "1.5.0",
            "_view_name": "HTMLView",
            "description": "",
            "description_tooltip": null,
            "layout": "IPY_MODEL_cc0f630b8000472ca5eaf6b57cb87e98",
            "placeholder": "​",
            "style": "IPY_MODEL_d22a40ee34d14a90b3eb2d8d4ba62227",
            "value": "Downloading: 100%"
          }
        },
        "5e7406c8b78f442eac3f29969bfcdcfb": {
          "model_module": "@jupyter-widgets/controls",
          "model_name": "FloatProgressModel",
          "model_module_version": "1.5.0",
          "state": {
            "_dom_classes": [],
            "_model_module": "@jupyter-widgets/controls",
            "_model_module_version": "1.5.0",
            "_model_name": "FloatProgressModel",
            "_view_count": null,
            "_view_module": "@jupyter-widgets/controls",
            "_view_module_version": "1.5.0",
            "_view_name": "ProgressView",
            "bar_style": "success",
            "description": "",
            "description_tooltip": null,
            "layout": "IPY_MODEL_1cf55bf7416342e0964e37fc2a3bb593",
            "max": 231508,
            "min": 0,
            "orientation": "horizontal",
            "style": "IPY_MODEL_a6a940b750fb40fba3c66327cea3e5ed",
            "value": 231508
          }
        },
        "251e80d9e6b647b8b8473c433da261a3": {
          "model_module": "@jupyter-widgets/controls",
          "model_name": "HTMLModel",
          "model_module_version": "1.5.0",
          "state": {
            "_dom_classes": [],
            "_model_module": "@jupyter-widgets/controls",
            "_model_module_version": "1.5.0",
            "_model_name": "HTMLModel",
            "_view_count": null,
            "_view_module": "@jupyter-widgets/controls",
            "_view_module_version": "1.5.0",
            "_view_name": "HTMLView",
            "description": "",
            "description_tooltip": null,
            "layout": "IPY_MODEL_2ab9b5b32ade488297f1fa2dbb9421ff",
            "placeholder": "​",
            "style": "IPY_MODEL_99aaf15d575e411590ae626e8feab6aa",
            "value": " 232k/232k [00:00&lt;00:00, 609kB/s]"
          }
        },
        "e526116a6931475294841ae8c0b677bb": {
          "model_module": "@jupyter-widgets/base",
          "model_name": "LayoutModel",
          "model_module_version": "1.2.0",
          "state": {
            "_model_module": "@jupyter-widgets/base",
            "_model_module_version": "1.2.0",
            "_model_name": "LayoutModel",
            "_view_count": null,
            "_view_module": "@jupyter-widgets/base",
            "_view_module_version": "1.2.0",
            "_view_name": "LayoutView",
            "align_content": null,
            "align_items": null,
            "align_self": null,
            "border": null,
            "bottom": null,
            "display": null,
            "flex": null,
            "flex_flow": null,
            "grid_area": null,
            "grid_auto_columns": null,
            "grid_auto_flow": null,
            "grid_auto_rows": null,
            "grid_column": null,
            "grid_gap": null,
            "grid_row": null,
            "grid_template_areas": null,
            "grid_template_columns": null,
            "grid_template_rows": null,
            "height": null,
            "justify_content": null,
            "justify_items": null,
            "left": null,
            "margin": null,
            "max_height": null,
            "max_width": null,
            "min_height": null,
            "min_width": null,
            "object_fit": null,
            "object_position": null,
            "order": null,
            "overflow": null,
            "overflow_x": null,
            "overflow_y": null,
            "padding": null,
            "right": null,
            "top": null,
            "visibility": null,
            "width": null
          }
        },
        "cc0f630b8000472ca5eaf6b57cb87e98": {
          "model_module": "@jupyter-widgets/base",
          "model_name": "LayoutModel",
          "model_module_version": "1.2.0",
          "state": {
            "_model_module": "@jupyter-widgets/base",
            "_model_module_version": "1.2.0",
            "_model_name": "LayoutModel",
            "_view_count": null,
            "_view_module": "@jupyter-widgets/base",
            "_view_module_version": "1.2.0",
            "_view_name": "LayoutView",
            "align_content": null,
            "align_items": null,
            "align_self": null,
            "border": null,
            "bottom": null,
            "display": null,
            "flex": null,
            "flex_flow": null,
            "grid_area": null,
            "grid_auto_columns": null,
            "grid_auto_flow": null,
            "grid_auto_rows": null,
            "grid_column": null,
            "grid_gap": null,
            "grid_row": null,
            "grid_template_areas": null,
            "grid_template_columns": null,
            "grid_template_rows": null,
            "height": null,
            "justify_content": null,
            "justify_items": null,
            "left": null,
            "margin": null,
            "max_height": null,
            "max_width": null,
            "min_height": null,
            "min_width": null,
            "object_fit": null,
            "object_position": null,
            "order": null,
            "overflow": null,
            "overflow_x": null,
            "overflow_y": null,
            "padding": null,
            "right": null,
            "top": null,
            "visibility": null,
            "width": null
          }
        },
        "d22a40ee34d14a90b3eb2d8d4ba62227": {
          "model_module": "@jupyter-widgets/controls",
          "model_name": "DescriptionStyleModel",
          "model_module_version": "1.5.0",
          "state": {
            "_model_module": "@jupyter-widgets/controls",
            "_model_module_version": "1.5.0",
            "_model_name": "DescriptionStyleModel",
            "_view_count": null,
            "_view_module": "@jupyter-widgets/base",
            "_view_module_version": "1.2.0",
            "_view_name": "StyleView",
            "description_width": ""
          }
        },
        "1cf55bf7416342e0964e37fc2a3bb593": {
          "model_module": "@jupyter-widgets/base",
          "model_name": "LayoutModel",
          "model_module_version": "1.2.0",
          "state": {
            "_model_module": "@jupyter-widgets/base",
            "_model_module_version": "1.2.0",
            "_model_name": "LayoutModel",
            "_view_count": null,
            "_view_module": "@jupyter-widgets/base",
            "_view_module_version": "1.2.0",
            "_view_name": "LayoutView",
            "align_content": null,
            "align_items": null,
            "align_self": null,
            "border": null,
            "bottom": null,
            "display": null,
            "flex": null,
            "flex_flow": null,
            "grid_area": null,
            "grid_auto_columns": null,
            "grid_auto_flow": null,
            "grid_auto_rows": null,
            "grid_column": null,
            "grid_gap": null,
            "grid_row": null,
            "grid_template_areas": null,
            "grid_template_columns": null,
            "grid_template_rows": null,
            "height": null,
            "justify_content": null,
            "justify_items": null,
            "left": null,
            "margin": null,
            "max_height": null,
            "max_width": null,
            "min_height": null,
            "min_width": null,
            "object_fit": null,
            "object_position": null,
            "order": null,
            "overflow": null,
            "overflow_x": null,
            "overflow_y": null,
            "padding": null,
            "right": null,
            "top": null,
            "visibility": null,
            "width": null
          }
        },
        "a6a940b750fb40fba3c66327cea3e5ed": {
          "model_module": "@jupyter-widgets/controls",
          "model_name": "ProgressStyleModel",
          "model_module_version": "1.5.0",
          "state": {
            "_model_module": "@jupyter-widgets/controls",
            "_model_module_version": "1.5.0",
            "_model_name": "ProgressStyleModel",
            "_view_count": null,
            "_view_module": "@jupyter-widgets/base",
            "_view_module_version": "1.2.0",
            "_view_name": "StyleView",
            "bar_color": null,
            "description_width": ""
          }
        },
        "2ab9b5b32ade488297f1fa2dbb9421ff": {
          "model_module": "@jupyter-widgets/base",
          "model_name": "LayoutModel",
          "model_module_version": "1.2.0",
          "state": {
            "_model_module": "@jupyter-widgets/base",
            "_model_module_version": "1.2.0",
            "_model_name": "LayoutModel",
            "_view_count": null,
            "_view_module": "@jupyter-widgets/base",
            "_view_module_version": "1.2.0",
            "_view_name": "LayoutView",
            "align_content": null,
            "align_items": null,
            "align_self": null,
            "border": null,
            "bottom": null,
            "display": null,
            "flex": null,
            "flex_flow": null,
            "grid_area": null,
            "grid_auto_columns": null,
            "grid_auto_flow": null,
            "grid_auto_rows": null,
            "grid_column": null,
            "grid_gap": null,
            "grid_row": null,
            "grid_template_areas": null,
            "grid_template_columns": null,
            "grid_template_rows": null,
            "height": null,
            "justify_content": null,
            "justify_items": null,
            "left": null,
            "margin": null,
            "max_height": null,
            "max_width": null,
            "min_height": null,
            "min_width": null,
            "object_fit": null,
            "object_position": null,
            "order": null,
            "overflow": null,
            "overflow_x": null,
            "overflow_y": null,
            "padding": null,
            "right": null,
            "top": null,
            "visibility": null,
            "width": null
          }
        },
        "99aaf15d575e411590ae626e8feab6aa": {
          "model_module": "@jupyter-widgets/controls",
          "model_name": "DescriptionStyleModel",
          "model_module_version": "1.5.0",
          "state": {
            "_model_module": "@jupyter-widgets/controls",
            "_model_module_version": "1.5.0",
            "_model_name": "DescriptionStyleModel",
            "_view_count": null,
            "_view_module": "@jupyter-widgets/base",
            "_view_module_version": "1.2.0",
            "_view_name": "StyleView",
            "description_width": ""
          }
        }
      }
    }
  },
  "nbformat": 4,
  "nbformat_minor": 0
}